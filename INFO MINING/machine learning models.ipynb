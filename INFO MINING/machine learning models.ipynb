{
 "cells": [
  {
   "cell_type": "markdown",
   "id": "1f1f0c2a",
   "metadata": {},
   "source": [
    "## Linear Regression"
   ]
  },
  {
   "cell_type": "code",
   "execution_count": 1,
   "id": "e96f883d",
   "metadata": {},
   "outputs": [],
   "source": [
    "import seaborn as sns\n",
    "def plot_cnf_matirx(cnf_matrix,description):\n",
    "    class_names = [0,1]\n",
    "    fig,ax = plt.subplots()\n",
    "    tick_marks = np.arange(len(class_names))\n",
    "    plt.xticks(tick_marks,class_names)\n",
    "    plt.yticks(tick_marks,class_names)\n",
    "\n",
    "#create a heat map\n",
    "    sns.heatmap(pd.DataFrame(cnf_matrix), annot = True, cmap = 'OrRd',\n",
    "               fmt = 'g')\n",
    "    ax.xaxis.set_label_position('top')\n",
    "    plt.tight_layout()\n",
    "    plt.title(description, y = 1.1,fontsize=16)\n",
    "    plt.ylabel('Reference',fontsize=12)\n",
    "    plt.xlabel('Precision',fontsize=12)\n",
    "    plt.show()"
   ]
  },
  {
   "cell_type": "code",
   "execution_count": 2,
   "id": "3b436032",
   "metadata": {},
   "outputs": [],
   "source": [
    "import numpy as np\n",
    "import matplotlib.pyplot as plt\n",
    "import pandas as pd \n",
    "import math\n",
    "from sklearn import datasets, linear_model"
   ]
  },
  {
   "cell_type": "code",
   "execution_count": 3,
   "id": "9317735e",
   "metadata": {},
   "outputs": [],
   "source": [
    "cardio = pd.read_csv('cardio.csv', header=0) # the first line of data is header"
   ]
  },
  {
   "cell_type": "code",
   "execution_count": 4,
   "id": "8fd0508e",
   "metadata": {},
   "outputs": [
    {
     "data": {
      "text/html": [
       "<div>\n",
       "<style scoped>\n",
       "    .dataframe tbody tr th:only-of-type {\n",
       "        vertical-align: middle;\n",
       "    }\n",
       "\n",
       "    .dataframe tbody tr th {\n",
       "        vertical-align: top;\n",
       "    }\n",
       "\n",
       "    .dataframe thead th {\n",
       "        text-align: right;\n",
       "    }\n",
       "</style>\n",
       "<table border=\"1\" class=\"dataframe\">\n",
       "  <thead>\n",
       "    <tr style=\"text-align: right;\">\n",
       "      <th></th>\n",
       "      <th>Unnamed: 0</th>\n",
       "      <th>age</th>\n",
       "      <th>gender</th>\n",
       "      <th>height</th>\n",
       "      <th>weight</th>\n",
       "      <th>ap_hi</th>\n",
       "      <th>ap_lo</th>\n",
       "      <th>cholesterol</th>\n",
       "      <th>gluc</th>\n",
       "      <th>smoke</th>\n",
       "      <th>alco</th>\n",
       "      <th>active</th>\n",
       "      <th>cardio</th>\n",
       "    </tr>\n",
       "  </thead>\n",
       "  <tbody>\n",
       "    <tr>\n",
       "      <th>0</th>\n",
       "      <td>0</td>\n",
       "      <td>50</td>\n",
       "      <td>2</td>\n",
       "      <td>168</td>\n",
       "      <td>62.0</td>\n",
       "      <td>110</td>\n",
       "      <td>80</td>\n",
       "      <td>1</td>\n",
       "      <td>1</td>\n",
       "      <td>0</td>\n",
       "      <td>0</td>\n",
       "      <td>1</td>\n",
       "      <td>0</td>\n",
       "    </tr>\n",
       "    <tr>\n",
       "      <th>1</th>\n",
       "      <td>1</td>\n",
       "      <td>55</td>\n",
       "      <td>1</td>\n",
       "      <td>156</td>\n",
       "      <td>85.0</td>\n",
       "      <td>140</td>\n",
       "      <td>90</td>\n",
       "      <td>3</td>\n",
       "      <td>1</td>\n",
       "      <td>0</td>\n",
       "      <td>0</td>\n",
       "      <td>1</td>\n",
       "      <td>1</td>\n",
       "    </tr>\n",
       "    <tr>\n",
       "      <th>2</th>\n",
       "      <td>2</td>\n",
       "      <td>51</td>\n",
       "      <td>1</td>\n",
       "      <td>165</td>\n",
       "      <td>64.0</td>\n",
       "      <td>130</td>\n",
       "      <td>70</td>\n",
       "      <td>3</td>\n",
       "      <td>1</td>\n",
       "      <td>0</td>\n",
       "      <td>0</td>\n",
       "      <td>0</td>\n",
       "      <td>1</td>\n",
       "    </tr>\n",
       "    <tr>\n",
       "      <th>3</th>\n",
       "      <td>3</td>\n",
       "      <td>48</td>\n",
       "      <td>2</td>\n",
       "      <td>169</td>\n",
       "      <td>82.0</td>\n",
       "      <td>150</td>\n",
       "      <td>100</td>\n",
       "      <td>1</td>\n",
       "      <td>1</td>\n",
       "      <td>0</td>\n",
       "      <td>0</td>\n",
       "      <td>1</td>\n",
       "      <td>1</td>\n",
       "    </tr>\n",
       "    <tr>\n",
       "      <th>4</th>\n",
       "      <td>4</td>\n",
       "      <td>47</td>\n",
       "      <td>1</td>\n",
       "      <td>156</td>\n",
       "      <td>56.0</td>\n",
       "      <td>100</td>\n",
       "      <td>60</td>\n",
       "      <td>1</td>\n",
       "      <td>1</td>\n",
       "      <td>0</td>\n",
       "      <td>0</td>\n",
       "      <td>0</td>\n",
       "      <td>0</td>\n",
       "    </tr>\n",
       "  </tbody>\n",
       "</table>\n",
       "</div>"
      ],
      "text/plain": [
       "   Unnamed: 0  age  gender  height  weight  ap_hi  ap_lo  cholesterol  gluc  \\\n",
       "0           0   50       2     168    62.0    110     80            1     1   \n",
       "1           1   55       1     156    85.0    140     90            3     1   \n",
       "2           2   51       1     165    64.0    130     70            3     1   \n",
       "3           3   48       2     169    82.0    150    100            1     1   \n",
       "4           4   47       1     156    56.0    100     60            1     1   \n",
       "\n",
       "   smoke  alco  active  cardio  \n",
       "0      0     0       1       0  \n",
       "1      0     0       1       1  \n",
       "2      0     0       0       1  \n",
       "3      0     0       1       1  \n",
       "4      0     0       0       0  "
      ]
     },
     "execution_count": 4,
     "metadata": {},
     "output_type": "execute_result"
    }
   ],
   "source": [
    "cardio.head()"
   ]
  },
  {
   "cell_type": "code",
   "execution_count": 5,
   "id": "7c59af8b",
   "metadata": {},
   "outputs": [
    {
     "data": {
      "text/plain": [
       "Unnamed: 0     0\n",
       "age            0\n",
       "gender         0\n",
       "height         0\n",
       "weight         0\n",
       "ap_hi          0\n",
       "ap_lo          0\n",
       "cholesterol    0\n",
       "gluc           0\n",
       "smoke          0\n",
       "alco           0\n",
       "active         0\n",
       "cardio         0\n",
       "dtype: int64"
      ]
     },
     "execution_count": 5,
     "metadata": {},
     "output_type": "execute_result"
    }
   ],
   "source": [
    "cardio.isnull().sum()"
   ]
  },
  {
   "cell_type": "code",
   "execution_count": 6,
   "id": "9511fad8",
   "metadata": {},
   "outputs": [
    {
     "data": {
      "text/plain": [
       "(68426, 13)"
      ]
     },
     "execution_count": 6,
     "metadata": {},
     "output_type": "execute_result"
    }
   ],
   "source": [
    "cardio.shape"
   ]
  },
  {
   "cell_type": "code",
   "execution_count": 7,
   "id": "35cc0e1d",
   "metadata": {},
   "outputs": [
    {
     "data": {
      "text/plain": [
       "Index(['Unnamed: 0', 'age', 'gender', 'height', 'weight', 'ap_hi', 'ap_lo',\n",
       "       'cholesterol', 'gluc', 'smoke', 'alco', 'active', 'cardio'],\n",
       "      dtype='object')"
      ]
     },
     "execution_count": 7,
     "metadata": {},
     "output_type": "execute_result"
    }
   ],
   "source": [
    "cardio.columns"
   ]
  },
  {
   "cell_type": "code",
   "execution_count": 8,
   "id": "5dffa528",
   "metadata": {},
   "outputs": [
    {
     "data": {
      "text/plain": [
       "Index(['Unnamed: 0', 'age', 'gender', 'height', 'weight', 'ap_hi', 'ap_lo',\n",
       "       'cholesterol', 'gluc', 'smoke', 'alco', 'active', 'cardio'],\n",
       "      dtype='object')"
      ]
     },
     "execution_count": 8,
     "metadata": {},
     "output_type": "execute_result"
    }
   ],
   "source": [
    "# one-hot vectors for df_data\n",
    "cardio_new = pd.get_dummies(cardio)\n",
    "cardio_new.columns"
   ]
  },
  {
   "cell_type": "code",
   "execution_count": 9,
   "id": "bd331d9e",
   "metadata": {},
   "outputs": [
    {
     "name": "stderr",
     "output_type": "stream",
     "text": [
      "/var/folders/69/x25tnjb926g72_vkx30nqdhw0000gn/T/ipykernel_35312/2142022311.py:1: FutureWarning: The frame.append method is deprecated and will be removed from pandas in a future version. Use pandas.concat instead.\n",
      "  cardio_new.head(2).append(cardio_new.tail(2))\n"
     ]
    },
    {
     "data": {
      "text/html": [
       "<div>\n",
       "<style scoped>\n",
       "    .dataframe tbody tr th:only-of-type {\n",
       "        vertical-align: middle;\n",
       "    }\n",
       "\n",
       "    .dataframe tbody tr th {\n",
       "        vertical-align: top;\n",
       "    }\n",
       "\n",
       "    .dataframe thead th {\n",
       "        text-align: right;\n",
       "    }\n",
       "</style>\n",
       "<table border=\"1\" class=\"dataframe\">\n",
       "  <thead>\n",
       "    <tr style=\"text-align: right;\">\n",
       "      <th></th>\n",
       "      <th>Unnamed: 0</th>\n",
       "      <th>age</th>\n",
       "      <th>gender</th>\n",
       "      <th>height</th>\n",
       "      <th>weight</th>\n",
       "      <th>ap_hi</th>\n",
       "      <th>ap_lo</th>\n",
       "      <th>cholesterol</th>\n",
       "      <th>gluc</th>\n",
       "      <th>smoke</th>\n",
       "      <th>alco</th>\n",
       "      <th>active</th>\n",
       "      <th>cardio</th>\n",
       "    </tr>\n",
       "  </thead>\n",
       "  <tbody>\n",
       "    <tr>\n",
       "      <th>0</th>\n",
       "      <td>0</td>\n",
       "      <td>50</td>\n",
       "      <td>2</td>\n",
       "      <td>168</td>\n",
       "      <td>62.0</td>\n",
       "      <td>110</td>\n",
       "      <td>80</td>\n",
       "      <td>1</td>\n",
       "      <td>1</td>\n",
       "      <td>0</td>\n",
       "      <td>0</td>\n",
       "      <td>1</td>\n",
       "      <td>0</td>\n",
       "    </tr>\n",
       "    <tr>\n",
       "      <th>1</th>\n",
       "      <td>1</td>\n",
       "      <td>55</td>\n",
       "      <td>1</td>\n",
       "      <td>156</td>\n",
       "      <td>85.0</td>\n",
       "      <td>140</td>\n",
       "      <td>90</td>\n",
       "      <td>3</td>\n",
       "      <td>1</td>\n",
       "      <td>0</td>\n",
       "      <td>0</td>\n",
       "      <td>1</td>\n",
       "      <td>1</td>\n",
       "    </tr>\n",
       "    <tr>\n",
       "      <th>68424</th>\n",
       "      <td>69998</td>\n",
       "      <td>61</td>\n",
       "      <td>1</td>\n",
       "      <td>163</td>\n",
       "      <td>72.0</td>\n",
       "      <td>135</td>\n",
       "      <td>80</td>\n",
       "      <td>1</td>\n",
       "      <td>2</td>\n",
       "      <td>0</td>\n",
       "      <td>0</td>\n",
       "      <td>0</td>\n",
       "      <td>1</td>\n",
       "    </tr>\n",
       "    <tr>\n",
       "      <th>68425</th>\n",
       "      <td>69999</td>\n",
       "      <td>56</td>\n",
       "      <td>1</td>\n",
       "      <td>170</td>\n",
       "      <td>72.0</td>\n",
       "      <td>120</td>\n",
       "      <td>80</td>\n",
       "      <td>2</td>\n",
       "      <td>1</td>\n",
       "      <td>0</td>\n",
       "      <td>0</td>\n",
       "      <td>1</td>\n",
       "      <td>0</td>\n",
       "    </tr>\n",
       "  </tbody>\n",
       "</table>\n",
       "</div>"
      ],
      "text/plain": [
       "       Unnamed: 0  age  gender  height  weight  ap_hi  ap_lo  cholesterol  \\\n",
       "0               0   50       2     168    62.0    110     80            1   \n",
       "1               1   55       1     156    85.0    140     90            3   \n",
       "68424       69998   61       1     163    72.0    135     80            1   \n",
       "68425       69999   56       1     170    72.0    120     80            2   \n",
       "\n",
       "       gluc  smoke  alco  active  cardio  \n",
       "0         1      0     0       1       0  \n",
       "1         1      0     0       1       1  \n",
       "68424     2      0     0       0       1  \n",
       "68425     1      0     0       1       0  "
      ]
     },
     "execution_count": 9,
     "metadata": {},
     "output_type": "execute_result"
    }
   ],
   "source": [
    "cardio_new.head(2).append(cardio_new.tail(2))"
   ]
  },
  {
   "cell_type": "code",
   "execution_count": 10,
   "id": "f3b1f5f0",
   "metadata": {},
   "outputs": [],
   "source": [
    "df_X = cardio_new.drop(columns=['cardio'])\n",
    "df_y = cardio_new[['cardio']]"
   ]
  },
  {
   "cell_type": "code",
   "execution_count": 11,
   "id": "5e810ef0",
   "metadata": {},
   "outputs": [
    {
     "data": {
      "text/html": [
       "<div>\n",
       "<style scoped>\n",
       "    .dataframe tbody tr th:only-of-type {\n",
       "        vertical-align: middle;\n",
       "    }\n",
       "\n",
       "    .dataframe tbody tr th {\n",
       "        vertical-align: top;\n",
       "    }\n",
       "\n",
       "    .dataframe thead th {\n",
       "        text-align: right;\n",
       "    }\n",
       "</style>\n",
       "<table border=\"1\" class=\"dataframe\">\n",
       "  <thead>\n",
       "    <tr style=\"text-align: right;\">\n",
       "      <th></th>\n",
       "      <th>Unnamed: 0</th>\n",
       "      <th>age</th>\n",
       "      <th>gender</th>\n",
       "      <th>height</th>\n",
       "      <th>weight</th>\n",
       "      <th>ap_hi</th>\n",
       "      <th>ap_lo</th>\n",
       "      <th>cholesterol</th>\n",
       "      <th>gluc</th>\n",
       "      <th>smoke</th>\n",
       "      <th>alco</th>\n",
       "      <th>active</th>\n",
       "    </tr>\n",
       "  </thead>\n",
       "  <tbody>\n",
       "    <tr>\n",
       "      <th>0</th>\n",
       "      <td>0</td>\n",
       "      <td>50</td>\n",
       "      <td>2</td>\n",
       "      <td>168</td>\n",
       "      <td>62.0</td>\n",
       "      <td>110</td>\n",
       "      <td>80</td>\n",
       "      <td>1</td>\n",
       "      <td>1</td>\n",
       "      <td>0</td>\n",
       "      <td>0</td>\n",
       "      <td>1</td>\n",
       "    </tr>\n",
       "    <tr>\n",
       "      <th>1</th>\n",
       "      <td>1</td>\n",
       "      <td>55</td>\n",
       "      <td>1</td>\n",
       "      <td>156</td>\n",
       "      <td>85.0</td>\n",
       "      <td>140</td>\n",
       "      <td>90</td>\n",
       "      <td>3</td>\n",
       "      <td>1</td>\n",
       "      <td>0</td>\n",
       "      <td>0</td>\n",
       "      <td>1</td>\n",
       "    </tr>\n",
       "    <tr>\n",
       "      <th>2</th>\n",
       "      <td>2</td>\n",
       "      <td>51</td>\n",
       "      <td>1</td>\n",
       "      <td>165</td>\n",
       "      <td>64.0</td>\n",
       "      <td>130</td>\n",
       "      <td>70</td>\n",
       "      <td>3</td>\n",
       "      <td>1</td>\n",
       "      <td>0</td>\n",
       "      <td>0</td>\n",
       "      <td>0</td>\n",
       "    </tr>\n",
       "    <tr>\n",
       "      <th>3</th>\n",
       "      <td>3</td>\n",
       "      <td>48</td>\n",
       "      <td>2</td>\n",
       "      <td>169</td>\n",
       "      <td>82.0</td>\n",
       "      <td>150</td>\n",
       "      <td>100</td>\n",
       "      <td>1</td>\n",
       "      <td>1</td>\n",
       "      <td>0</td>\n",
       "      <td>0</td>\n",
       "      <td>1</td>\n",
       "    </tr>\n",
       "    <tr>\n",
       "      <th>4</th>\n",
       "      <td>4</td>\n",
       "      <td>47</td>\n",
       "      <td>1</td>\n",
       "      <td>156</td>\n",
       "      <td>56.0</td>\n",
       "      <td>100</td>\n",
       "      <td>60</td>\n",
       "      <td>1</td>\n",
       "      <td>1</td>\n",
       "      <td>0</td>\n",
       "      <td>0</td>\n",
       "      <td>0</td>\n",
       "    </tr>\n",
       "  </tbody>\n",
       "</table>\n",
       "</div>"
      ],
      "text/plain": [
       "   Unnamed: 0  age  gender  height  weight  ap_hi  ap_lo  cholesterol  gluc  \\\n",
       "0           0   50       2     168    62.0    110     80            1     1   \n",
       "1           1   55       1     156    85.0    140     90            3     1   \n",
       "2           2   51       1     165    64.0    130     70            3     1   \n",
       "3           3   48       2     169    82.0    150    100            1     1   \n",
       "4           4   47       1     156    56.0    100     60            1     1   \n",
       "\n",
       "   smoke  alco  active  \n",
       "0      0     0       1  \n",
       "1      0     0       1  \n",
       "2      0     0       0  \n",
       "3      0     0       1  \n",
       "4      0     0       0  "
      ]
     },
     "execution_count": 11,
     "metadata": {},
     "output_type": "execute_result"
    }
   ],
   "source": [
    "df_X.head()"
   ]
  },
  {
   "cell_type": "code",
   "execution_count": 12,
   "id": "c1d566af",
   "metadata": {},
   "outputs": [
    {
     "data": {
      "text/html": [
       "<div>\n",
       "<style scoped>\n",
       "    .dataframe tbody tr th:only-of-type {\n",
       "        vertical-align: middle;\n",
       "    }\n",
       "\n",
       "    .dataframe tbody tr th {\n",
       "        vertical-align: top;\n",
       "    }\n",
       "\n",
       "    .dataframe thead th {\n",
       "        text-align: right;\n",
       "    }\n",
       "</style>\n",
       "<table border=\"1\" class=\"dataframe\">\n",
       "  <thead>\n",
       "    <tr style=\"text-align: right;\">\n",
       "      <th></th>\n",
       "      <th>cardio</th>\n",
       "    </tr>\n",
       "  </thead>\n",
       "  <tbody>\n",
       "    <tr>\n",
       "      <th>0</th>\n",
       "      <td>0</td>\n",
       "    </tr>\n",
       "    <tr>\n",
       "      <th>1</th>\n",
       "      <td>1</td>\n",
       "    </tr>\n",
       "    <tr>\n",
       "      <th>2</th>\n",
       "      <td>1</td>\n",
       "    </tr>\n",
       "    <tr>\n",
       "      <th>3</th>\n",
       "      <td>1</td>\n",
       "    </tr>\n",
       "    <tr>\n",
       "      <th>4</th>\n",
       "      <td>0</td>\n",
       "    </tr>\n",
       "  </tbody>\n",
       "</table>\n",
       "</div>"
      ],
      "text/plain": [
       "   cardio\n",
       "0       0\n",
       "1       1\n",
       "2       1\n",
       "3       1\n",
       "4       0"
      ]
     },
     "execution_count": 12,
     "metadata": {},
     "output_type": "execute_result"
    }
   ],
   "source": [
    "df_y.head()"
   ]
  },
  {
   "cell_type": "code",
   "execution_count": 13,
   "id": "cf25a490",
   "metadata": {},
   "outputs": [],
   "source": [
    "# Standard ML Models for comparison\n",
    "from sklearn.linear_model import LinearRegression\n",
    "\n",
    "# Splitting data into training/testing\n",
    "from sklearn.model_selection import train_test_split\n",
    "\n",
    "# Metrics\n",
    "from sklearn.metrics import mean_squared_error, mean_absolute_error, median_absolute_error"
   ]
  },
  {
   "cell_type": "code",
   "execution_count": 14,
   "id": "f00fe528",
   "metadata": {},
   "outputs": [],
   "source": [
    "# 75% is for training and 25% is for testing\n",
    "X_train, X_test, y_train, y_test = train_test_split(df_X, df_y, \n",
    "                                                    test_size = 0.25,\n",
    "                                                    random_state=123)"
   ]
  },
  {
   "cell_type": "code",
   "execution_count": 15,
   "id": "eec8238b",
   "metadata": {},
   "outputs": [],
   "source": [
    "feature_train = X_train[['age', 'gender','weight','ap_hi','ap_lo','cholesterol','gluc','smoke','alco','active']]"
   ]
  },
  {
   "cell_type": "code",
   "execution_count": 16,
   "id": "81d0007d",
   "metadata": {},
   "outputs": [
    {
     "data": {
      "text/html": [
       "<div>\n",
       "<style scoped>\n",
       "    .dataframe tbody tr th:only-of-type {\n",
       "        vertical-align: middle;\n",
       "    }\n",
       "\n",
       "    .dataframe tbody tr th {\n",
       "        vertical-align: top;\n",
       "    }\n",
       "\n",
       "    .dataframe thead th {\n",
       "        text-align: right;\n",
       "    }\n",
       "</style>\n",
       "<table border=\"1\" class=\"dataframe\">\n",
       "  <thead>\n",
       "    <tr style=\"text-align: right;\">\n",
       "      <th></th>\n",
       "      <th>age</th>\n",
       "      <th>gender</th>\n",
       "      <th>weight</th>\n",
       "      <th>ap_hi</th>\n",
       "      <th>ap_lo</th>\n",
       "      <th>cholesterol</th>\n",
       "      <th>gluc</th>\n",
       "      <th>smoke</th>\n",
       "      <th>alco</th>\n",
       "      <th>active</th>\n",
       "    </tr>\n",
       "  </thead>\n",
       "  <tbody>\n",
       "    <tr>\n",
       "      <th>21481</th>\n",
       "      <td>54</td>\n",
       "      <td>1</td>\n",
       "      <td>90.0</td>\n",
       "      <td>120</td>\n",
       "      <td>80</td>\n",
       "      <td>2</td>\n",
       "      <td>2</td>\n",
       "      <td>0</td>\n",
       "      <td>0</td>\n",
       "      <td>1</td>\n",
       "    </tr>\n",
       "    <tr>\n",
       "      <th>57400</th>\n",
       "      <td>59</td>\n",
       "      <td>1</td>\n",
       "      <td>84.0</td>\n",
       "      <td>100</td>\n",
       "      <td>80</td>\n",
       "      <td>3</td>\n",
       "      <td>1</td>\n",
       "      <td>0</td>\n",
       "      <td>0</td>\n",
       "      <td>1</td>\n",
       "    </tr>\n",
       "    <tr>\n",
       "      <th>46598</th>\n",
       "      <td>54</td>\n",
       "      <td>1</td>\n",
       "      <td>65.0</td>\n",
       "      <td>120</td>\n",
       "      <td>80</td>\n",
       "      <td>1</td>\n",
       "      <td>1</td>\n",
       "      <td>0</td>\n",
       "      <td>0</td>\n",
       "      <td>0</td>\n",
       "    </tr>\n",
       "    <tr>\n",
       "      <th>34103</th>\n",
       "      <td>62</td>\n",
       "      <td>2</td>\n",
       "      <td>73.0</td>\n",
       "      <td>130</td>\n",
       "      <td>80</td>\n",
       "      <td>2</td>\n",
       "      <td>1</td>\n",
       "      <td>0</td>\n",
       "      <td>0</td>\n",
       "      <td>1</td>\n",
       "    </tr>\n",
       "    <tr>\n",
       "      <th>46269</th>\n",
       "      <td>41</td>\n",
       "      <td>2</td>\n",
       "      <td>59.0</td>\n",
       "      <td>120</td>\n",
       "      <td>80</td>\n",
       "      <td>1</td>\n",
       "      <td>1</td>\n",
       "      <td>0</td>\n",
       "      <td>0</td>\n",
       "      <td>0</td>\n",
       "    </tr>\n",
       "  </tbody>\n",
       "</table>\n",
       "</div>"
      ],
      "text/plain": [
       "       age  gender  weight  ap_hi  ap_lo  cholesterol  gluc  smoke  alco  \\\n",
       "21481   54       1    90.0    120     80            2     2      0     0   \n",
       "57400   59       1    84.0    100     80            3     1      0     0   \n",
       "46598   54       1    65.0    120     80            1     1      0     0   \n",
       "34103   62       2    73.0    130     80            2     1      0     0   \n",
       "46269   41       2    59.0    120     80            1     1      0     0   \n",
       "\n",
       "       active  \n",
       "21481       1  \n",
       "57400       1  \n",
       "46598       0  \n",
       "34103       1  \n",
       "46269       0  "
      ]
     },
     "execution_count": 16,
     "metadata": {},
     "output_type": "execute_result"
    }
   ],
   "source": [
    "feature_train.head()"
   ]
  },
  {
   "cell_type": "code",
   "execution_count": 17,
   "id": "b0642247",
   "metadata": {},
   "outputs": [
    {
     "data": {
      "text/plain": [
       "age             52.795612\n",
       "gender           1.349500\n",
       "weight          74.098494\n",
       "ap_hi          126.406224\n",
       "ap_lo           81.185039\n",
       "cholesterol      1.362965\n",
       "gluc             1.223855\n",
       "smoke            0.087784\n",
       "alco             0.053372\n",
       "active           0.803562\n",
       "dtype: float64"
      ]
     },
     "execution_count": 17,
     "metadata": {},
     "output_type": "execute_result"
    }
   ],
   "source": [
    "feature_train.mean()"
   ]
  },
  {
   "cell_type": "code",
   "execution_count": 18,
   "id": "9b846a6b",
   "metadata": {},
   "outputs": [
    {
     "data": {
      "text/plain": [
       "LinearRegression()"
      ]
     },
     "execution_count": 18,
     "metadata": {},
     "output_type": "execute_result"
    }
   ],
   "source": [
    "lr = LinearRegression()\n",
    "lr.fit(feature_train, y_train)"
   ]
  },
  {
   "cell_type": "code",
   "execution_count": 19,
   "id": "c88a7ef0",
   "metadata": {},
   "outputs": [
    {
     "name": "stdout",
     "output_type": "stream",
     "text": [
      "       age  gender  weight  ap_hi  ap_lo  cholesterol  gluc  smoke  alco  \\\n",
      "62946   50       2    80.0    120     80            1     1      0     0   \n",
      "760     54       1    75.0    160     90            3     1      0     0   \n",
      "63094   56       2    75.0    120     80            1     1      0     0   \n",
      "30212   63       2    62.0    120     80            2     1      0     0   \n",
      "20716   56       2    80.0    150     90            1     1      0     0   \n",
      "...    ...     ...     ...    ...    ...          ...   ...    ...   ...   \n",
      "50571   51       1    99.0    130     80            1     1      0     0   \n",
      "31229   47       1    51.0    130     80            1     1      0     0   \n",
      "16805   51       1   124.0    160     90            2     1      0     0   \n",
      "61265   49       1    77.0    150     90            3     2      0     0   \n",
      "33487   52       1    98.0    100     60            2     2      0     0   \n",
      "\n",
      "       active  \n",
      "62946       0  \n",
      "760         1  \n",
      "63094       1  \n",
      "30212       1  \n",
      "20716       1  \n",
      "...       ...  \n",
      "50571       1  \n",
      "31229       1  \n",
      "16805       1  \n",
      "61265       1  \n",
      "33487       1  \n",
      "\n",
      "[17107 rows x 10 columns]\n"
     ]
    }
   ],
   "source": [
    "# Metrics\n",
    "feature_test = X_test[['age', 'gender','weight','ap_hi','ap_lo','cholesterol','gluc','smoke','alco','active']]\n",
    "print(feature_test)"
   ]
  },
  {
   "cell_type": "code",
   "execution_count": 20,
   "id": "d73ec71e",
   "metadata": {},
   "outputs": [
    {
     "name": "stdout",
     "output_type": "stream",
     "text": [
      "[[0.41030862]\n",
      " [1.04202182]\n",
      " [0.41699764]\n",
      " ...\n",
      " [1.01216051]\n",
      " [0.86874972]\n",
      " [0.25721799]]\n",
      "17107\n"
     ]
    }
   ],
   "source": [
    "predictions = lr.predict(feature_test)\n",
    "print(predictions)\n",
    "print(len(predictions))"
   ]
  },
  {
   "cell_type": "code",
   "execution_count": 21,
   "id": "b95c0dcf",
   "metadata": {},
   "outputs": [
    {
     "name": "stdout",
     "output_type": "stream",
     "text": [
      "Using Linear Regression, MAE is 0.39\n",
      "Using Linear Regression, RMSE is 0.44\n"
     ]
    },
    {
     "name": "stderr",
     "output_type": "stream",
     "text": [
      "/Users/pzj/opt/anaconda3/lib/python3.9/site-packages/numpy/core/fromnumeric.py:3438: FutureWarning: In a future version, DataFrame.mean(axis=None) will return a scalar mean over the entire DataFrame. To retain the old behavior, use 'frame.mean(axis=0)' or just 'frame.mean()'\n",
      "  return mean(axis=axis, dtype=dtype, out=out, **kwargs)\n"
     ]
    }
   ],
   "source": [
    "mae = np.mean(abs(predictions - y_test))\n",
    "rmse = np.sqrt(np.mean((predictions - y_test) ** 2))\n",
    "print('Using Linear Regression, MAE is %0.2f' %  mae)  \n",
    "print('Using Linear Regression, RMSE is %0.2f' %  rmse)    "
   ]
  },
  {
   "cell_type": "code",
   "execution_count": 22,
   "id": "6f75d513",
   "metadata": {},
   "outputs": [
    {
     "name": "stdout",
     "output_type": "stream",
     "text": [
      "w0: [-1.75193233]\n",
      "w1,w2,w3,w4,w5,w6,w7,w8,w9,w10: [[ 0.01037894 -0.01045717  0.00200213  0.01053025  0.00204573  0.09682875\n",
      "  -0.02007914 -0.03072393 -0.03355926 -0.04557396]]\n"
     ]
    }
   ],
   "source": [
    "print('w0:',lr.intercept_)\n",
    "print('w1,w2,w3,w4,w5,w6,w7,w8,w9,w10:',lr.coef_)"
   ]
  },
  {
   "cell_type": "code",
   "execution_count": 23,
   "id": "2f090354",
   "metadata": {},
   "outputs": [
    {
     "name": "stdout",
     "output_type": "stream",
     "text": [
      "       cardio\n",
      "62946       0\n",
      "760         1\n",
      "63094       0\n",
      "30212       1\n",
      "20716       1\n",
      "...       ...\n",
      "50571       1\n",
      "31229       0\n",
      "16805       1\n",
      "61265       1\n",
      "33487       0\n",
      "\n",
      "[17107 rows x 1 columns]\n"
     ]
    }
   ],
   "source": [
    "print(y_test)"
   ]
  },
  {
   "cell_type": "markdown",
   "id": "75ff54a7",
   "metadata": {},
   "source": [
    "### Stroke Dataset"
   ]
  },
  {
   "cell_type": "code",
   "execution_count": 25,
   "id": "82119aef",
   "metadata": {},
   "outputs": [],
   "source": [
    "stroke = pd.read_csv('stroke.csv', header=0) # the first line of data is header"
   ]
  },
  {
   "cell_type": "code",
   "execution_count": 26,
   "id": "5baa4269",
   "metadata": {},
   "outputs": [
    {
     "data": {
      "text/plain": [
       "Index(['Unnamed: 0', 'gender', 'age', 'hypertension', 'heart_disease',\n",
       "       'ever_married', 'work_type', 'Residence_type', 'avg_glucose_level',\n",
       "       'bmi', 'smoking_status', 'stroke'],\n",
       "      dtype='object')"
      ]
     },
     "execution_count": 26,
     "metadata": {},
     "output_type": "execute_result"
    }
   ],
   "source": [
    "# one-hot vectors for df_data\n",
    "stroke_new = pd.get_dummies(stroke)\n",
    "stroke_new.columns"
   ]
  },
  {
   "cell_type": "code",
   "execution_count": 27,
   "id": "fb8fce50",
   "metadata": {},
   "outputs": [],
   "source": [
    "df_stroke_X = stroke_new.drop(columns=['stroke'])\n",
    "df_stroke_y = stroke_new[['stroke']]"
   ]
  },
  {
   "cell_type": "code",
   "execution_count": 28,
   "id": "b6155b41",
   "metadata": {},
   "outputs": [
    {
     "data": {
      "text/html": [
       "<div>\n",
       "<style scoped>\n",
       "    .dataframe tbody tr th:only-of-type {\n",
       "        vertical-align: middle;\n",
       "    }\n",
       "\n",
       "    .dataframe tbody tr th {\n",
       "        vertical-align: top;\n",
       "    }\n",
       "\n",
       "    .dataframe thead th {\n",
       "        text-align: right;\n",
       "    }\n",
       "</style>\n",
       "<table border=\"1\" class=\"dataframe\">\n",
       "  <thead>\n",
       "    <tr style=\"text-align: right;\">\n",
       "      <th></th>\n",
       "      <th>Unnamed: 0</th>\n",
       "      <th>gender</th>\n",
       "      <th>age</th>\n",
       "      <th>hypertension</th>\n",
       "      <th>heart_disease</th>\n",
       "      <th>ever_married</th>\n",
       "      <th>work_type</th>\n",
       "      <th>Residence_type</th>\n",
       "      <th>avg_glucose_level</th>\n",
       "      <th>bmi</th>\n",
       "      <th>smoking_status</th>\n",
       "    </tr>\n",
       "  </thead>\n",
       "  <tbody>\n",
       "    <tr>\n",
       "      <th>0</th>\n",
       "      <td>0</td>\n",
       "      <td>0</td>\n",
       "      <td>67.0</td>\n",
       "      <td>0</td>\n",
       "      <td>1</td>\n",
       "      <td>1</td>\n",
       "      <td>3</td>\n",
       "      <td>1</td>\n",
       "      <td>228.69</td>\n",
       "      <td>36.6</td>\n",
       "      <td>0</td>\n",
       "    </tr>\n",
       "    <tr>\n",
       "      <th>1</th>\n",
       "      <td>1</td>\n",
       "      <td>1</td>\n",
       "      <td>61.0</td>\n",
       "      <td>0</td>\n",
       "      <td>0</td>\n",
       "      <td>1</td>\n",
       "      <td>4</td>\n",
       "      <td>0</td>\n",
       "      <td>202.21</td>\n",
       "      <td>0.0</td>\n",
       "      <td>1</td>\n",
       "    </tr>\n",
       "    <tr>\n",
       "      <th>2</th>\n",
       "      <td>2</td>\n",
       "      <td>0</td>\n",
       "      <td>80.0</td>\n",
       "      <td>0</td>\n",
       "      <td>1</td>\n",
       "      <td>1</td>\n",
       "      <td>3</td>\n",
       "      <td>0</td>\n",
       "      <td>105.92</td>\n",
       "      <td>32.5</td>\n",
       "      <td>1</td>\n",
       "    </tr>\n",
       "    <tr>\n",
       "      <th>3</th>\n",
       "      <td>3</td>\n",
       "      <td>1</td>\n",
       "      <td>49.0</td>\n",
       "      <td>0</td>\n",
       "      <td>0</td>\n",
       "      <td>1</td>\n",
       "      <td>3</td>\n",
       "      <td>1</td>\n",
       "      <td>171.23</td>\n",
       "      <td>34.4</td>\n",
       "      <td>2</td>\n",
       "    </tr>\n",
       "    <tr>\n",
       "      <th>4</th>\n",
       "      <td>4</td>\n",
       "      <td>1</td>\n",
       "      <td>79.0</td>\n",
       "      <td>1</td>\n",
       "      <td>0</td>\n",
       "      <td>1</td>\n",
       "      <td>4</td>\n",
       "      <td>0</td>\n",
       "      <td>174.12</td>\n",
       "      <td>24.0</td>\n",
       "      <td>1</td>\n",
       "    </tr>\n",
       "    <tr>\n",
       "      <th>...</th>\n",
       "      <td>...</td>\n",
       "      <td>...</td>\n",
       "      <td>...</td>\n",
       "      <td>...</td>\n",
       "      <td>...</td>\n",
       "      <td>...</td>\n",
       "      <td>...</td>\n",
       "      <td>...</td>\n",
       "      <td>...</td>\n",
       "      <td>...</td>\n",
       "      <td>...</td>\n",
       "    </tr>\n",
       "    <tr>\n",
       "      <th>5105</th>\n",
       "      <td>5105</td>\n",
       "      <td>1</td>\n",
       "      <td>80.0</td>\n",
       "      <td>1</td>\n",
       "      <td>0</td>\n",
       "      <td>1</td>\n",
       "      <td>3</td>\n",
       "      <td>1</td>\n",
       "      <td>83.75</td>\n",
       "      <td>0.0</td>\n",
       "      <td>1</td>\n",
       "    </tr>\n",
       "    <tr>\n",
       "      <th>5106</th>\n",
       "      <td>5106</td>\n",
       "      <td>1</td>\n",
       "      <td>81.0</td>\n",
       "      <td>0</td>\n",
       "      <td>0</td>\n",
       "      <td>1</td>\n",
       "      <td>4</td>\n",
       "      <td>1</td>\n",
       "      <td>125.20</td>\n",
       "      <td>40.0</td>\n",
       "      <td>1</td>\n",
       "    </tr>\n",
       "    <tr>\n",
       "      <th>5107</th>\n",
       "      <td>5107</td>\n",
       "      <td>1</td>\n",
       "      <td>35.0</td>\n",
       "      <td>0</td>\n",
       "      <td>0</td>\n",
       "      <td>1</td>\n",
       "      <td>4</td>\n",
       "      <td>0</td>\n",
       "      <td>82.99</td>\n",
       "      <td>30.6</td>\n",
       "      <td>1</td>\n",
       "    </tr>\n",
       "    <tr>\n",
       "      <th>5108</th>\n",
       "      <td>5108</td>\n",
       "      <td>0</td>\n",
       "      <td>51.0</td>\n",
       "      <td>0</td>\n",
       "      <td>0</td>\n",
       "      <td>1</td>\n",
       "      <td>3</td>\n",
       "      <td>0</td>\n",
       "      <td>166.29</td>\n",
       "      <td>25.6</td>\n",
       "      <td>0</td>\n",
       "    </tr>\n",
       "    <tr>\n",
       "      <th>5109</th>\n",
       "      <td>5109</td>\n",
       "      <td>1</td>\n",
       "      <td>44.0</td>\n",
       "      <td>0</td>\n",
       "      <td>0</td>\n",
       "      <td>1</td>\n",
       "      <td>1</td>\n",
       "      <td>1</td>\n",
       "      <td>85.28</td>\n",
       "      <td>26.2</td>\n",
       "      <td>3</td>\n",
       "    </tr>\n",
       "  </tbody>\n",
       "</table>\n",
       "<p>5110 rows × 11 columns</p>\n",
       "</div>"
      ],
      "text/plain": [
       "      Unnamed: 0  gender   age  hypertension  heart_disease  ever_married  \\\n",
       "0              0       0  67.0             0              1             1   \n",
       "1              1       1  61.0             0              0             1   \n",
       "2              2       0  80.0             0              1             1   \n",
       "3              3       1  49.0             0              0             1   \n",
       "4              4       1  79.0             1              0             1   \n",
       "...          ...     ...   ...           ...            ...           ...   \n",
       "5105        5105       1  80.0             1              0             1   \n",
       "5106        5106       1  81.0             0              0             1   \n",
       "5107        5107       1  35.0             0              0             1   \n",
       "5108        5108       0  51.0             0              0             1   \n",
       "5109        5109       1  44.0             0              0             1   \n",
       "\n",
       "      work_type  Residence_type  avg_glucose_level   bmi  smoking_status  \n",
       "0             3               1             228.69  36.6               0  \n",
       "1             4               0             202.21   0.0               1  \n",
       "2             3               0             105.92  32.5               1  \n",
       "3             3               1             171.23  34.4               2  \n",
       "4             4               0             174.12  24.0               1  \n",
       "...         ...             ...                ...   ...             ...  \n",
       "5105          3               1              83.75   0.0               1  \n",
       "5106          4               1             125.20  40.0               1  \n",
       "5107          4               0              82.99  30.6               1  \n",
       "5108          3               0             166.29  25.6               0  \n",
       "5109          1               1              85.28  26.2               3  \n",
       "\n",
       "[5110 rows x 11 columns]"
      ]
     },
     "execution_count": 28,
     "metadata": {},
     "output_type": "execute_result"
    }
   ],
   "source": [
    "df_stroke_X"
   ]
  },
  {
   "cell_type": "code",
   "execution_count": 29,
   "id": "ef202268",
   "metadata": {},
   "outputs": [
    {
     "data": {
      "text/html": [
       "<div>\n",
       "<style scoped>\n",
       "    .dataframe tbody tr th:only-of-type {\n",
       "        vertical-align: middle;\n",
       "    }\n",
       "\n",
       "    .dataframe tbody tr th {\n",
       "        vertical-align: top;\n",
       "    }\n",
       "\n",
       "    .dataframe thead th {\n",
       "        text-align: right;\n",
       "    }\n",
       "</style>\n",
       "<table border=\"1\" class=\"dataframe\">\n",
       "  <thead>\n",
       "    <tr style=\"text-align: right;\">\n",
       "      <th></th>\n",
       "      <th>stroke</th>\n",
       "    </tr>\n",
       "  </thead>\n",
       "  <tbody>\n",
       "    <tr>\n",
       "      <th>0</th>\n",
       "      <td>1</td>\n",
       "    </tr>\n",
       "    <tr>\n",
       "      <th>1</th>\n",
       "      <td>1</td>\n",
       "    </tr>\n",
       "    <tr>\n",
       "      <th>2</th>\n",
       "      <td>1</td>\n",
       "    </tr>\n",
       "    <tr>\n",
       "      <th>3</th>\n",
       "      <td>1</td>\n",
       "    </tr>\n",
       "    <tr>\n",
       "      <th>4</th>\n",
       "      <td>1</td>\n",
       "    </tr>\n",
       "    <tr>\n",
       "      <th>...</th>\n",
       "      <td>...</td>\n",
       "    </tr>\n",
       "    <tr>\n",
       "      <th>5105</th>\n",
       "      <td>0</td>\n",
       "    </tr>\n",
       "    <tr>\n",
       "      <th>5106</th>\n",
       "      <td>0</td>\n",
       "    </tr>\n",
       "    <tr>\n",
       "      <th>5107</th>\n",
       "      <td>0</td>\n",
       "    </tr>\n",
       "    <tr>\n",
       "      <th>5108</th>\n",
       "      <td>0</td>\n",
       "    </tr>\n",
       "    <tr>\n",
       "      <th>5109</th>\n",
       "      <td>0</td>\n",
       "    </tr>\n",
       "  </tbody>\n",
       "</table>\n",
       "<p>5110 rows × 1 columns</p>\n",
       "</div>"
      ],
      "text/plain": [
       "      stroke\n",
       "0          1\n",
       "1          1\n",
       "2          1\n",
       "3          1\n",
       "4          1\n",
       "...      ...\n",
       "5105       0\n",
       "5106       0\n",
       "5107       0\n",
       "5108       0\n",
       "5109       0\n",
       "\n",
       "[5110 rows x 1 columns]"
      ]
     },
     "execution_count": 29,
     "metadata": {},
     "output_type": "execute_result"
    }
   ],
   "source": [
    "df_stroke_y"
   ]
  },
  {
   "cell_type": "code",
   "execution_count": 30,
   "id": "78d06464",
   "metadata": {},
   "outputs": [],
   "source": [
    "# 75% is for training and 25% is for testing\n",
    "X_stroke_train, X_stroke_test, y_stroke_train, y_stroke_test = train_test_split(df_stroke_X, df_stroke_y, \n",
    "                                                    test_size = 0.25,\n",
    "                                                    random_state=123)"
   ]
  },
  {
   "cell_type": "code",
   "execution_count": 31,
   "id": "642547d1",
   "metadata": {},
   "outputs": [],
   "source": [
    "stroke_feature_train = X_stroke_train[['age', 'gender','hypertension','heart_disease','ever_married','work_type','Residence_type','avg_glucose_level','bmi','smoking_status']]"
   ]
  },
  {
   "cell_type": "code",
   "execution_count": 32,
   "id": "56afb481",
   "metadata": {},
   "outputs": [
    {
     "data": {
      "text/plain": [
       "LinearRegression()"
      ]
     },
     "execution_count": 32,
     "metadata": {},
     "output_type": "execute_result"
    }
   ],
   "source": [
    "lr = LinearRegression()\n",
    "lr.fit(stroke_feature_train, y_stroke_train)"
   ]
  },
  {
   "cell_type": "code",
   "execution_count": 33,
   "id": "b6ea4d20",
   "metadata": {},
   "outputs": [
    {
     "name": "stdout",
     "output_type": "stream",
     "text": [
      "       age  gender  hypertension  heart_disease  ever_married  work_type  \\\n",
      "1708  14.0       0             0              0             0          0   \n",
      "4768  17.0       1             0              0             0          3   \n",
      "1972  39.0       1             0              0             1          3   \n",
      "981   46.0       1             0              0             1          3   \n",
      "2423  13.0       1             0              0             0          0   \n",
      "...    ...     ...           ...            ...           ...        ...   \n",
      "1877   3.0       1             0              0             0          0   \n",
      "2283  64.0       0             0              1             1          3   \n",
      "852   17.0       1             0              0             0          3   \n",
      "4815  19.0       1             0              0             0          3   \n",
      "3228  54.0       0             0              0             1          3   \n",
      "\n",
      "      Residence_type  avg_glucose_level   bmi  smoking_status  \n",
      "1708               1              57.95  17.1               3  \n",
      "4768               0             120.96  22.2               0  \n",
      "1972               1             122.91  35.7               1  \n",
      "981                0             109.22  20.1               1  \n",
      "2423               0              99.49  23.4               3  \n",
      "...              ...                ...   ...             ...  \n",
      "1877               0              77.87  18.3               3  \n",
      "2283               0              82.89  29.5               1  \n",
      "852                0              62.49  26.9               1  \n",
      "4815               1              96.85  23.4               3  \n",
      "3228               1              85.81  21.7               0  \n",
      "\n",
      "[1278 rows x 10 columns]\n"
     ]
    }
   ],
   "source": [
    "# Metrics\n",
    "stroke_feature_test = X_stroke_test[['age', 'gender','hypertension','heart_disease','ever_married','work_type','Residence_type','avg_glucose_level','bmi','smoking_status']]\n",
    "print(stroke_feature_test)"
   ]
  },
  {
   "cell_type": "code",
   "execution_count": 34,
   "id": "6f39a98e",
   "metadata": {},
   "outputs": [
    {
     "name": "stdout",
     "output_type": "stream",
     "text": [
      "[[ 0.0058633 ]\n",
      " [ 0.00238609]\n",
      " [ 0.00547148]\n",
      " ...\n",
      " [-0.0294162 ]\n",
      " [ 0.00716009]\n",
      " [ 0.06428737]]\n",
      "1278\n"
     ]
    }
   ],
   "source": [
    "stroke_predictions = lr.predict(stroke_feature_test)\n",
    "print(stroke_predictions)\n",
    "print(len(stroke_predictions))"
   ]
  },
  {
   "cell_type": "code",
   "execution_count": 35,
   "id": "e4b13f48",
   "metadata": {},
   "outputs": [
    {
     "name": "stdout",
     "output_type": "stream",
     "text": [
      "Using Linear Regression, MAE is 0.09\n",
      "Using Linear Regression, RMSE is 0.20\n"
     ]
    },
    {
     "name": "stderr",
     "output_type": "stream",
     "text": [
      "/Users/pzj/opt/anaconda3/lib/python3.9/site-packages/numpy/core/fromnumeric.py:3438: FutureWarning: In a future version, DataFrame.mean(axis=None) will return a scalar mean over the entire DataFrame. To retain the old behavior, use 'frame.mean(axis=0)' or just 'frame.mean()'\n",
      "  return mean(axis=axis, dtype=dtype, out=out, **kwargs)\n"
     ]
    }
   ],
   "source": [
    "mae = np.mean(abs(stroke_predictions - y_stroke_test))\n",
    "rmse = np.sqrt(np.mean((stroke_predictions - y_stroke_test) ** 2))\n",
    "print('Using Linear Regression, MAE is %0.2f' %  mae)  \n",
    "print('Using Linear Regression, RMSE is %0.2f' %  rmse)    "
   ]
  },
  {
   "cell_type": "code",
   "execution_count": 36,
   "id": "d9469fe9",
   "metadata": {},
   "outputs": [
    {
     "name": "stdout",
     "output_type": "stream",
     "text": [
      "w0: [-0.02923405]\n",
      "w1,w2,w3,w4,w5,w6,w7,w8,w9,w10: [[ 0.00302523  0.00362977  0.0342592   0.0429476  -0.03988453 -0.00584576\n",
      "   0.00577642  0.00038326 -0.00235405  0.00167076]]\n"
     ]
    }
   ],
   "source": [
    "print('w0:',lr.intercept_)\n",
    "print('w1,w2,w3,w4,w5,w6,w7,w8,w9,w10:',lr.coef_)"
   ]
  },
  {
   "cell_type": "code",
   "execution_count": null,
   "id": "4b2bdf15",
   "metadata": {},
   "outputs": [],
   "source": []
  },
  {
   "cell_type": "markdown",
   "id": "523e5566",
   "metadata": {},
   "source": [
    "## SVM"
   ]
  },
  {
   "cell_type": "code",
   "execution_count": 38,
   "id": "b35d7a39",
   "metadata": {},
   "outputs": [],
   "source": [
    "from sklearn import svm, datasets\n",
    "import numpy as np\n",
    "from sklearn.model_selection import train_test_split\n",
    "import matplotlib.pyplot as plt"
   ]
  },
  {
   "cell_type": "code",
   "execution_count": 39,
   "id": "391f25c3",
   "metadata": {},
   "outputs": [
    {
     "name": "stderr",
     "output_type": "stream",
     "text": [
      "/Users/pzj/opt/anaconda3/lib/python3.9/site-packages/sklearn/utils/validation.py:993: DataConversionWarning: A column-vector y was passed when a 1d array was expected. Please change the shape of y to (n_samples, ), for example using ravel().\n",
      "  y = column_or_1d(y, warn=True)\n"
     ]
    },
    {
     "data": {
      "text/plain": [
       "SVC(C=0.5, kernel='linear')"
      ]
     },
     "execution_count": 39,
     "metadata": {},
     "output_type": "execute_result"
    }
   ],
   "source": [
    "clf1 = svm.SVC(C = 0.5,kernel = 'linear')\n",
    "clf1.fit(feature_train,y_train)"
   ]
  },
  {
   "cell_type": "code",
   "execution_count": 40,
   "id": "9cfa15d9",
   "metadata": {},
   "outputs": [],
   "source": [
    "clf1_pred = clf1.predict(feature_test)"
   ]
  },
  {
   "cell_type": "code",
   "execution_count": 41,
   "id": "65f25b0f",
   "metadata": {},
   "outputs": [
    {
     "data": {
      "text/plain": [
       "0.7222189746887239"
      ]
     },
     "execution_count": 41,
     "metadata": {},
     "output_type": "execute_result"
    }
   ],
   "source": [
    "clf1.score(feature_test,y_test)"
   ]
  },
  {
   "cell_type": "code",
   "execution_count": 42,
   "id": "30255f9e",
   "metadata": {},
   "outputs": [
    {
     "name": "stdout",
     "output_type": "stream",
     "text": [
      "confusion matrics:\n",
      " [[7095 1605]\n",
      " [3147 5260]]\n",
      "\n",
      "\n",
      "classification report:\n",
      "               precision    recall  f1-score   support\n",
      "\n",
      "           0       0.69      0.82      0.75      8700\n",
      "           1       0.77      0.63      0.69      8407\n",
      "\n",
      "    accuracy                           0.72     17107\n",
      "   macro avg       0.73      0.72      0.72     17107\n",
      "weighted avg       0.73      0.72      0.72     17107\n",
      "\n"
     ]
    }
   ],
   "source": [
    "from sklearn.metrics import confusion_matrix, classification_report\n",
    "print(\"confusion matrics:\\n\",confusion_matrix(y_test,clf1_pred))\n",
    "print(\"\\n\\nclassification report:\\n\",classification_report(y_test,clf1_pred))"
   ]
  },
  {
   "cell_type": "code",
   "execution_count": 43,
   "id": "093fd060",
   "metadata": {},
   "outputs": [
    {
     "name": "stdout",
     "output_type": "stream",
     "text": [
      "Accuracy:0.7222189746887239\n",
      "Precision:0.7662053896576839\n",
      "Recall:0.6256690852860711\n",
      "F1 score:0.6888423258250392\n"
     ]
    }
   ],
   "source": [
    "from sklearn.metrics import accuracy_score, precision_score, recall_score, f1_score\n",
    "print(\"Accuracy:{}\".format(accuracy_score(y_test, clf1_pred)))\n",
    "print(\"Precision:{}\".format(precision_score(y_test, clf1_pred)))\n",
    "print(\"Recall:{}\".format(recall_score(y_test, clf1_pred)))\n",
    "print(\"F1 score:{}\".format(f1_score(y_test, clf1_pred)))"
   ]
  },
  {
   "cell_type": "code",
   "execution_count": 44,
   "id": "d592d5a1",
   "metadata": {},
   "outputs": [
    {
     "name": "stdout",
     "output_type": "stream",
     "text": [
      "confusion matrics:\n",
      " [[7095 1605]\n",
      " [3147 5260]]\n",
      "\n",
      "\n",
      "classification report:\n",
      "               precision    recall  f1-score   support\n",
      "\n",
      "           0       0.69      0.82      0.75      8700\n",
      "           1       0.77      0.63      0.69      8407\n",
      "\n",
      "    accuracy                           0.72     17107\n",
      "   macro avg       0.73      0.72      0.72     17107\n",
      "weighted avg       0.73      0.72      0.72     17107\n",
      "\n"
     ]
    },
    {
     "data": {
      "image/png": "[encoded data removed]",
      "text/plain": [
       "<Figure size 432x288 with 2 Axes>"
      ]
     },
     "metadata": {
      "needs_background": "light"
     },
     "output_type": "display_data"
    },
    {
     "name": "stderr",
     "output_type": "stream",
     "text": [
      "/Users/pzj/opt/anaconda3/lib/python3.9/site-packages/sklearn/utils/deprecation.py:87: FutureWarning: Function plot_roc_curve is deprecated; Function :func:`plot_roc_curve` is deprecated in 1.0 and will be removed in 1.2. Use one of the class methods: :meth:`sklearn.metric.RocCurveDisplay.from_predictions` or :meth:`sklearn.metric.RocCurveDisplay.from_estimator`.\n",
      "  warnings.warn(msg, category=FutureWarning)\n"
     ]
    },
    {
     "data": {
      "text/plain": [
       "<sklearn.metrics._plot.roc_curve.RocCurveDisplay at 0x7fb920a626d0>"
      ]
     },
     "execution_count": 44,
     "metadata": {},
     "output_type": "execute_result"
    },
    {
     "data": {
      "image/png": "[encoded data removed]",
      "text/plain": [
       "<Figure size 432x288 with 1 Axes>"
      ]
     },
     "metadata": {
      "needs_background": "light"
     },
     "output_type": "display_data"
    }
   ],
   "source": [
    "from sklearn.metrics import confusion_matrix, classification_report\n",
    "y_pred = clf1.predict(feature_test)\n",
    "cnf_matrix = confusion_matrix(y_test,y_pred)\n",
    "print(\"confusion matrics:\\n\", cnf_matrix)\n",
    "print(\"\\n\\nclassification report:\\n\",classification_report(y_test,y_pred))\n",
    "plot_cnf_matirx(cnf_matrix,'Cardiovascular Confusion matrix -- SVM')\n",
    "metrics.plot_roc_curve(clf1,feature_test,y_test)"
   ]
  },
  {
   "cell_type": "markdown",
   "id": "f755e2c1",
   "metadata": {},
   "source": [
    "## Logistic Regression"
   ]
  },
  {
   "cell_type": "markdown",
   "id": "3021fce6",
   "metadata": {},
   "source": [
    "### Cardiovascular Disease dataset"
   ]
  },
  {
   "cell_type": "code",
   "execution_count": 45,
   "id": "d1d7ebcf",
   "metadata": {},
   "outputs": [
    {
     "name": "stderr",
     "output_type": "stream",
     "text": [
      "/Users/pzj/opt/anaconda3/lib/python3.9/site-packages/sklearn/utils/validation.py:993: DataConversionWarning: A column-vector y was passed when a 1d array was expected. Please change the shape of y to (n_samples, ), for example using ravel().\n",
      "  y = column_or_1d(y, warn=True)\n"
     ]
    }
   ],
   "source": [
    "from sklearn.linear_model import LogisticRegression\n",
    "from sklearn import metrics\n",
    "log_regression = LogisticRegression(max_iter=1000)\n",
    "car_ = log_regression.fit(feature_train, y_train)\n",
    "y_test_lr_pred = log_regression.predict(feature_test)"
   ]
  },
  {
   "cell_type": "code",
   "execution_count": 46,
   "id": "47b8ba1e",
   "metadata": {},
   "outputs": [
    {
     "name": "stdout",
     "output_type": "stream",
     "text": [
      "Accuracy:0.7257847664698661\n",
      "Precision:0.7493959731543625\n",
      "Recall:0.6640894492684668\n",
      "F1 score:0.7041685060225769\n"
     ]
    }
   ],
   "source": [
    "from sklearn.metrics import accuracy_score, precision_score, recall_score, f1_score\n",
    "print(\"Accuracy:{}\".format(accuracy_score(y_test, y_test_lr_pred)))\n",
    "print(\"Precision:{}\".format(precision_score(y_test, y_test_lr_pred)))\n",
    "print(\"Recall:{}\".format(recall_score(y_test, y_test_lr_pred)))\n",
    "print(\"F1 score:{}\".format(f1_score(y_test, y_test_lr_pred)))"
   ]
  },
  {
   "cell_type": "code",
   "execution_count": 47,
   "id": "4a0d7666",
   "metadata": {},
   "outputs": [
    {
     "name": "stdout",
     "output_type": "stream",
     "text": [
      "              precision    recall  f1-score   support\n",
      "\n",
      "           0       0.71      0.79      0.74      8700\n",
      "           1       0.75      0.66      0.70      8407\n",
      "\n",
      "    accuracy                           0.73     17107\n",
      "   macro avg       0.73      0.72      0.72     17107\n",
      "weighted avg       0.73      0.73      0.72     17107\n",
      "\n"
     ]
    }
   ],
   "source": [
    "from sklearn.metrics import classification_report\n",
    "print(classification_report(y_test, y_test_lr_pred))"
   ]
  },
  {
   "cell_type": "code",
   "execution_count": 48,
   "id": "0533073d",
   "metadata": {},
   "outputs": [
    {
     "data": {
      "text/plain": [
       "array([[6833, 1867],\n",
       "       [2824, 5583]])"
      ]
     },
     "execution_count": 48,
     "metadata": {},
     "output_type": "execute_result"
    }
   ],
   "source": [
    "from sklearn.metrics import confusion_matrix\n",
    "cnf_matrix = confusion_matrix(y_test,y_test_lr_pred)\n",
    "cnf_matrix"
   ]
  },
  {
   "cell_type": "code",
   "execution_count": 49,
   "id": "d652c72a",
   "metadata": {},
   "outputs": [
    {
     "data": {
      "image/png": "[encoded data removed]",
      "text/plain": [
       "<Figure size 432x288 with 2 Axes>"
      ]
     },
     "metadata": {
      "needs_background": "light"
     },
     "output_type": "display_data"
    }
   ],
   "source": [
    "import seaborn as sns\n",
    "def plot_cnf_matirx(cnf_matrix,description):\n",
    "    class_names = [0,1]\n",
    "    fig,ax = plt.subplots()\n",
    "    tick_marks = np.arange(len(class_names))\n",
    "    plt.xticks(tick_marks,class_names)\n",
    "    plt.yticks(tick_marks,class_names)\n",
    "\n",
    "#create a heat map\n",
    "    sns.heatmap(pd.DataFrame(cnf_matrix), annot = True, cmap = 'OrRd',\n",
    "               fmt = 'g')\n",
    "    ax.xaxis.set_label_position('top')\n",
    "    plt.tight_layout()\n",
    "    plt.title(description, y = 1.1,fontsize=16)\n",
    "    plt.ylabel('Reference',fontsize=12)\n",
    "    plt.xlabel('Precision',fontsize=12)\n",
    "    plt.show()\n",
    "    \n",
    "plot_cnf_matirx(cnf_matrix,'Cardiovascular Confusion matrix -- Logistic Regression')\n"
   ]
  },
  {
   "cell_type": "code",
   "execution_count": 50,
   "id": "bb24206f",
   "metadata": {},
   "outputs": [
    {
     "name": "stderr",
     "output_type": "stream",
     "text": [
      "/Users/pzj/opt/anaconda3/lib/python3.9/site-packages/sklearn/utils/deprecation.py:87: FutureWarning: Function plot_roc_curve is deprecated; Function :func:`plot_roc_curve` is deprecated in 1.0 and will be removed in 1.2. Use one of the class methods: :meth:`sklearn.metric.RocCurveDisplay.from_predictions` or :meth:`sklearn.metric.RocCurveDisplay.from_estimator`.\n",
      "  warnings.warn(msg, category=FutureWarning)\n"
     ]
    },
    {
     "data": {
      "text/plain": [
       "<sklearn.metrics._plot.roc_curve.RocCurveDisplay at 0x7fb8b800eb50>"
      ]
     },
     "execution_count": 50,
     "metadata": {},
     "output_type": "execute_result"
    },
    {
     "data": {
      "image/png": "[encoded data removed]",
      "text/plain": [
       "<Figure size 432x288 with 1 Axes>"
      ]
     },
     "metadata": {
      "needs_background": "light"
     },
     "output_type": "display_data"
    }
   ],
   "source": [
    "metrics.plot_roc_curve(log_regression,feature_test,y_test)"
   ]
  },
  {
   "cell_type": "markdown",
   "id": "ec52814a",
   "metadata": {},
   "source": [
    "### Stroke Dataset"
   ]
  },
  {
   "cell_type": "code",
   "execution_count": 51,
   "id": "2309b047",
   "metadata": {},
   "outputs": [
    {
     "name": "stderr",
     "output_type": "stream",
     "text": [
      "/Users/pzj/opt/anaconda3/lib/python3.9/site-packages/sklearn/utils/validation.py:993: DataConversionWarning: A column-vector y was passed when a 1d array was expected. Please change the shape of y to (n_samples, ), for example using ravel().\n",
      "  y = column_or_1d(y, warn=True)\n"
     ]
    }
   ],
   "source": [
    "str_ = log_regression.fit(stroke_feature_train, y_stroke_train)\n",
    "y_test_stroke_lr_pred = log_regression.predict(stroke_feature_test)"
   ]
  },
  {
   "cell_type": "code",
   "execution_count": 52,
   "id": "008dd580",
   "metadata": {},
   "outputs": [
    {
     "name": "stdout",
     "output_type": "stream",
     "text": [
      "Accuracy:0.9538341158059468\n",
      "Precision:0.0\n",
      "Recall:0.0\n",
      "F1 score:0.0\n"
     ]
    }
   ],
   "source": [
    "print(\"Accuracy:{}\".format(accuracy_score(y_stroke_test, y_test_stroke_lr_pred)))\n",
    "print(\"Precision:{}\".format(precision_score(y_stroke_test, y_test_stroke_lr_pred)))\n",
    "print(\"Recall:{}\".format(recall_score(y_stroke_test, y_test_stroke_lr_pred)))\n",
    "print(\"F1 score:{}\".format(f1_score(y_stroke_test, y_test_stroke_lr_pred)))"
   ]
  },
  {
   "cell_type": "code",
   "execution_count": 53,
   "id": "66578088",
   "metadata": {},
   "outputs": [
    {
     "name": "stdout",
     "output_type": "stream",
     "text": [
      "              precision    recall  f1-score   support\n",
      "\n",
      "           0       0.95      1.00      0.98      1220\n",
      "           1       0.00      0.00      0.00        58\n",
      "\n",
      "    accuracy                           0.95      1278\n",
      "   macro avg       0.48      0.50      0.49      1278\n",
      "weighted avg       0.91      0.95      0.93      1278\n",
      "\n"
     ]
    }
   ],
   "source": [
    "print(classification_report(y_stroke_test, y_test_stroke_lr_pred))"
   ]
  },
  {
   "cell_type": "markdown",
   "id": "62204e1b",
   "metadata": {},
   "source": [
    "### Balance the stroke dataset"
   ]
  },
  {
   "cell_type": "code",
   "execution_count": 54,
   "id": "dffeab96",
   "metadata": {},
   "outputs": [
    {
     "data": {
      "text/plain": [
       "0    249\n",
       "1    249\n",
       "Name: stroke, dtype: int64"
      ]
     },
     "execution_count": 54,
     "metadata": {},
     "output_type": "execute_result"
    }
   ],
   "source": [
    "from sklearn.utils import resample\n",
    "stroke_majority = stroke_new[stroke_new.stroke==0]\n",
    "stroke_minority = stroke_new[stroke_new.stroke==1]\n",
    "\n",
    "stroke_majority_downsampled = resample(stroke_majority,\n",
    "                                 replace=False,    \n",
    "                                 n_samples=249,     \n",
    "                                 random_state=123)\n",
    "\n",
    "stroke_downsampled = pd.concat([stroke_majority_downsampled, stroke_minority])\n",
    "stroke_downsampled.stroke.value_counts()"
   ]
  },
  {
   "cell_type": "code",
   "execution_count": 55,
   "id": "63f01794",
   "metadata": {},
   "outputs": [
    {
     "name": "stdout",
     "output_type": "stream",
     "text": [
      "Accuracy:0.77\n",
      "Precision:0.7017543859649122\n",
      "Recall:0.8695652173913043\n",
      "F1 score:0.7766990291262136\n"
     ]
    }
   ],
   "source": [
    "new_y = stroke_downsampled.stroke\n",
    "new_x = stroke_downsampled.drop('stroke', axis=1)\n",
    "\n",
    "X_stroke_train1, X_stroke_test1, y_stroke_train1, y_stroke_test1 = train_test_split(new_x, new_y, \n",
    "                                                    test_size = 0.2,\n",
    "                                                    random_state=123)\n",
    "\n",
    "new_stroke_feature_train = X_stroke_train1[['age', 'gender','hypertension','heart_disease','ever_married','work_type','Residence_type','avg_glucose_level','bmi','smoking_status']]\n",
    "new_stroke_feature_test = X_stroke_test1[['age', 'gender','hypertension','heart_disease','ever_married','work_type','Residence_type','avg_glucose_level','bmi','smoking_status']]\n",
    "\n",
    "str_1 = log_regression.fit(new_stroke_feature_train, y_stroke_train1)\n",
    "y_test_stroke_lr_pred1 = log_regression.predict(new_stroke_feature_test)\n",
    "\n",
    "print(\"Accuracy:{}\".format(accuracy_score(y_stroke_test1, y_test_stroke_lr_pred1)))\n",
    "print(\"Precision:{}\".format(precision_score(y_stroke_test1, y_test_stroke_lr_pred1)))\n",
    "print(\"Recall:{}\".format(recall_score(y_stroke_test1, y_test_stroke_lr_pred1)))\n",
    "print(\"F1 score:{}\".format(f1_score(y_stroke_test1, y_test_stroke_lr_pred1)))"
   ]
  },
  {
   "cell_type": "code",
   "execution_count": 56,
   "id": "a14c2732",
   "metadata": {},
   "outputs": [
    {
     "name": "stdout",
     "output_type": "stream",
     "text": [
      "              precision    recall  f1-score   support\n",
      "\n",
      "           0       0.86      0.69      0.76        54\n",
      "           1       0.70      0.87      0.78        46\n",
      "\n",
      "    accuracy                           0.77       100\n",
      "   macro avg       0.78      0.78      0.77       100\n",
      "weighted avg       0.79      0.77      0.77       100\n",
      "\n"
     ]
    }
   ],
   "source": [
    "print(classification_report(y_stroke_test1, y_test_stroke_lr_pred1))"
   ]
  },
  {
   "cell_type": "code",
   "execution_count": 57,
   "id": "2f0d948f",
   "metadata": {},
   "outputs": [
    {
     "data": {
      "text/plain": [
       "array([[37, 17],\n",
       "       [ 6, 40]])"
      ]
     },
     "execution_count": 57,
     "metadata": {},
     "output_type": "execute_result"
    }
   ],
   "source": [
    "cnf_matrix_stroke = confusion_matrix(y_stroke_test1, y_test_stroke_lr_pred1)\n",
    "cnf_matrix_stroke"
   ]
  },
  {
   "cell_type": "code",
   "execution_count": 58,
   "id": "102e5f28",
   "metadata": {},
   "outputs": [
    {
     "data": {
      "image/png": "[encoded data removed]",
      "text/plain": [
       "<Figure size 432x288 with 2 Axes>"
      ]
     },
     "metadata": {
      "needs_background": "light"
     },
     "output_type": "display_data"
    }
   ],
   "source": [
    "plot_cnf_matirx(cnf_matrix_stroke,'Stroke Confusion matrix -- Linear Regression')"
   ]
  },
  {
   "cell_type": "markdown",
   "id": "ef5baa94",
   "metadata": {},
   "source": [
    "## Decision Tree"
   ]
  },
  {
   "cell_type": "markdown",
   "id": "4088263f",
   "metadata": {},
   "source": [
    "### Cardiovascular Disease dataset"
   ]
  },
  {
   "cell_type": "code",
   "execution_count": 59,
   "id": "2ecaaeda",
   "metadata": {},
   "outputs": [
    {
     "data": {
      "text/plain": [
       "DecisionTreeClassifier(criterion='entropy', max_depth=7)"
      ]
     },
     "execution_count": 59,
     "metadata": {},
     "output_type": "execute_result"
    }
   ],
   "source": [
    "from sklearn.tree import DecisionTreeClassifier\n",
    "dtclf = DecisionTreeClassifier(criterion = 'entropy', max_depth = 7)\n",
    "dtclf.fit(feature_train, y_train)"
   ]
  },
  {
   "cell_type": "code",
   "execution_count": 60,
   "id": "b6fb05fc",
   "metadata": {},
   "outputs": [
    {
     "name": "stdout",
     "output_type": "stream",
     "text": [
      "[0 1 0 ... 0 1 0]\n",
      "[0 1 0 ... 1 1 0]\n"
     ]
    }
   ],
   "source": [
    "y_train_dt_car_pred =dtclf.predict(feature_train)\n",
    "y_test_dt_car_pred = dtclf.predict(feature_test)\n",
    "print(y_train_dt_car_pred)\n",
    "print(y_test_dt_car_pred)"
   ]
  },
  {
   "cell_type": "code",
   "execution_count": 61,
   "id": "7e4fa398",
   "metadata": {},
   "outputs": [
    {
     "name": "stdout",
     "output_type": "stream",
     "text": [
      "Accuracy:0.7279476237797393\n",
      "Precision:0.745390349156532\n",
      "Recall:0.6780064232187463\n",
      "F1 score:0.7101034010215522\n"
     ]
    }
   ],
   "source": [
    "print(\"Accuracy:{}\".format(accuracy_score(y_test, y_test_dt_car_pred)))\n",
    "print(\"Precision:{}\".format(precision_score(y_test, y_test_dt_car_pred)))\n",
    "print(\"Recall:{}\".format(recall_score(y_test, y_test_dt_car_pred)))\n",
    "print(\"F1 score:{}\".format(f1_score(y_test, y_test_dt_car_pred)))"
   ]
  },
  {
   "cell_type": "code",
   "execution_count": 62,
   "id": "57a3c913",
   "metadata": {},
   "outputs": [
    {
     "name": "stdout",
     "output_type": "stream",
     "text": [
      "              precision    recall  f1-score   support\n",
      "\n",
      "           0       0.71      0.78      0.74      8700\n",
      "           1       0.75      0.68      0.71      8407\n",
      "\n",
      "    accuracy                           0.73     17107\n",
      "   macro avg       0.73      0.73      0.73     17107\n",
      "weighted avg       0.73      0.73      0.73     17107\n",
      "\n"
     ]
    }
   ],
   "source": [
    "print(classification_report(y_test,y_test_dt_car_pred))"
   ]
  },
  {
   "cell_type": "code",
   "execution_count": 63,
   "id": "f205e3e4",
   "metadata": {},
   "outputs": [
    {
     "data": {
      "text/plain": [
       "array([[6753, 1947],\n",
       "       [2707, 5700]])"
      ]
     },
     "execution_count": 63,
     "metadata": {},
     "output_type": "execute_result"
    }
   ],
   "source": [
    "cnf_matrix_car_dt = confusion_matrix(y_test,y_test_dt_car_pred)\n",
    "cnf_matrix_car_dt"
   ]
  },
  {
   "cell_type": "code",
   "execution_count": 64,
   "id": "25b276d6",
   "metadata": {},
   "outputs": [
    {
     "data": {
      "image/png": "[encoded data removed]",
      "text/plain": [
       "<Figure size 432x288 with 2 Axes>"
      ]
     },
     "metadata": {
      "needs_background": "light"
     },
     "output_type": "display_data"
    }
   ],
   "source": [
    "plot_cnf_matirx(cnf_matrix_car_dt,' Cardiovascular Confusion matrix -- DecisionTree')"
   ]
  },
  {
   "cell_type": "code",
   "execution_count": 65,
   "id": "8f81c582",
   "metadata": {},
   "outputs": [
    {
     "name": "stderr",
     "output_type": "stream",
     "text": [
      "/Users/pzj/opt/anaconda3/lib/python3.9/site-packages/sklearn/utils/deprecation.py:87: FutureWarning: Function plot_roc_curve is deprecated; Function :func:`plot_roc_curve` is deprecated in 1.0 and will be removed in 1.2. Use one of the class methods: :meth:`sklearn.metric.RocCurveDisplay.from_predictions` or :meth:`sklearn.metric.RocCurveDisplay.from_estimator`.\n",
      "  warnings.warn(msg, category=FutureWarning)\n"
     ]
    },
    {
     "data": {
      "text/plain": [
       "<sklearn.metrics._plot.roc_curve.RocCurveDisplay at 0x7fb91407c550>"
      ]
     },
     "execution_count": 65,
     "metadata": {},
     "output_type": "execute_result"
    },
    {
     "data": {
      "image/png": "[encoded data removed]",
      "text/plain": [
       "<Figure size 432x288 with 1 Axes>"
      ]
     },
     "metadata": {
      "needs_background": "light"
     },
     "output_type": "display_data"
    }
   ],
   "source": [
    "metrics.plot_roc_curve(dtclf,feature_test,y_test)"
   ]
  },
  {
   "cell_type": "markdown",
   "id": "92f9fcf5",
   "metadata": {},
   "source": [
    "### Stroke dataset"
   ]
  },
  {
   "cell_type": "code",
   "execution_count": 66,
   "id": "be13d2a8",
   "metadata": {},
   "outputs": [
    {
     "data": {
      "text/plain": [
       "DecisionTreeClassifier(criterion='entropy', max_depth=7)"
      ]
     },
     "execution_count": 66,
     "metadata": {},
     "output_type": "execute_result"
    }
   ],
   "source": [
    "dtclf.fit(new_stroke_feature_train, y_stroke_train1)"
   ]
  },
  {
   "cell_type": "code",
   "execution_count": 67,
   "id": "b521631e",
   "metadata": {},
   "outputs": [
    {
     "name": "stdout",
     "output_type": "stream",
     "text": [
      "[1 0 1 1 1 1 0 1 1 1 0 1 1 0 1 0 1 0 0 1 1 0 1 0 1 0 0 0 1 0 1 1 0 1 0 1 0\n",
      " 0 1 0 1 0 1 0 1 0 0 1 0 0 1 1 0 1 1 0 0 1 0 1 1 1 0 1 1 0 1 0 0 1 1 1 1 0\n",
      " 0 1 1 1 1 1 1 0 0 1 1 1 0 1 1 0 0 0 0 0 1 1 1 1 1 0 0 0 1 0 0 0 0 0 1 1 1\n",
      " 1 0 0 0 1 0 0 0 0 0 0 0 0 1 0 0 1 0 0 0 0 0 1 0 0 0 1 1 0 1 0 1 0 0 0 1 0\n",
      " 1 0 0 1 1 1 0 0 0 0 1 1 1 0 1 1 0 0 0 1 1 1 0 0 1 0 0 1 0 0 1 1 1 1 1 0 1\n",
      " 1 1 0 1 0 1 0 0 0 1 0 0 1 0 0 0 1 1 0 1 1 1 0 1 1 1 0 1 1 0 1 0 1 1 0 0 0\n",
      " 0 0 0 1 1 1 0 1 1 0 1 1 0 1 1 0 0 1 0 1 1 1 0 0 0 0 0 1 1 0 1 1 1 1 0 1 0\n",
      " 0 1 1 1 1 1 1 1 0 1 0 1 0 0 1 1 1 0 1 1 0 1 0 0 0 1 0 0 1 1 0 0 1 1 1 0 0\n",
      " 0 0 0 1 0 1 1 1 0 0 0 1 1 0 0 0 1 0 0 0 1 0 1 1 0 1 0 1 1 0 1 0 1 0 1 1 0\n",
      " 0 1 1 1 1 1 1 1 1 0 0 1 1 1 0 1 1 1 0 1 1 0 1 0 0 1 1 0 1 0 1 0 0 1 1 0 0\n",
      " 0 1 1 0 1 1 0 0 1 1 0 1 1 0 0 0 0 0 0 0 0 0 0 0 1 0 1 1]\n",
      "[1 1 1 0 1 0 0 0 1 1 1 0 1 0 1 0 0 1 1 0 0 0 1 0 1 0 1 0 0 1 0 0 1 1 1 1 1\n",
      " 0 1 1 1 1 1 1 1 1 0 1 0 1 1 1 1 1 1 1 0 0 1 1 1 1 1 0 1 0 1 1 0 0 1 0 0 0\n",
      " 0 0 0 0 0 1 1 1 1 1 0 1 0 0 0 0 0 1 1 0 1 0 1 1 1 1]\n"
     ]
    }
   ],
   "source": [
    "y_train_dt_str_pred =dtclf.predict(new_stroke_feature_train)\n",
    "y_test_dt_str_pred = dtclf.predict(new_stroke_feature_test)\n",
    "print(y_train_dt_str_pred)\n",
    "print(y_test_dt_str_pred)"
   ]
  },
  {
   "cell_type": "code",
   "execution_count": 68,
   "id": "d78c248a",
   "metadata": {},
   "outputs": [
    {
     "name": "stdout",
     "output_type": "stream",
     "text": [
      "Accuracy:0.66\n",
      "Precision:0.603448275862069\n",
      "Recall:0.7608695652173914\n",
      "F1 score:0.673076923076923\n"
     ]
    }
   ],
   "source": [
    "print(\"Accuracy:{}\".format(accuracy_score(y_stroke_test1, y_test_dt_str_pred)))\n",
    "print(\"Precision:{}\".format(precision_score(y_stroke_test1, y_test_dt_str_pred)))\n",
    "print(\"Recall:{}\".format(recall_score(y_stroke_test1, y_test_dt_str_pred)))\n",
    "print(\"F1 score:{}\".format(f1_score(y_stroke_test1, y_test_dt_str_pred)))"
   ]
  },
  {
   "cell_type": "code",
   "execution_count": 69,
   "id": "e020e132",
   "metadata": {},
   "outputs": [
    {
     "name": "stdout",
     "output_type": "stream",
     "text": [
      "              precision    recall  f1-score   support\n",
      "\n",
      "           0       0.74      0.57      0.65        54\n",
      "           1       0.60      0.76      0.67        46\n",
      "\n",
      "    accuracy                           0.66       100\n",
      "   macro avg       0.67      0.67      0.66       100\n",
      "weighted avg       0.68      0.66      0.66       100\n",
      "\n"
     ]
    }
   ],
   "source": [
    "print(classification_report(y_stroke_test1, y_test_dt_str_pred))"
   ]
  },
  {
   "cell_type": "code",
   "execution_count": 70,
   "id": "fa802096",
   "metadata": {},
   "outputs": [
    {
     "data": {
      "text/plain": [
       "array([[31, 23],\n",
       "       [11, 35]])"
      ]
     },
     "execution_count": 70,
     "metadata": {},
     "output_type": "execute_result"
    }
   ],
   "source": [
    "cnf_matrix_str_dt = confusion_matrix(y_stroke_test1, y_test_dt_str_pred)\n",
    "cnf_matrix_str_dt"
   ]
  },
  {
   "cell_type": "code",
   "execution_count": 71,
   "id": "70af6651",
   "metadata": {},
   "outputs": [
    {
     "data": {
      "image/png": "[encoded data removed]",
      "text/plain": [
       "<Figure size 432x288 with 2 Axes>"
      ]
     },
     "metadata": {
      "needs_background": "light"
     },
     "output_type": "display_data"
    }
   ],
   "source": [
    "plot_cnf_matirx(cnf_matrix_str_dt,'Stroke Confusion matrix -- DecisionTree')"
   ]
  },
  {
   "cell_type": "code",
   "execution_count": 72,
   "id": "e8939904",
   "metadata": {},
   "outputs": [
    {
     "name": "stderr",
     "output_type": "stream",
     "text": [
      "/Users/pzj/opt/anaconda3/lib/python3.9/site-packages/sklearn/utils/deprecation.py:87: FutureWarning: Function plot_roc_curve is deprecated; Function :func:`plot_roc_curve` is deprecated in 1.0 and will be removed in 1.2. Use one of the class methods: :meth:`sklearn.metric.RocCurveDisplay.from_predictions` or :meth:`sklearn.metric.RocCurveDisplay.from_estimator`.\n",
      "  warnings.warn(msg, category=FutureWarning)\n"
     ]
    },
    {
     "data": {
      "text/plain": [
       "<sklearn.metrics._plot.roc_curve.RocCurveDisplay at 0x7fb920a627c0>"
      ]
     },
     "execution_count": 72,
     "metadata": {},
     "output_type": "execute_result"
    },
    {
     "data": {
      "image/png": "[encoded data removed]",
      "text/plain": [
       "<Figure size 432x288 with 1 Axes>"
      ]
     },
     "metadata": {
      "needs_background": "light"
     },
     "output_type": "display_data"
    }
   ],
   "source": [
    "metrics.plot_roc_curve(dtclf,new_stroke_feature_test,y_stroke_test1)"
   ]
  },
  {
   "cell_type": "markdown",
   "id": "2e85a4b8",
   "metadata": {},
   "source": [
    "## SVM for Balanced Stroke Dataset"
   ]
  },
  {
   "cell_type": "code",
   "execution_count": 73,
   "id": "e131fd1e",
   "metadata": {},
   "outputs": [
    {
     "data": {
      "text/plain": [
       "SVC(C=0.5, kernel='linear')"
      ]
     },
     "execution_count": 73,
     "metadata": {},
     "output_type": "execute_result"
    }
   ],
   "source": [
    "clf3 = svm.SVC(C = 0.5,kernel = 'linear')\n",
    "clf3.fit(new_stroke_feature_train,y_stroke_train1)"
   ]
  },
  {
   "cell_type": "code",
   "execution_count": 74,
   "id": "f8cca3a0",
   "metadata": {},
   "outputs": [],
   "source": [
    "clf3_pred = clf3.predict(new_stroke_feature_test)\n",
    "y_train_svm_str_pred =clf3.predict(new_stroke_feature_train)\n",
    "y_test_svm_str_pred = clf3.predict(new_stroke_feature_test)"
   ]
  },
  {
   "cell_type": "code",
   "execution_count": 75,
   "id": "0a67f635",
   "metadata": {},
   "outputs": [
    {
     "name": "stdout",
     "output_type": "stream",
     "text": [
      "Accuracy:0.77\n",
      "Precision:0.7017543859649122\n",
      "Recall:0.8695652173913043\n",
      "F1 score:0.7766990291262136\n"
     ]
    }
   ],
   "source": [
    "print(\"Accuracy:{}\".format(accuracy_score(y_stroke_test1, y_test_svm_str_pred)))\n",
    "print(\"Precision:{}\".format(precision_score(y_stroke_test1, y_test_svm_str_pred)))\n",
    "print(\"Recall:{}\".format(recall_score(y_stroke_test1, y_test_svm_str_pred)))\n",
    "print(\"F1 score:{}\".format(f1_score(y_stroke_test1, y_test_svm_str_pred)))"
   ]
  },
  {
   "cell_type": "code",
   "execution_count": 76,
   "id": "4ede3cf8",
   "metadata": {},
   "outputs": [
    {
     "name": "stdout",
     "output_type": "stream",
     "text": [
      "confusion matrics:\n",
      " [[37 17]\n",
      " [ 6 40]]\n",
      "\n",
      "\n",
      "classification report:\n",
      "               precision    recall  f1-score   support\n",
      "\n",
      "           0       0.86      0.69      0.76        54\n",
      "           1       0.70      0.87      0.78        46\n",
      "\n",
      "    accuracy                           0.77       100\n",
      "   macro avg       0.78      0.78      0.77       100\n",
      "weighted avg       0.79      0.77      0.77       100\n",
      "\n"
     ]
    }
   ],
   "source": [
    "print(\"confusion matrics:\\n\",confusion_matrix(y_stroke_test1,clf3_pred))\n",
    "print(\"\\n\\nclassification report:\\n\",classification_report(y_stroke_test1,clf3_pred))"
   ]
  },
  {
   "cell_type": "code",
   "execution_count": 77,
   "id": "1091cbcf",
   "metadata": {},
   "outputs": [
    {
     "data": {
      "image/png": "[encoded data removed]",
      "text/plain": [
       "<Figure size 432x288 with 2 Axes>"
      ]
     },
     "metadata": {
      "needs_background": "light"
     },
     "output_type": "display_data"
    }
   ],
   "source": [
    "cnf_matrix_str_svm = confusion_matrix(y_stroke_test1, y_test_svm_str_pred)\n",
    "plot_cnf_matirx(cnf_matrix_str_svm,'Stroke Confusion matrix -- SVM')"
   ]
  },
  {
   "cell_type": "markdown",
   "id": "b8bb47d0",
   "metadata": {},
   "source": [
    "## Linear Regression for Balanced Stroke Dataset"
   ]
  },
  {
   "cell_type": "code",
   "execution_count": 78,
   "id": "98d9da6a",
   "metadata": {},
   "outputs": [
    {
     "data": {
      "text/plain": [
       "LinearRegression()"
      ]
     },
     "execution_count": 78,
     "metadata": {},
     "output_type": "execute_result"
    }
   ],
   "source": [
    "lr = LinearRegression()\n",
    "lr.fit(new_stroke_feature_train, y_stroke_train1)"
   ]
  },
  {
   "cell_type": "code",
   "execution_count": 79,
   "id": "8d186d31",
   "metadata": {},
   "outputs": [
    {
     "name": "stdout",
     "output_type": "stream",
     "text": [
      "[ 0.45201005  0.61684605  0.35250017  0.56033838  0.56886273  0.0878048\n",
      "  0.06697463  0.02369708  0.46995838  0.70249147  0.42776869  0.51566538\n",
      "  1.08958175  0.62402344  0.34776308  0.61693278  0.18145048  0.71896769\n",
      "  0.759241    0.42237614  0.34226292  0.03756254  0.47456244  0.69324687\n",
      "  0.38549426  0.08921985  0.39835399  0.89959306  0.03975035  0.54387436\n",
      "  0.39181066  0.10850057  0.74895691  0.7634967   0.25900411  0.90581919\n",
      "  0.39779369  0.58912966  0.67031584  0.58471728  0.82266012  0.4939689\n",
      "  0.8021722   0.6819534   0.45960259  0.03636425  0.11842225  1.05521496\n",
      "  0.34454776  0.96443091  0.83826516  0.55970142  0.78292553  0.30986549\n",
      "  0.90498576  0.78399248  0.25902886  0.10614335  0.66569037  0.73783923\n",
      "  0.82466253  0.83516533  0.74438116  0.65450535  0.55435379  0.61464199\n",
      "  0.839243    0.95712381  0.1037569   0.38151776  0.91541204  0.03804308\n",
      "  0.67378282  0.12257277  0.1440603   0.67613901  0.27194637  0.41675339\n",
      "  0.50719543  0.91656043  0.80297305  0.82803386  0.8023135   0.58139957\n",
      "  0.6365517   0.57755298  0.52903264  0.80907407 -0.01856525  0.17142868\n",
      "  0.44522148  0.42032847  0.68308557  0.2823671   0.81344953  0.25573095\n",
      "  0.62326006  0.74865517  0.86972418  0.36290566]\n",
      "100\n"
     ]
    }
   ],
   "source": [
    "new_predictions = lr.predict(new_stroke_feature_test)\n",
    "print(new_predictions)\n",
    "print(len(new_predictions))"
   ]
  },
  {
   "cell_type": "code",
   "execution_count": 80,
   "id": "d076f267",
   "metadata": {},
   "outputs": [
    {
     "name": "stdout",
     "output_type": "stream",
     "text": [
      "Using Linear Regression, MAE is 0.35\n",
      "Using Linear Regression, RMSE is 0.42\n"
     ]
    }
   ],
   "source": [
    "mae = np.mean(abs(new_predictions - y_stroke_test1))\n",
    "rmse = np.sqrt(np.mean((new_predictions - y_stroke_test1) ** 2))\n",
    "print('Using Linear Regression, MAE is %0.2f' %  mae)  \n",
    "print('Using Linear Regression, RMSE is %0.2f' %  rmse)    "
   ]
  },
  {
   "cell_type": "code",
   "execution_count": 81,
   "id": "941b9b8e",
   "metadata": {},
   "outputs": [
    {
     "name": "stdout",
     "output_type": "stream",
     "text": [
      "w0: -0.19980633541332216\n",
      "w1,w2,w3,w4,w5,w6,w7,w8,w9,w10: [ 0.01404056  0.01472625  0.05503258  0.06480097 -0.08533749 -0.02669053\n",
      "  0.07155995  0.00047909 -0.00336384  0.03566789]\n"
     ]
    }
   ],
   "source": [
    "print('w0:',lr.intercept_)\n",
    "print('w1,w2,w3,w4,w5,w6,w7,w8,w9,w10:',lr.coef_)"
   ]
  },
  {
   "cell_type": "code",
   "execution_count": 83,
   "id": "acd76f4a",
   "metadata": {},
   "outputs": [
    {
     "data": {
      "text/plain": [
       "age                   55.088844\n",
       "gender                 0.562814\n",
       "hypertension           0.180905\n",
       "heart_disease          0.118090\n",
       "ever_married           0.778894\n",
       "work_type              2.778894\n",
       "Residence_type         0.494975\n",
       "avg_glucose_level    119.098693\n",
       "bmi                   26.947739\n",
       "smoking_status         1.381910\n",
       "dtype: float64"
      ]
     },
     "execution_count": 83,
     "metadata": {},
     "output_type": "execute_result"
    }
   ],
   "source": [
    "new_stroke_feature_train.mean()"
   ]
  },
  {
   "cell_type": "code",
   "execution_count": null,
   "id": "acc7d26c",
   "metadata": {},
   "outputs": [],
   "source": []
  }
 ],
 "metadata": {
  "kernelspec": {
   "display_name": "Python 3 (ipykernel)",
   "language": "python",
   "name": "python3"
  },
  "language_info": {
   "codemirror_mode": {
    "name": "ipython",
    "version": 3
   },
   "file_extension": ".py",
   "mimetype": "text/x-python",
   "name": "python",
   "nbconvert_exporter": "python",
   "pygments_lexer": "ipython3",
   "version": "3.9.12"
  }
 },
 "nbformat": 4,
 "nbformat_minor": 5
}
