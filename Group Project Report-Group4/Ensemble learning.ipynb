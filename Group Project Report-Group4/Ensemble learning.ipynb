{
 "cells": [
  {
   "cell_type": "code",
   "execution_count": 1,
   "metadata": {
    "execution": {
     "iopub.execute_input": "2023-05-04T03:36:52.378576Z",
     "iopub.status.busy": "2023-05-04T03:36:52.378016Z",
     "iopub.status.idle": "2023-05-04T03:36:53.751285Z",
     "shell.execute_reply": "2023-05-04T03:36:53.750422Z",
     "shell.execute_reply.started": "2023-05-04T03:36:52.378533Z"
    },
    "scrolled": true,
    "tags": []
   },
   "outputs": [],
   "source": [
    "import pandas as pd\n",
    "import numpy as np\n",
    "import matplotlib.pyplot as plt\n",
    "import seaborn as sns\n",
    "import warnings\n",
    "from sklearn.model_selection import GridSearchCV,KFold, cross_val_score\n",
    "warnings.filterwarnings(\"ignore\")"
   ]
  },
  {
   "cell_type": "code",
   "execution_count": 2,
   "metadata": {
    "execution": {
     "iopub.execute_input": "2023-05-04T03:36:53.830224Z",
     "iopub.status.busy": "2023-05-04T03:36:53.829982Z",
     "iopub.status.idle": "2023-05-04T03:36:53.901903Z",
     "shell.execute_reply": "2023-05-04T03:36:53.900939Z",
     "shell.execute_reply.started": "2023-05-04T03:36:53.830201Z"
    },
    "scrolled": true,
    "tags": []
   },
   "outputs": [],
   "source": [
    "cardio = pd.read_csv('data/cardio.csv',sep=',')\n",
    "stroke = pd.read_csv('data/stroke.csv')"
   ]
  },
  {
   "cell_type": "markdown",
   "metadata": {},
   "source": [
    "# 1.Model for cardio"
   ]
  },
  {
   "cell_type": "code",
   "execution_count": 3,
   "metadata": {
    "execution": {
     "iopub.execute_input": "2023-05-04T03:36:53.923009Z",
     "iopub.status.busy": "2023-05-04T03:36:53.922601Z",
     "iopub.status.idle": "2023-05-04T03:36:53.972260Z",
     "shell.execute_reply": "2023-05-04T03:36:53.971363Z",
     "shell.execute_reply.started": "2023-05-04T03:36:53.922981Z"
    },
    "scrolled": true,
    "tags": []
   },
   "outputs": [],
   "source": [
    "from sklearn.ensemble import RandomForestClassifier, GradientBoostingClassifier, StackingClassifier\n",
    "from sklearn.model_selection import GridSearchCV, train_test_split\n",
    "from sklearn.metrics import accuracy_score, f1_score, recall_score, precision_score"
   ]
  },
  {
   "cell_type": "code",
   "execution_count": 4,
   "metadata": {
    "execution": {
     "iopub.execute_input": "2023-05-04T03:15:49.173505Z",
     "iopub.status.busy": "2023-05-04T03:15:49.172872Z",
     "iopub.status.idle": "2023-05-04T03:15:49.183996Z",
     "shell.execute_reply": "2023-05-04T03:15:49.182995Z",
     "shell.execute_reply.started": "2023-05-04T03:15:49.173474Z"
    },
    "scrolled": true,
    "tags": []
   },
   "outputs": [],
   "source": [
    "X = cardio.drop(\"cardio\", axis=1)\n",
    "y = cardio[\"cardio\"]"
   ]
  },
  {
   "cell_type": "code",
   "execution_count": 5,
   "metadata": {
    "execution": {
     "iopub.execute_input": "2023-05-04T03:15:50.754982Z",
     "iopub.status.busy": "2023-05-04T03:15:50.754388Z",
     "iopub.status.idle": "2023-05-04T03:15:50.770608Z",
     "shell.execute_reply": "2023-05-04T03:15:50.769600Z",
     "shell.execute_reply.started": "2023-05-04T03:15:50.754946Z"
    },
    "scrolled": true
   },
   "outputs": [
    {
     "name": "stdout",
     "output_type": "stream",
     "text": [
      "<class 'pandas.core.frame.DataFrame'>\n",
      "RangeIndex: 68426 entries, 0 to 68425\n",
      "Data columns (total 11 columns):\n",
      " #   Column       Non-Null Count  Dtype  \n",
      "---  ------       --------------  -----  \n",
      " 0   age          68426 non-null  int64  \n",
      " 1   gender       68426 non-null  int64  \n",
      " 2   height       68426 non-null  int64  \n",
      " 3   weight       68426 non-null  float64\n",
      " 4   ap_hi        68426 non-null  int64  \n",
      " 5   ap_lo        68426 non-null  int64  \n",
      " 6   cholesterol  68426 non-null  int64  \n",
      " 7   gluc         68426 non-null  int64  \n",
      " 8   smoke        68426 non-null  int64  \n",
      " 9   alco         68426 non-null  int64  \n",
      " 10  active       68426 non-null  int64  \n",
      "dtypes: float64(1), int64(10)\n",
      "memory usage: 5.7 MB\n"
     ]
    }
   ],
   "source": [
    "X.info()"
   ]
  },
  {
   "cell_type": "code",
   "execution_count": 6,
   "metadata": {
    "execution": {
     "iopub.execute_input": "2023-05-04T03:15:52.939551Z",
     "iopub.status.busy": "2023-05-04T03:15:52.939014Z",
     "iopub.status.idle": "2023-05-04T03:15:52.946237Z",
     "shell.execute_reply": "2023-05-04T03:15:52.945278Z",
     "shell.execute_reply.started": "2023-05-04T03:15:52.939521Z"
    },
    "scrolled": true
   },
   "outputs": [
    {
     "name": "stdout",
     "output_type": "stream",
     "text": [
      "[1 3 2]\n",
      "[1 2 3]\n"
     ]
    }
   ],
   "source": [
    "print(X['cholesterol'].unique() )\n",
    "print(X['gluc'].unique() )"
   ]
  },
  {
   "cell_type": "markdown",
   "metadata": {},
   "source": [
    "## onehot"
   ]
  },
  {
   "cell_type": "code",
   "execution_count": 7,
   "metadata": {
    "execution": {
     "iopub.execute_input": "2023-05-04T03:17:48.677346Z",
     "iopub.status.busy": "2023-05-04T03:17:48.676788Z",
     "iopub.status.idle": "2023-05-04T03:17:48.709132Z",
     "shell.execute_reply": "2023-05-04T03:17:48.708076Z",
     "shell.execute_reply.started": "2023-05-04T03:17:48.677314Z"
    },
    "scrolled": true
   },
   "outputs": [
    {
     "name": "stdout",
     "output_type": "stream",
     "text": [
      "<class 'pandas.core.frame.DataFrame'>\n",
      "RangeIndex: 68426 entries, 0 to 68425\n",
      "Data columns (total 9 columns):\n",
      " #   Column  Non-Null Count  Dtype  \n",
      "---  ------  --------------  -----  \n",
      " 0   age     68426 non-null  int64  \n",
      " 1   gender  68426 non-null  int64  \n",
      " 2   height  68426 non-null  int64  \n",
      " 3   weight  68426 non-null  float64\n",
      " 4   ap_hi   68426 non-null  int64  \n",
      " 5   ap_lo   68426 non-null  int64  \n",
      " 6   smoke   68426 non-null  int64  \n",
      " 7   alco    68426 non-null  int64  \n",
      " 8   active  68426 non-null  int64  \n",
      "dtypes: float64(1), int64(8)\n",
      "memory usage: 4.7 MB\n"
     ]
    }
   ],
   "source": [
    "from sklearn.preprocessing import LabelEncoder,OneHotEncoder \n",
    "\n",
    "ohe=OneHotEncoder()\n",
    "X['cholesterol'] = pd.Categorical(X['cholesterol'])\n",
    "dfdummies_ch=pd.get_dummies(X['cholesterol'],prefix='cholesterol_encoded')\n",
    "\n",
    "X['gluc']=pd.Categorical(X['gluc'])\n",
    "dfmumies_gluc=pd.get_dummies(X['gluc'],prefix='gluc_encoded')\n",
    "\n",
    "\n",
    "X.drop(['cholesterol'], axis=1, inplace=True)\n",
    "X.drop([\"gluc\"], axis=1, inplace=True)\n",
    "\n",
    "X.info()\n"
   ]
  },
  {
   "cell_type": "code",
   "execution_count": 8,
   "metadata": {
    "execution": {
     "iopub.execute_input": "2023-05-04T03:17:53.228349Z",
     "iopub.status.busy": "2023-05-04T03:17:53.227692Z",
     "iopub.status.idle": "2023-05-04T03:17:53.252565Z",
     "shell.execute_reply": "2023-05-04T03:17:53.251469Z",
     "shell.execute_reply.started": "2023-05-04T03:17:53.228317Z"
    },
    "scrolled": true
   },
   "outputs": [
    {
     "name": "stdout",
     "output_type": "stream",
     "text": [
      "<class 'pandas.core.frame.DataFrame'>\n",
      "RangeIndex: 68426 entries, 0 to 68425\n",
      "Data columns (total 15 columns):\n",
      " #   Column                 Non-Null Count  Dtype  \n",
      "---  ------                 --------------  -----  \n",
      " 0   age                    68426 non-null  int64  \n",
      " 1   gender                 68426 non-null  int64  \n",
      " 2   height                 68426 non-null  int64  \n",
      " 3   weight                 68426 non-null  float64\n",
      " 4   ap_hi                  68426 non-null  int64  \n",
      " 5   ap_lo                  68426 non-null  int64  \n",
      " 6   smoke                  68426 non-null  int64  \n",
      " 7   alco                   68426 non-null  int64  \n",
      " 8   active                 68426 non-null  int64  \n",
      " 9   cholesterol_encoded_1  68426 non-null  uint8  \n",
      " 10  cholesterol_encoded_2  68426 non-null  uint8  \n",
      " 11  cholesterol_encoded_3  68426 non-null  uint8  \n",
      " 12  gluc_encoded_1         68426 non-null  uint8  \n",
      " 13  gluc_encoded_2         68426 non-null  uint8  \n",
      " 14  gluc_encoded_3         68426 non-null  uint8  \n",
      "dtypes: float64(1), int64(8), uint8(6)\n",
      "memory usage: 5.1 MB\n"
     ]
    }
   ],
   "source": [
    "X=pd.concat([X,dfdummies_ch],axis=1)\n",
    "X=pd.concat([X,dfmumies_gluc],axis=1) \n",
    "\n",
    "X.info()"
   ]
  },
  {
   "cell_type": "code",
   "execution_count": 9,
   "metadata": {
    "execution": {
     "iopub.execute_input": "2023-05-04T03:17:53.841810Z",
     "iopub.status.busy": "2023-05-04T03:17:53.840940Z",
     "iopub.status.idle": "2023-05-04T03:17:53.879181Z",
     "shell.execute_reply": "2023-05-04T03:17:53.878226Z",
     "shell.execute_reply.started": "2023-05-04T03:17:53.841777Z"
    },
    "scrolled": true,
    "tags": []
   },
   "outputs": [
    {
     "data": {
      "text/html": [
       "<div>\n",
       "<style scoped>\n",
       "    .dataframe tbody tr th:only-of-type {\n",
       "        vertical-align: middle;\n",
       "    }\n",
       "\n",
       "    .dataframe tbody tr th {\n",
       "        vertical-align: top;\n",
       "    }\n",
       "\n",
       "    .dataframe thead th {\n",
       "        text-align: right;\n",
       "    }\n",
       "</style>\n",
       "<table border=\"1\" class=\"dataframe\">\n",
       "  <thead>\n",
       "    <tr style=\"text-align: right;\">\n",
       "      <th></th>\n",
       "      <th>gender</th>\n",
       "      <th>smoke</th>\n",
       "      <th>alco</th>\n",
       "      <th>active</th>\n",
       "      <th>cholesterol_encoded_1</th>\n",
       "      <th>cholesterol_encoded_2</th>\n",
       "      <th>cholesterol_encoded_3</th>\n",
       "      <th>gluc_encoded_1</th>\n",
       "      <th>gluc_encoded_2</th>\n",
       "      <th>gluc_encoded_3</th>\n",
       "      <th>age</th>\n",
       "      <th>height</th>\n",
       "      <th>weight</th>\n",
       "      <th>ap_hi</th>\n",
       "      <th>ap_lo</th>\n",
       "    </tr>\n",
       "  </thead>\n",
       "  <tbody>\n",
       "    <tr>\n",
       "      <th>0</th>\n",
       "      <td>2</td>\n",
       "      <td>0</td>\n",
       "      <td>0</td>\n",
       "      <td>1</td>\n",
       "      <td>1</td>\n",
       "      <td>0</td>\n",
       "      <td>0</td>\n",
       "      <td>1</td>\n",
       "      <td>0</td>\n",
       "      <td>0</td>\n",
       "      <td>-0.416121</td>\n",
       "      <td>0.444384</td>\n",
       "      <td>-0.844510</td>\n",
       "      <td>-1.017996</td>\n",
       "      <td>-0.121137</td>\n",
       "    </tr>\n",
       "    <tr>\n",
       "      <th>1</th>\n",
       "      <td>1</td>\n",
       "      <td>0</td>\n",
       "      <td>0</td>\n",
       "      <td>1</td>\n",
       "      <td>0</td>\n",
       "      <td>0</td>\n",
       "      <td>1</td>\n",
       "      <td>1</td>\n",
       "      <td>0</td>\n",
       "      <td>0</td>\n",
       "      <td>0.322223</td>\n",
       "      <td>-1.021610</td>\n",
       "      <td>0.764337</td>\n",
       "      <td>0.848567</td>\n",
       "      <td>0.939519</td>\n",
       "    </tr>\n",
       "    <tr>\n",
       "      <th>2</th>\n",
       "      <td>1</td>\n",
       "      <td>0</td>\n",
       "      <td>0</td>\n",
       "      <td>0</td>\n",
       "      <td>0</td>\n",
       "      <td>0</td>\n",
       "      <td>1</td>\n",
       "      <td>1</td>\n",
       "      <td>0</td>\n",
       "      <td>0</td>\n",
       "      <td>-0.268452</td>\n",
       "      <td>0.077885</td>\n",
       "      <td>-0.704611</td>\n",
       "      <td>0.226379</td>\n",
       "      <td>-1.181793</td>\n",
       "    </tr>\n",
       "    <tr>\n",
       "      <th>3</th>\n",
       "      <td>2</td>\n",
       "      <td>0</td>\n",
       "      <td>0</td>\n",
       "      <td>1</td>\n",
       "      <td>1</td>\n",
       "      <td>0</td>\n",
       "      <td>0</td>\n",
       "      <td>1</td>\n",
       "      <td>0</td>\n",
       "      <td>0</td>\n",
       "      <td>-0.711458</td>\n",
       "      <td>0.566550</td>\n",
       "      <td>0.554488</td>\n",
       "      <td>1.470754</td>\n",
       "      <td>2.000175</td>\n",
       "    </tr>\n",
       "    <tr>\n",
       "      <th>4</th>\n",
       "      <td>1</td>\n",
       "      <td>0</td>\n",
       "      <td>0</td>\n",
       "      <td>0</td>\n",
       "      <td>1</td>\n",
       "      <td>0</td>\n",
       "      <td>0</td>\n",
       "      <td>1</td>\n",
       "      <td>0</td>\n",
       "      <td>0</td>\n",
       "      <td>-0.859126</td>\n",
       "      <td>-1.021610</td>\n",
       "      <td>-1.264210</td>\n",
       "      <td>-1.640183</td>\n",
       "      <td>-2.242449</td>\n",
       "    </tr>\n",
       "    <tr>\n",
       "      <th>...</th>\n",
       "      <td>...</td>\n",
       "      <td>...</td>\n",
       "      <td>...</td>\n",
       "      <td>...</td>\n",
       "      <td>...</td>\n",
       "      <td>...</td>\n",
       "      <td>...</td>\n",
       "      <td>...</td>\n",
       "      <td>...</td>\n",
       "      <td>...</td>\n",
       "      <td>...</td>\n",
       "      <td>...</td>\n",
       "      <td>...</td>\n",
       "      <td>...</td>\n",
       "      <td>...</td>\n",
       "    </tr>\n",
       "    <tr>\n",
       "      <th>68421</th>\n",
       "      <td>2</td>\n",
       "      <td>1</td>\n",
       "      <td>0</td>\n",
       "      <td>1</td>\n",
       "      <td>1</td>\n",
       "      <td>0</td>\n",
       "      <td>0</td>\n",
       "      <td>1</td>\n",
       "      <td>0</td>\n",
       "      <td>0</td>\n",
       "      <td>-0.120783</td>\n",
       "      <td>0.444384</td>\n",
       "      <td>0.134788</td>\n",
       "      <td>-0.395808</td>\n",
       "      <td>-0.121137</td>\n",
       "    </tr>\n",
       "    <tr>\n",
       "      <th>68422</th>\n",
       "      <td>1</td>\n",
       "      <td>0</td>\n",
       "      <td>0</td>\n",
       "      <td>1</td>\n",
       "      <td>0</td>\n",
       "      <td>1</td>\n",
       "      <td>0</td>\n",
       "      <td>0</td>\n",
       "      <td>1</td>\n",
       "      <td>0</td>\n",
       "      <td>1.208234</td>\n",
       "      <td>-0.777278</td>\n",
       "      <td>3.632283</td>\n",
       "      <td>0.848567</td>\n",
       "      <td>0.939519</td>\n",
       "    </tr>\n",
       "    <tr>\n",
       "      <th>68423</th>\n",
       "      <td>2</td>\n",
       "      <td>0</td>\n",
       "      <td>1</td>\n",
       "      <td>0</td>\n",
       "      <td>0</td>\n",
       "      <td>0</td>\n",
       "      <td>1</td>\n",
       "      <td>1</td>\n",
       "      <td>0</td>\n",
       "      <td>0</td>\n",
       "      <td>-0.120783</td>\n",
       "      <td>2.276877</td>\n",
       "      <td>2.163335</td>\n",
       "      <td>3.337317</td>\n",
       "      <td>0.939519</td>\n",
       "    </tr>\n",
       "    <tr>\n",
       "      <th>68424</th>\n",
       "      <td>1</td>\n",
       "      <td>0</td>\n",
       "      <td>0</td>\n",
       "      <td>0</td>\n",
       "      <td>1</td>\n",
       "      <td>0</td>\n",
       "      <td>0</td>\n",
       "      <td>0</td>\n",
       "      <td>1</td>\n",
       "      <td>0</td>\n",
       "      <td>1.208234</td>\n",
       "      <td>-0.166447</td>\n",
       "      <td>-0.145011</td>\n",
       "      <td>0.537473</td>\n",
       "      <td>-0.121137</td>\n",
       "    </tr>\n",
       "    <tr>\n",
       "      <th>68425</th>\n",
       "      <td>1</td>\n",
       "      <td>0</td>\n",
       "      <td>0</td>\n",
       "      <td>1</td>\n",
       "      <td>0</td>\n",
       "      <td>1</td>\n",
       "      <td>0</td>\n",
       "      <td>1</td>\n",
       "      <td>0</td>\n",
       "      <td>0</td>\n",
       "      <td>0.469891</td>\n",
       "      <td>0.688716</td>\n",
       "      <td>-0.145011</td>\n",
       "      <td>-0.395808</td>\n",
       "      <td>-0.121137</td>\n",
       "    </tr>\n",
       "  </tbody>\n",
       "</table>\n",
       "<p>68426 rows × 15 columns</p>\n",
       "</div>"
      ],
      "text/plain": [
       "       gender  smoke  alco  active  cholesterol_encoded_1  \\\n",
       "0           2      0     0       1                      1   \n",
       "1           1      0     0       1                      0   \n",
       "2           1      0     0       0                      0   \n",
       "3           2      0     0       1                      1   \n",
       "4           1      0     0       0                      1   \n",
       "...       ...    ...   ...     ...                    ...   \n",
       "68421       2      1     0       1                      1   \n",
       "68422       1      0     0       1                      0   \n",
       "68423       2      0     1       0                      0   \n",
       "68424       1      0     0       0                      1   \n",
       "68425       1      0     0       1                      0   \n",
       "\n",
       "       cholesterol_encoded_2  cholesterol_encoded_3  gluc_encoded_1  \\\n",
       "0                          0                      0               1   \n",
       "1                          0                      1               1   \n",
       "2                          0                      1               1   \n",
       "3                          0                      0               1   \n",
       "4                          0                      0               1   \n",
       "...                      ...                    ...             ...   \n",
       "68421                      0                      0               1   \n",
       "68422                      1                      0               0   \n",
       "68423                      0                      1               1   \n",
       "68424                      0                      0               0   \n",
       "68425                      1                      0               1   \n",
       "\n",
       "       gluc_encoded_2  gluc_encoded_3       age    height    weight     ap_hi  \\\n",
       "0                   0               0 -0.416121  0.444384 -0.844510 -1.017996   \n",
       "1                   0               0  0.322223 -1.021610  0.764337  0.848567   \n",
       "2                   0               0 -0.268452  0.077885 -0.704611  0.226379   \n",
       "3                   0               0 -0.711458  0.566550  0.554488  1.470754   \n",
       "4                   0               0 -0.859126 -1.021610 -1.264210 -1.640183   \n",
       "...               ...             ...       ...       ...       ...       ...   \n",
       "68421               0               0 -0.120783  0.444384  0.134788 -0.395808   \n",
       "68422               1               0  1.208234 -0.777278  3.632283  0.848567   \n",
       "68423               0               0 -0.120783  2.276877  2.163335  3.337317   \n",
       "68424               1               0  1.208234 -0.166447 -0.145011  0.537473   \n",
       "68425               0               0  0.469891  0.688716 -0.145011 -0.395808   \n",
       "\n",
       "          ap_lo  \n",
       "0     -0.121137  \n",
       "1      0.939519  \n",
       "2     -1.181793  \n",
       "3      2.000175  \n",
       "4     -2.242449  \n",
       "...         ...  \n",
       "68421 -0.121137  \n",
       "68422  0.939519  \n",
       "68423  0.939519  \n",
       "68424 -0.121137  \n",
       "68425 -0.121137  \n",
       "\n",
       "[68426 rows x 15 columns]"
      ]
     },
     "execution_count": 9,
     "metadata": {},
     "output_type": "execute_result"
    }
   ],
   "source": [
    "#standardlization\n",
    "from sklearn.preprocessing import StandardScaler\n",
    "std=StandardScaler()\n",
    "columns = ['age','height','weight','ap_hi','ap_lo']\n",
    "scaled = std.fit_transform(X[['age','height','weight','ap_hi','ap_lo']])\n",
    "scaled = pd.DataFrame(scaled,columns=columns)\n",
    "\n",
    "X=X.drop(columns=columns,axis=1)\n",
    "X=X.merge(scaled, left_index=True, right_index=True, how = \"left\")\n",
    "X \n"
   ]
  },
  {
   "cell_type": "code",
   "execution_count": 10,
   "metadata": {
    "execution": {
     "iopub.execute_input": "2023-05-04T03:17:56.814879Z",
     "iopub.status.busy": "2023-05-04T03:17:56.813958Z",
     "iopub.status.idle": "2023-05-04T03:17:56.832827Z",
     "shell.execute_reply": "2023-05-04T03:17:56.831828Z",
     "shell.execute_reply.started": "2023-05-04T03:17:56.814844Z"
    },
    "scrolled": true,
    "tags": []
   },
   "outputs": [],
   "source": [
    "X_train_cardio, X_test_cardio, y_train_cardio, y_test_cardio = train_test_split(X, y, test_size=0.2, random_state=42)"
   ]
  },
  {
   "cell_type": "code",
   "execution_count": 11,
   "metadata": {
    "execution": {
     "iopub.execute_input": "2023-05-04T03:17:57.626756Z",
     "iopub.status.busy": "2023-05-04T03:17:57.626127Z",
     "iopub.status.idle": "2023-05-04T03:17:57.631779Z",
     "shell.execute_reply": "2023-05-04T03:17:57.631064Z",
     "shell.execute_reply.started": "2023-05-04T03:17:57.626726Z"
    },
    "scrolled": true
   },
   "outputs": [
    {
     "data": {
      "text/plain": [
       "13686"
      ]
     },
     "execution_count": 11,
     "metadata": {},
     "output_type": "execute_result"
    }
   ],
   "source": [
    "len(X_test_cardio) \n"
   ]
  },
  {
   "cell_type": "code",
   "execution_count": 12,
   "metadata": {
    "execution": {
     "iopub.execute_input": "2023-05-04T03:18:12.857707Z",
     "iopub.status.busy": "2023-05-04T03:18:12.857197Z",
     "iopub.status.idle": "2023-05-04T03:18:12.862933Z",
     "shell.execute_reply": "2023-05-04T03:18:12.862122Z",
     "shell.execute_reply.started": "2023-05-04T03:18:12.857677Z"
    },
    "scrolled": true,
    "tags": []
   },
   "outputs": [],
   "source": [
    "rf_param_grid = {\n",
    "    \"n_estimators\": [100, 200],\n",
    "    \"max_depth\": [10, 20],\n",
    "    \"min_samples_split\": [2, 5, 10],\n",
    "    \"min_samples_leaf\": [1, 2, 4]\n",
    "}"
   ]
  },
  {
   "cell_type": "code",
   "execution_count": 13,
   "metadata": {
    "execution": {
     "iopub.execute_input": "2023-05-04T03:18:19.544651Z",
     "iopub.status.busy": "2023-05-04T03:18:19.543463Z",
     "iopub.status.idle": "2023-05-04T03:24:28.687777Z",
     "shell.execute_reply": "2023-05-04T03:24:28.686458Z",
     "shell.execute_reply.started": "2023-05-04T03:18:19.544602Z"
    },
    "scrolled": true,
    "tags": []
   },
   "outputs": [],
   "source": [
    "rf_clf = RandomForestClassifier(random_state=42)\n",
    "rf_grid_search = GridSearchCV(rf_clf, rf_param_grid, cv=5, scoring=\"accuracy\", n_jobs=-1)\n",
    "rf_grid_search.fit(X_train_cardio, y_train_cardio)\n",
    "best_rf_clf = rf_grid_search.best_estimator_"
   ]
  },
  {
   "cell_type": "code",
   "execution_count": 14,
   "metadata": {
    "execution": {
     "iopub.execute_input": "2023-05-04T03:24:28.711164Z",
     "iopub.status.busy": "2023-05-04T03:24:28.710780Z",
     "iopub.status.idle": "2023-05-04T03:24:28.716516Z"
    },
    "scrolled": true
   },
   "outputs": [
    {
     "data": {
      "text/plain": [
       "{'max_depth': 10,\n",
       " 'min_samples_leaf': 4,\n",
       " 'min_samples_split': 2,\n",
       " 'n_estimators': 100}"
      ]
     },
     "execution_count": 14,
     "metadata": {},
     "output_type": "execute_result"
    }
   ],
   "source": [
    "rf_grid_search.best_params_"
   ]
  },
  {
   "cell_type": "code",
   "execution_count": 15,
   "metadata": {
    "execution": {
     "iopub.execute_input": "2023-05-04T03:25:57.302096Z",
     "iopub.status.busy": "2023-05-04T03:25:57.301508Z",
     "iopub.status.idle": "2023-05-04T03:25:59.604610Z",
     "shell.execute_reply": "2023-05-04T03:25:59.603777Z",
     "shell.execute_reply.started": "2023-05-04T03:25:57.302063Z"
    },
    "scrolled": true,
    "tags": []
   },
   "outputs": [
    {
     "data": {
      "text/plain": [
       "RandomForestClassifier(max_depth=10, min_samples_leaf=4, random_state=42)"
      ]
     },
     "execution_count": 15,
     "metadata": {},
     "output_type": "execute_result"
    }
   ],
   "source": [
    "best_rf_clf = RandomForestClassifier(**rf_grid_search.best_params_, random_state=42)\n",
    "\n",
    "best_rf_clf.fit(X_train_cardio, y_train_cardio)"
   ]
  },
  {
   "cell_type": "code",
   "execution_count": 16,
   "metadata": {
    "execution": {
     "iopub.execute_input": "2023-05-04T03:26:32.201049Z",
     "iopub.status.busy": "2023-05-04T03:26:32.200518Z",
     "iopub.status.idle": "2023-05-04T03:26:32.415062Z",
     "shell.execute_reply": "2023-05-04T03:26:32.413648Z",
     "shell.execute_reply.started": "2023-05-04T03:26:32.201018Z"
    },
    "scrolled": true,
    "tags": []
   },
   "outputs": [
    {
     "name": "stdout",
     "output_type": "stream",
     "text": [
      "Randomforest:results of cardio:\n",
      "Accuracy: 0.7328\n",
      "Recall: 0.6579\n",
      "Precision: 0.7610\n",
      "F1 Score: 0.7057\n",
      "              precision    recall  f1-score   support\n",
      "\n",
      "           0       0.71      0.80      0.76      7022\n",
      "           1       0.76      0.66      0.71      6664\n",
      "\n",
      "    accuracy                           0.73     13686\n",
      "   macro avg       0.74      0.73      0.73     13686\n",
      "weighted avg       0.74      0.73      0.73     13686\n",
      "\n"
     ]
    }
   ],
   "source": [
    "from sklearn.metrics import accuracy_score, f1_score, recall_score, precision_score\n",
    "from sklearn.metrics import classification_report\n",
    "\n",
    "\n",
    "y_pred_cardio = best_rf_clf.predict(X_test_cardio)\n",
    "\n",
    "accuracy_cardio = accuracy_score(y_test_cardio, y_pred_cardio)\n",
    "recall_cardio = recall_score(y_test_cardio, y_pred_cardio)\n",
    "precision_cardio = precision_score(y_test_cardio, y_pred_cardio)\n",
    "f1_score_cardio = f1_score(y_test_cardio, y_pred_cardio)\n",
    "\n",
    "report = classification_report(y_test_cardio, y_pred_cardio)\n",
    "\n",
    "print(f\"Randomforest:results of cardio:\")\n",
    "print(f\"Accuracy: {accuracy_cardio:.4f}\")\n",
    "print(f\"Recall: {recall_cardio:.4f}\")\n",
    "print(f\"Precision: {precision_cardio:.4f}\")\n",
    "print(f\"F1 Score: {f1_score_cardio:.4f}\")\n",
    "print(report)"
   ]
  },
  {
   "cell_type": "markdown",
   "metadata": {},
   "source": [
    "## stacking for cardio"
   ]
  },
  {
   "cell_type": "code",
   "execution_count": 17,
   "metadata": {
    "execution": {
     "iopub.execute_input": "2023-05-04T03:26:55.317581Z",
     "iopub.status.busy": "2023-05-04T03:26:55.316821Z",
     "iopub.status.idle": "2023-05-04T03:26:55.322290Z",
     "shell.execute_reply": "2023-05-04T03:26:55.321387Z",
     "shell.execute_reply.started": "2023-05-04T03:26:55.317542Z"
    },
    "scrolled": true,
    "tags": []
   },
   "outputs": [],
   "source": [
    "from sklearn.linear_model import LogisticRegression\n",
    "lr = LogisticRegression(random_state=42)\n",
    "\n",
    "\n",
    "base_models = [\n",
    "    ('rf', best_rf_clf),\n",
    "    ('lr', lr)\n",
    "]"
   ]
  },
  {
   "cell_type": "code",
   "execution_count": 18,
   "metadata": {
    "execution": {
     "iopub.execute_input": "2023-05-04T03:27:23.821434Z",
     "iopub.status.busy": "2023-05-04T03:27:23.820887Z",
     "iopub.status.idle": "2023-05-04T03:27:37.580604Z",
     "shell.execute_reply": "2023-05-04T03:27:37.579235Z",
     "shell.execute_reply.started": "2023-05-04T03:27:23.821401Z"
    },
    "scrolled": true,
    "tags": []
   },
   "outputs": [
    {
     "name": "stdout",
     "output_type": "stream",
     "text": [
      "stacking:results for cardio\n",
      "Accuracy: 0.7329\n",
      "Recall: 0.6654\n",
      "Precision: 0.7568\n",
      "F1 Score: 0.7081\n",
      "              precision    recall  f1-score   support\n",
      "\n",
      "           0       0.72      0.80      0.75      7022\n",
      "           1       0.76      0.67      0.71      6664\n",
      "\n",
      "    accuracy                           0.73     13686\n",
      "   macro avg       0.74      0.73      0.73     13686\n",
      "weighted avg       0.74      0.73      0.73     13686\n",
      "\n"
     ]
    }
   ],
   "source": [
    "from sklearn.linear_model import LogisticRegression\n",
    "\n",
    "stacking_clf = StackingClassifier(estimators=base_models, cv=5, n_jobs=-1)\n",
    "stacking_clf.fit(X_train_cardio, y_train_cardio)\n",
    "\n",
    "\n",
    "y_pred_stacking = stacking_clf.predict(X_test_cardio)\n",
    "\n",
    "\n",
    "accuracy_cardio = accuracy_score(y_test_cardio, y_pred_stacking)\n",
    "recall_cardio = recall_score(y_test_cardio, y_pred_stacking)\n",
    "precision_cardio = precision_score(y_test_cardio, y_pred_stacking)\n",
    "f1_score_cardio = f1_score(y_test_cardio, y_pred_stacking)\n",
    "\n",
    "report = classification_report(y_test_cardio, y_pred_stacking)\n",
    "\n",
    "print(f\"stacking:results for cardio\")\n",
    "print(f\"Accuracy: {accuracy_cardio:.4f}\")\n",
    "print(f\"Recall: {recall_cardio:.4f}\")\n",
    "print(f\"Precision: {precision_cardio:.4f}\")\n",
    "print(f\"F1 Score: {f1_score_cardio:.4f}\")\n",
    "print(report)"
   ]
  },
  {
   "cell_type": "markdown",
   "metadata": {},
   "source": [
    "## boosting"
   ]
  },
  {
   "cell_type": "code",
   "execution_count": 33,
   "metadata": {
    "execution": {
     "iopub.execute_input": "2023-05-04T03:28:11.966209Z",
     "iopub.status.busy": "2023-05-04T03:28:11.965589Z",
     "iopub.status.idle": "2023-05-04T03:28:11.973081Z",
     "shell.execute_reply": "2023-05-04T03:28:11.972213Z",
     "shell.execute_reply.started": "2023-05-04T03:28:11.966177Z"
    },
    "scrolled": true
   },
   "outputs": [],
   "source": [
    "def print_results(results):\n",
    "    print('BEST PARAMS: {}\\n'.format(results.best_params_))\n",
    "\n",
    "    means = results.cv_results_['mean_test_score']\n",
    "    stds = results.cv_results_['std_test_score']\n",
    "    for mean, std, params in zip(means, stds, results.cv_results_['params']):\n",
    "        print('{} (+/-{}) for {}'.format(round(mean, 3), round(std * 2, 3), params))\n",
    "\n",
    "def grid_search(model, parameters, features, labels):\n",
    "  cv = GridSearchCV(model, parameters, cv=5,n_jobs=-1)\n",
    "  cv.fit(features, labels.values.ravel())\n",
    "  print_results(cv)\n",
    "\n",
    "  return cv "
   ]
  },
  {
   "cell_type": "code",
   "execution_count": 19,
   "metadata": {
    "execution": {
     "iopub.execute_input": "2023-05-04T03:28:14.077580Z",
     "iopub.status.busy": "2023-05-04T03:28:14.076993Z",
     "iopub.status.idle": "2023-05-04T03:28:14.081862Z",
     "shell.execute_reply": "2023-05-04T03:28:14.081003Z",
     "shell.execute_reply.started": "2023-05-04T03:28:14.077549Z"
    },
    "scrolled": true
   },
   "outputs": [],
   "source": [
    "boosting = GradientBoostingClassifier(learning_rate= 0.1, max_depth= 5, n_estimators=50)"
   ]
  },
  {
   "cell_type": "code",
   "execution_count": 20,
   "metadata": {
    "execution": {
     "iopub.execute_input": "2023-05-04T03:28:45.895199Z",
     "iopub.status.busy": "2023-05-04T03:28:45.894454Z",
     "iopub.status.idle": "2023-05-04T03:28:49.072569Z",
     "shell.execute_reply": "2023-05-04T03:28:49.071485Z",
     "shell.execute_reply.started": "2023-05-04T03:28:45.895166Z"
    },
    "scrolled": true
   },
   "outputs": [
    {
     "name": "stdout",
     "output_type": "stream",
     "text": [
      "boosting:results of cardio\n",
      "Accuracy: 0.7329\n",
      "Recall: 0.6841\n",
      "Precision: 0.7463\n",
      "F1 Score: 0.7138\n",
      "              precision    recall  f1-score   support\n",
      "\n",
      "           0       0.72      0.78      0.75      7022\n",
      "           1       0.75      0.68      0.71      6664\n",
      "\n",
      "    accuracy                           0.73     13686\n",
      "   macro avg       0.73      0.73      0.73     13686\n",
      "weighted avg       0.73      0.73      0.73     13686\n",
      "\n"
     ]
    }
   ],
   "source": [
    "\n",
    "boosting.fit(X_train_cardio, y_train_cardio)\n",
    "y_pred_stacking = boosting.predict(X_test_cardio)\n",
    "\n",
    "\n",
    "accuracy_cardio = accuracy_score(y_test_cardio, y_pred_stacking)\n",
    "recall_cardio = recall_score(y_test_cardio, y_pred_stacking)\n",
    "precision_cardio = precision_score(y_test_cardio, y_pred_stacking)\n",
    "f1_score_cardio = f1_score(y_test_cardio, y_pred_stacking) \n",
    "\n",
    "report = classification_report(y_test_cardio, y_pred_stacking)\n",
    "\n",
    "print(f\"boosting:results of cardio\")\n",
    "print(f\"Accuracy: {accuracy_cardio:.4f}\")\n",
    "print(f\"Recall: {recall_cardio:.4f}\")\n",
    "print(f\"Precision: {precision_cardio:.4f}\")\n",
    "print(f\"F1 Score: {f1_score_cardio:.4f}\")\n",
    "print(report)"
   ]
  },
  {
   "cell_type": "code",
   "execution_count": 24,
   "metadata": {
    "scrolled": true
   },
   "outputs": [
    {
     "name": "stdout",
     "output_type": "stream",
     "text": [
      "[[5472 1550]\r\n",
      " [2105 4559]]\r\n"
     ]
    },
    {
     "data": {
      "text/plain": [
       "Text(30.5, 0.5, 'true')"
      ]
     },
     "execution_count": 24,
     "metadata": {},
     "output_type": "execute_result"
    },
    {
     "data": {
      "image/png": "[encoded data removed]",
      "text/plain": [
       "<Figure size 432x288 with 2 Axes>"
      ]
     },
     "metadata": {},
     "output_type": "display_data"
    }
   ],
   "source": [
    "import seaborn as sns\n",
    "from sklearn.metrics import confusion_matrix\n",
    "import matplotlib.pyplot as plt\n",
    "sns.set()\n",
    "f,ax = plt.subplots()\n",
    "\n",
    "C2 = confusion_matrix(y_test_cardio, y_pred_stacking,labels=[0,1])\n",
    "\n",
    "print(C2)\n",
    "sns.heatmap(C2,annot=True,ax=ax,fmt='.20g') \n",
    "\n",
    "ax.set_xlabel('predict') \n",
    "ax.set_ylabel('true') "
   ]
  },
  {
   "cell_type": "code",
   "execution_count": 25,
   "metadata": {
    "scrolled": true
   },
   "outputs": [],
   "source": [
    "boosting = GradientBoostingClassifier(learning_rate= 0.1, max_depth= 5, n_estimators=50)\n",
    "stacking = stacking_clf\n",
    "bagging = best_rf_clf\n",
    "\n",
    "#Ensemble models \n",
    "ensembles = [] \n",
    "ensembles.append(('Boosting', boosting))\n",
    "ensembles.append(('Bagging',bagging))\n",
    "ensembles.append(('Stacking',stacking))"
   ]
  },
  {
   "cell_type": "code",
   "execution_count": 26,
   "metadata": {
    "scrolled": true
   },
   "outputs": [
    {
     "name": "stdout",
     "output_type": "stream",
     "text": [
      "Method_Boosting| mean:0.7354950675922542  std:0.0049511140697574485\r\n",
      "Method_Bagging| mean:0.7342345633905736  std:0.00480442631560291\r\n",
      "Method_Stacking| mean:0.7339240043843624  std:0.004939506927795653\r\n"
     ]
    }
   ],
   "source": [
    "results = []\n",
    "names = []\n",
    "seed = 0\n",
    "for name, model in ensembles:\n",
    "    cv_results = cross_val_score(model, X_train_cardio, y_train_cardio, cv=5, scoring= 'accuracy')\n",
    "    results.append(cv_results)\n",
    "    names.append(name)\n",
    "    print(f'Method_{name}| mean:{cv_results.mean()}  std:{cv_results.std()}')"
   ]
  },
  {
   "cell_type": "code",
   "execution_count": 27,
   "metadata": {
    "scrolled": true
   },
   "outputs": [
    {
     "data": {
      "text/plain": [
       "[array([0.73666423, 0.73940446, 0.74113993, 0.72725612, 0.7330106 ]),\n",
       " array([0.73876507, 0.7374863 , 0.73766898, 0.72643405, 0.73081841]),\n",
       " array([0.73803434, 0.73538546, 0.73885641, 0.72524662, 0.73209719])]"
      ]
     },
     "execution_count": 27,
     "metadata": {},
     "output_type": "execute_result"
    }
   ],
   "source": [
    "results "
   ]
  },
  {
   "cell_type": "code",
   "execution_count": 28,
   "metadata": {
    "scrolled": true
   },
   "outputs": [
    {
     "data": {
      "image/png": "[encoded data removed]",
      "text/plain": [
       "<Figure size 576x432 with 1 Axes>"
      ]
     },
     "metadata": {},
     "output_type": "display_data"
    }
   ],
   "source": [
    "from matplotlib import pyplot\n",
    "pyplot.rcParams.update({'font.size': 15})\n",
    "fig, ax = pyplot.subplots(figsize=(8, 6))\n",
    "fig.suptitle('Algorithm Comparison')\n",
    "pyplot.boxplot(results, showfliers=False)\n",
    "ax.set_xticklabels(names)\n",
    "pyplot.tight_layout()\n",
    "pyplot.show()"
   ]
  },
  {
   "cell_type": "markdown",
   "metadata": {},
   "source": [
    "# 2.Model fo stroke"
   ]
  },
  {
   "cell_type": "code",
   "execution_count": 22,
   "metadata": {
    "execution": {
     "iopub.execute_input": "2023-05-04T03:37:01.221922Z",
     "iopub.status.busy": "2023-05-04T03:37:01.220982Z",
     "iopub.status.idle": "2023-05-04T03:37:01.227985Z",
     "shell.execute_reply": "2023-05-04T03:37:01.227106Z",
     "shell.execute_reply.started": "2023-05-04T03:37:01.221885Z"
    },
    "scrolled": true,
    "tags": []
   },
   "outputs": [],
   "source": [
    "X = stroke.drop(\"stroke\", axis=1)\n",
    "y = stroke[\"stroke\"]"
   ]
  },
  {
   "cell_type": "code",
   "execution_count": 5,
   "metadata": {
    "execution": {
     "iopub.execute_input": "2023-05-04T03:37:01.684194Z",
     "iopub.status.busy": "2023-05-04T03:37:01.683587Z",
     "iopub.status.idle": "2023-05-04T03:37:01.697062Z",
     "shell.execute_reply": "2023-05-04T03:37:01.696099Z",
     "shell.execute_reply.started": "2023-05-04T03:37:01.684154Z"
    },
    "scrolled": true,
    "tags": []
   },
   "outputs": [
    {
     "name": "stdout",
     "output_type": "stream",
     "text": [
      "<class 'pandas.core.frame.DataFrame'>\r\n",
      "RangeIndex: 5110 entries, 0 to 5109\r\n",
      "Data columns (total 10 columns):\r\n",
      " #   Column             Non-Null Count  Dtype  \r\n",
      "---  ------             --------------  -----  \r\n",
      " 0   gender             5110 non-null   int64  \r\n",
      " 1   age                5110 non-null   float64\r\n",
      " 2   hypertension       5110 non-null   int64  \r\n",
      " 3   heart_disease      5110 non-null   int64  \r\n",
      " 4   ever_married       5110 non-null   int64  \r\n",
      " 5   work_type          5110 non-null   int64  \r\n",
      " 6   Residence_type     5110 non-null   int64  \r\n",
      " 7   avg_glucose_level  5110 non-null   float64\r\n",
      " 8   bmi                5110 non-null   float64\r\n",
      " 9   smoking_status     5110 non-null   int64  \r\n",
      "dtypes: float64(3), int64(7)\r\n",
      "memory usage: 399.3 KB\r\n"
     ]
    }
   ],
   "source": [
    "X.info()"
   ]
  },
  {
   "cell_type": "markdown",
   "metadata": {},
   "source": [
    "## onehot"
   ]
  },
  {
   "cell_type": "code",
   "execution_count": 23,
   "metadata": {
    "execution": {
     "iopub.execute_input": "2023-05-04T03:37:03.181032Z",
     "iopub.status.busy": "2023-05-04T03:37:03.180280Z",
     "iopub.status.idle": "2023-05-04T03:37:03.200076Z",
     "shell.execute_reply": "2023-05-04T03:37:03.199075Z",
     "shell.execute_reply.started": "2023-05-04T03:37:03.181000Z"
    },
    "scrolled": true,
    "tags": []
   },
   "outputs": [
    {
     "name": "stdout",
     "output_type": "stream",
     "text": [
      "<class 'pandas.core.frame.DataFrame'>\n",
      "RangeIndex: 5110 entries, 0 to 5109\n",
      "Data columns (total 7 columns):\n",
      " #   Column             Non-Null Count  Dtype  \n",
      "---  ------             --------------  -----  \n",
      " 0   age                5110 non-null   float64\n",
      " 1   hypertension       5110 non-null   int64  \n",
      " 2   heart_disease      5110 non-null   int64  \n",
      " 3   ever_married       5110 non-null   int64  \n",
      " 4   Residence_type     5110 non-null   int64  \n",
      " 5   avg_glucose_level  5110 non-null   float64\n",
      " 6   bmi                5110 non-null   float64\n",
      "dtypes: float64(3), int64(4)\n",
      "memory usage: 279.6 KB\n"
     ]
    }
   ],
   "source": [
    "from sklearn.preprocessing import LabelEncoder,OneHotEncoder \n",
    "\n",
    "ohe=OneHotEncoder()\n",
    "X['gender'] = pd.Categorical(X['gender'])\n",
    "dfdummies_gender=pd.get_dummies(X['gender'],prefix='gender_encoded')\n",
    "\n",
    "X['smoking_status']=pd.Categorical(X['smoking_status'])\n",
    "dfmumies_smoking_status=pd.get_dummies(X['smoking_status'],prefix='smoking_status_encode')\n",
    "\n",
    "X['work_type'] = pd.Categorical(X['work_type'])\n",
    "dfDummies_work_type = pd.get_dummies(X['work_type'], prefix = 'work_type_encoded')\n",
    "\n",
    "\n",
    "X.drop(['gender'], axis=1, inplace=True)\n",
    "X.drop([\"work_type\"], axis=1, inplace=True)\n",
    "X.drop([\"smoking_status\"], axis=1, inplace=True)\n",
    "X.info()\n",
    "\n"
   ]
  },
  {
   "cell_type": "code",
   "execution_count": 24,
   "metadata": {
    "execution": {
     "iopub.execute_input": "2023-05-04T03:37:03.825841Z",
     "iopub.status.busy": "2023-05-04T03:37:03.824736Z",
     "iopub.status.idle": "2023-05-04T03:37:03.842210Z",
     "shell.execute_reply": "2023-05-04T03:37:03.840980Z",
     "shell.execute_reply.started": "2023-05-04T03:37:03.825808Z"
    },
    "scrolled": true,
    "tags": []
   },
   "outputs": [
    {
     "name": "stdout",
     "output_type": "stream",
     "text": [
      "<class 'pandas.core.frame.DataFrame'>\n",
      "RangeIndex: 5110 entries, 0 to 5109\n",
      "Data columns (total 19 columns):\n",
      " #   Column                   Non-Null Count  Dtype  \n",
      "---  ------                   --------------  -----  \n",
      " 0   age                      5110 non-null   float64\n",
      " 1   hypertension             5110 non-null   int64  \n",
      " 2   heart_disease            5110 non-null   int64  \n",
      " 3   ever_married             5110 non-null   int64  \n",
      " 4   Residence_type           5110 non-null   int64  \n",
      " 5   avg_glucose_level        5110 non-null   float64\n",
      " 6   bmi                      5110 non-null   float64\n",
      " 7   gender_encoded_0         5110 non-null   uint8  \n",
      " 8   gender_encoded_1         5110 non-null   uint8  \n",
      " 9   gender_encoded_2         5110 non-null   uint8  \n",
      " 10  work_type_encoded_0      5110 non-null   uint8  \n",
      " 11  work_type_encoded_1      5110 non-null   uint8  \n",
      " 12  work_type_encoded_2      5110 non-null   uint8  \n",
      " 13  work_type_encoded_3      5110 non-null   uint8  \n",
      " 14  work_type_encoded_4      5110 non-null   uint8  \n",
      " 15  smoking_status_encode_0  5110 non-null   uint8  \n",
      " 16  smoking_status_encode_1  5110 non-null   uint8  \n",
      " 17  smoking_status_encode_2  5110 non-null   uint8  \n",
      " 18  smoking_status_encode_3  5110 non-null   uint8  \n",
      "dtypes: float64(3), int64(4), uint8(12)\n",
      "memory usage: 339.5 KB\n"
     ]
    }
   ],
   "source": [
    "\n",
    "X=pd.concat([X,dfdummies_gender],axis=1)\n",
    "X=pd.concat([X,dfDummies_work_type],axis=1)\n",
    "X=pd.concat([X,dfmumies_smoking_status],axis=1) \n",
    "X.info()\n"
   ]
  },
  {
   "cell_type": "code",
   "execution_count": 25,
   "metadata": {
    "execution": {
     "iopub.execute_input": "2023-05-04T03:33:03.437034Z",
     "iopub.status.busy": "2023-05-04T03:33:03.435801Z",
     "iopub.status.idle": "2023-05-04T03:33:03.475313Z",
     "shell.execute_reply": "2023-05-04T03:33:03.474253Z",
     "shell.execute_reply.started": "2023-05-04T03:33:03.436986Z"
    },
    "scrolled": true,
    "tags": []
   },
   "outputs": [
    {
     "data": {
      "text/html": [
       "<div>\n",
       "<style scoped>\n",
       "    .dataframe tbody tr th:only-of-type {\n",
       "        vertical-align: middle;\n",
       "    }\n",
       "\n",
       "    .dataframe tbody tr th {\n",
       "        vertical-align: top;\n",
       "    }\n",
       "\n",
       "    .dataframe thead th {\n",
       "        text-align: right;\n",
       "    }\n",
       "</style>\n",
       "<table border=\"1\" class=\"dataframe\">\n",
       "  <thead>\n",
       "    <tr style=\"text-align: right;\">\n",
       "      <th></th>\n",
       "      <th>hypertension</th>\n",
       "      <th>heart_disease</th>\n",
       "      <th>ever_married</th>\n",
       "      <th>Residence_type</th>\n",
       "      <th>gender_encoded_0</th>\n",
       "      <th>gender_encoded_1</th>\n",
       "      <th>gender_encoded_2</th>\n",
       "      <th>work_type_encoded_0</th>\n",
       "      <th>work_type_encoded_1</th>\n",
       "      <th>work_type_encoded_2</th>\n",
       "      <th>work_type_encoded_3</th>\n",
       "      <th>work_type_encoded_4</th>\n",
       "      <th>smoking_status_encode_0</th>\n",
       "      <th>smoking_status_encode_1</th>\n",
       "      <th>smoking_status_encode_2</th>\n",
       "      <th>smoking_status_encode_3</th>\n",
       "      <th>avg_glucose_level</th>\n",
       "      <th>bmi</th>\n",
       "      <th>age</th>\n",
       "    </tr>\n",
       "  </thead>\n",
       "  <tbody>\n",
       "    <tr>\n",
       "      <th>0</th>\n",
       "      <td>0</td>\n",
       "      <td>1</td>\n",
       "      <td>1</td>\n",
       "      <td>1</td>\n",
       "      <td>1</td>\n",
       "      <td>0</td>\n",
       "      <td>0</td>\n",
       "      <td>0</td>\n",
       "      <td>0</td>\n",
       "      <td>0</td>\n",
       "      <td>1</td>\n",
       "      <td>0</td>\n",
       "      <td>1</td>\n",
       "      <td>0</td>\n",
       "      <td>0</td>\n",
       "      <td>0</td>\n",
       "      <td>2.706375</td>\n",
       "      <td>0.928080</td>\n",
       "      <td>1.051434</td>\n",
       "    </tr>\n",
       "    <tr>\n",
       "      <th>1</th>\n",
       "      <td>0</td>\n",
       "      <td>0</td>\n",
       "      <td>1</td>\n",
       "      <td>0</td>\n",
       "      <td>0</td>\n",
       "      <td>1</td>\n",
       "      <td>0</td>\n",
       "      <td>0</td>\n",
       "      <td>0</td>\n",
       "      <td>0</td>\n",
       "      <td>0</td>\n",
       "      <td>1</td>\n",
       "      <td>0</td>\n",
       "      <td>1</td>\n",
       "      <td>0</td>\n",
       "      <td>0</td>\n",
       "      <td>2.121559</td>\n",
       "      <td>-2.913002</td>\n",
       "      <td>0.786070</td>\n",
       "    </tr>\n",
       "    <tr>\n",
       "      <th>2</th>\n",
       "      <td>0</td>\n",
       "      <td>1</td>\n",
       "      <td>1</td>\n",
       "      <td>0</td>\n",
       "      <td>1</td>\n",
       "      <td>0</td>\n",
       "      <td>0</td>\n",
       "      <td>0</td>\n",
       "      <td>0</td>\n",
       "      <td>0</td>\n",
       "      <td>1</td>\n",
       "      <td>0</td>\n",
       "      <td>0</td>\n",
       "      <td>1</td>\n",
       "      <td>0</td>\n",
       "      <td>0</td>\n",
       "      <td>-0.005028</td>\n",
       "      <td>0.497795</td>\n",
       "      <td>1.626390</td>\n",
       "    </tr>\n",
       "    <tr>\n",
       "      <th>3</th>\n",
       "      <td>0</td>\n",
       "      <td>0</td>\n",
       "      <td>1</td>\n",
       "      <td>1</td>\n",
       "      <td>0</td>\n",
       "      <td>1</td>\n",
       "      <td>0</td>\n",
       "      <td>0</td>\n",
       "      <td>0</td>\n",
       "      <td>0</td>\n",
       "      <td>1</td>\n",
       "      <td>0</td>\n",
       "      <td>0</td>\n",
       "      <td>0</td>\n",
       "      <td>1</td>\n",
       "      <td>0</td>\n",
       "      <td>1.437358</td>\n",
       "      <td>0.697195</td>\n",
       "      <td>0.255342</td>\n",
       "    </tr>\n",
       "    <tr>\n",
       "      <th>4</th>\n",
       "      <td>1</td>\n",
       "      <td>0</td>\n",
       "      <td>1</td>\n",
       "      <td>0</td>\n",
       "      <td>0</td>\n",
       "      <td>1</td>\n",
       "      <td>0</td>\n",
       "      <td>0</td>\n",
       "      <td>0</td>\n",
       "      <td>0</td>\n",
       "      <td>0</td>\n",
       "      <td>1</td>\n",
       "      <td>0</td>\n",
       "      <td>1</td>\n",
       "      <td>0</td>\n",
       "      <td>0</td>\n",
       "      <td>1.501184</td>\n",
       "      <td>-0.394260</td>\n",
       "      <td>1.582163</td>\n",
       "    </tr>\n",
       "    <tr>\n",
       "      <th>...</th>\n",
       "      <td>...</td>\n",
       "      <td>...</td>\n",
       "      <td>...</td>\n",
       "      <td>...</td>\n",
       "      <td>...</td>\n",
       "      <td>...</td>\n",
       "      <td>...</td>\n",
       "      <td>...</td>\n",
       "      <td>...</td>\n",
       "      <td>...</td>\n",
       "      <td>...</td>\n",
       "      <td>...</td>\n",
       "      <td>...</td>\n",
       "      <td>...</td>\n",
       "      <td>...</td>\n",
       "      <td>...</td>\n",
       "      <td>...</td>\n",
       "      <td>...</td>\n",
       "      <td>...</td>\n",
       "    </tr>\n",
       "    <tr>\n",
       "      <th>5105</th>\n",
       "      <td>1</td>\n",
       "      <td>0</td>\n",
       "      <td>1</td>\n",
       "      <td>1</td>\n",
       "      <td>0</td>\n",
       "      <td>1</td>\n",
       "      <td>0</td>\n",
       "      <td>0</td>\n",
       "      <td>0</td>\n",
       "      <td>0</td>\n",
       "      <td>1</td>\n",
       "      <td>0</td>\n",
       "      <td>0</td>\n",
       "      <td>1</td>\n",
       "      <td>0</td>\n",
       "      <td>0</td>\n",
       "      <td>-0.494658</td>\n",
       "      <td>-2.913002</td>\n",
       "      <td>1.626390</td>\n",
       "    </tr>\n",
       "    <tr>\n",
       "      <th>5106</th>\n",
       "      <td>0</td>\n",
       "      <td>0</td>\n",
       "      <td>1</td>\n",
       "      <td>1</td>\n",
       "      <td>0</td>\n",
       "      <td>1</td>\n",
       "      <td>0</td>\n",
       "      <td>0</td>\n",
       "      <td>0</td>\n",
       "      <td>0</td>\n",
       "      <td>0</td>\n",
       "      <td>1</td>\n",
       "      <td>0</td>\n",
       "      <td>1</td>\n",
       "      <td>0</td>\n",
       "      <td>0</td>\n",
       "      <td>0.420775</td>\n",
       "      <td>1.284902</td>\n",
       "      <td>1.670617</td>\n",
       "    </tr>\n",
       "    <tr>\n",
       "      <th>5107</th>\n",
       "      <td>0</td>\n",
       "      <td>0</td>\n",
       "      <td>1</td>\n",
       "      <td>0</td>\n",
       "      <td>0</td>\n",
       "      <td>1</td>\n",
       "      <td>0</td>\n",
       "      <td>0</td>\n",
       "      <td>0</td>\n",
       "      <td>0</td>\n",
       "      <td>0</td>\n",
       "      <td>1</td>\n",
       "      <td>0</td>\n",
       "      <td>1</td>\n",
       "      <td>0</td>\n",
       "      <td>0</td>\n",
       "      <td>-0.511443</td>\n",
       "      <td>0.298394</td>\n",
       "      <td>-0.363842</td>\n",
       "    </tr>\n",
       "    <tr>\n",
       "      <th>5108</th>\n",
       "      <td>0</td>\n",
       "      <td>0</td>\n",
       "      <td>1</td>\n",
       "      <td>0</td>\n",
       "      <td>1</td>\n",
       "      <td>0</td>\n",
       "      <td>0</td>\n",
       "      <td>0</td>\n",
       "      <td>0</td>\n",
       "      <td>0</td>\n",
       "      <td>1</td>\n",
       "      <td>0</td>\n",
       "      <td>1</td>\n",
       "      <td>0</td>\n",
       "      <td>0</td>\n",
       "      <td>0</td>\n",
       "      <td>1.328257</td>\n",
       "      <td>-0.226344</td>\n",
       "      <td>0.343796</td>\n",
       "    </tr>\n",
       "    <tr>\n",
       "      <th>5109</th>\n",
       "      <td>0</td>\n",
       "      <td>0</td>\n",
       "      <td>1</td>\n",
       "      <td>1</td>\n",
       "      <td>0</td>\n",
       "      <td>1</td>\n",
       "      <td>0</td>\n",
       "      <td>0</td>\n",
       "      <td>1</td>\n",
       "      <td>0</td>\n",
       "      <td>0</td>\n",
       "      <td>0</td>\n",
       "      <td>0</td>\n",
       "      <td>0</td>\n",
       "      <td>0</td>\n",
       "      <td>1</td>\n",
       "      <td>-0.460867</td>\n",
       "      <td>-0.163375</td>\n",
       "      <td>0.034205</td>\n",
       "    </tr>\n",
       "  </tbody>\n",
       "</table>\n",
       "<p>5110 rows × 19 columns</p>\n",
       "</div>"
      ],
      "text/plain": [
       "      hypertension  heart_disease  ever_married  Residence_type  \\\n",
       "0                0              1             1               1   \n",
       "1                0              0             1               0   \n",
       "2                0              1             1               0   \n",
       "3                0              0             1               1   \n",
       "4                1              0             1               0   \n",
       "...            ...            ...           ...             ...   \n",
       "5105             1              0             1               1   \n",
       "5106             0              0             1               1   \n",
       "5107             0              0             1               0   \n",
       "5108             0              0             1               0   \n",
       "5109             0              0             1               1   \n",
       "\n",
       "      gender_encoded_0  gender_encoded_1  gender_encoded_2  \\\n",
       "0                    1                 0                 0   \n",
       "1                    0                 1                 0   \n",
       "2                    1                 0                 0   \n",
       "3                    0                 1                 0   \n",
       "4                    0                 1                 0   \n",
       "...                ...               ...               ...   \n",
       "5105                 0                 1                 0   \n",
       "5106                 0                 1                 0   \n",
       "5107                 0                 1                 0   \n",
       "5108                 1                 0                 0   \n",
       "5109                 0                 1                 0   \n",
       "\n",
       "      work_type_encoded_0  work_type_encoded_1  work_type_encoded_2  \\\n",
       "0                       0                    0                    0   \n",
       "1                       0                    0                    0   \n",
       "2                       0                    0                    0   \n",
       "3                       0                    0                    0   \n",
       "4                       0                    0                    0   \n",
       "...                   ...                  ...                  ...   \n",
       "5105                    0                    0                    0   \n",
       "5106                    0                    0                    0   \n",
       "5107                    0                    0                    0   \n",
       "5108                    0                    0                    0   \n",
       "5109                    0                    1                    0   \n",
       "\n",
       "      work_type_encoded_3  work_type_encoded_4  smoking_status_encode_0  \\\n",
       "0                       1                    0                        1   \n",
       "1                       0                    1                        0   \n",
       "2                       1                    0                        0   \n",
       "3                       1                    0                        0   \n",
       "4                       0                    1                        0   \n",
       "...                   ...                  ...                      ...   \n",
       "5105                    1                    0                        0   \n",
       "5106                    0                    1                        0   \n",
       "5107                    0                    1                        0   \n",
       "5108                    1                    0                        1   \n",
       "5109                    0                    0                        0   \n",
       "\n",
       "      smoking_status_encode_1  smoking_status_encode_2  \\\n",
       "0                           0                        0   \n",
       "1                           1                        0   \n",
       "2                           1                        0   \n",
       "3                           0                        1   \n",
       "4                           1                        0   \n",
       "...                       ...                      ...   \n",
       "5105                        1                        0   \n",
       "5106                        1                        0   \n",
       "5107                        1                        0   \n",
       "5108                        0                        0   \n",
       "5109                        0                        0   \n",
       "\n",
       "      smoking_status_encode_3  avg_glucose_level       bmi       age  \n",
       "0                           0           2.706375  0.928080  1.051434  \n",
       "1                           0           2.121559 -2.913002  0.786070  \n",
       "2                           0          -0.005028  0.497795  1.626390  \n",
       "3                           0           1.437358  0.697195  0.255342  \n",
       "4                           0           1.501184 -0.394260  1.582163  \n",
       "...                       ...                ...       ...       ...  \n",
       "5105                        0          -0.494658 -2.913002  1.626390  \n",
       "5106                        0           0.420775  1.284902  1.670617  \n",
       "5107                        0          -0.511443  0.298394 -0.363842  \n",
       "5108                        0           1.328257 -0.226344  0.343796  \n",
       "5109                        1          -0.460867 -0.163375  0.034205  \n",
       "\n",
       "[5110 rows x 19 columns]"
      ]
     },
     "execution_count": 25,
     "metadata": {},
     "output_type": "execute_result"
    }
   ],
   "source": [
    "#standardlization\n",
    "from sklearn.preprocessing import StandardScaler\n",
    "std=StandardScaler()\n",
    "columns = ['avg_glucose_level','bmi','age']\n",
    "scaled = std.fit_transform(X[['avg_glucose_level','bmi','age']])\n",
    "scaled = pd.DataFrame(scaled,columns=columns)\n",
    "\n",
    "\n",
    "X=X.drop(columns=columns,axis=1)\n",
    "X=X.merge(scaled, left_index=True, right_index=True, how = \"left\")\n",
    "X \n"
   ]
  },
  {
   "cell_type": "code",
   "execution_count": 26,
   "metadata": {
    "execution": {
     "iopub.execute_input": "2023-05-04T03:37:05.649895Z",
     "iopub.status.busy": "2023-05-04T03:37:05.649352Z",
     "iopub.status.idle": "2023-05-04T03:37:05.658264Z",
     "shell.execute_reply": "2023-05-04T03:37:05.657526Z",
     "shell.execute_reply.started": "2023-05-04T03:37:05.649862Z"
    },
    "scrolled": true,
    "tags": []
   },
   "outputs": [
    {
     "data": {
      "text/plain": [
       "0    4861\n",
       "1     249\n",
       "Name: stroke, dtype: int64"
      ]
     },
     "execution_count": 26,
     "metadata": {},
     "output_type": "execute_result"
    }
   ],
   "source": [
    "y.value_counts()"
   ]
  },
  {
   "cell_type": "code",
   "execution_count": 27,
   "metadata": {
    "execution": {
     "iopub.execute_input": "2023-05-04T03:37:08.218454Z",
     "iopub.status.busy": "2023-05-04T03:37:08.217906Z",
     "iopub.status.idle": "2023-05-04T03:37:08.353957Z",
     "shell.execute_reply": "2023-05-04T03:37:08.353093Z",
     "shell.execute_reply.started": "2023-05-04T03:37:08.218419Z"
    },
    "scrolled": true,
    "tags": []
   },
   "outputs": [],
   "source": [
    "# -*- coding: utf-8 -*-\n",
    "from imblearn.under_sampling import RandomUnderSampler\n",
    "rus=RandomUnderSampler(random_state=0,replacement=True) \n",
    "x_resample,y_resample=rus.fit_resample(X,y) "
   ]
  },
  {
   "cell_type": "code",
   "execution_count": 28,
   "metadata": {
    "execution": {
     "iopub.execute_input": "2023-05-04T03:37:14.556564Z",
     "iopub.status.busy": "2023-05-04T03:37:14.555489Z",
     "iopub.status.idle": "2023-05-04T03:37:14.561907Z",
     "shell.execute_reply": "2023-05-04T03:37:14.560990Z",
     "shell.execute_reply.started": "2023-05-04T03:37:14.556528Z"
    },
    "scrolled": true
   },
   "outputs": [
    {
     "data": {
      "text/plain": [
       "498"
      ]
     },
     "execution_count": 28,
     "metadata": {},
     "output_type": "execute_result"
    }
   ],
   "source": [
    "len(x_resample)"
   ]
  },
  {
   "cell_type": "code",
   "execution_count": 29,
   "metadata": {
    "execution": {
     "iopub.execute_input": "2023-05-04T03:37:15.738429Z",
     "iopub.status.busy": "2023-05-04T03:37:15.737486Z",
     "iopub.status.idle": "2023-05-04T03:37:15.745745Z",
     "shell.execute_reply": "2023-05-04T03:37:15.744538Z",
     "shell.execute_reply.started": "2023-05-04T03:37:15.738391Z"
    },
    "scrolled": true
   },
   "outputs": [],
   "source": [
    "X_train_stroke, X_test_stroke, y_train_stroke, y_test_stroke = train_test_split(x_resample,y_resample, test_size=0.2, random_state=42)\n",
    "#X_train_stroke, X_test_stroke, y_train_stroke, y_test_stroke = train_test_split(X,y, test_size=0.2, random_state=42) "
   ]
  },
  {
   "cell_type": "code",
   "execution_count": 30,
   "metadata": {
    "scrolled": true
   },
   "outputs": [],
   "source": [
    "#from imblearn.under_sampling import SMOTE\n",
    "#smote=SMOTE(random_state=42)\n",
    "#X_train_stroke,y_train_stroke=smote.fit_resample(X,y)"
   ]
  },
  {
   "cell_type": "code",
   "execution_count": 31,
   "metadata": {
    "execution": {
     "iopub.execute_input": "2023-05-04T03:37:57.666350Z",
     "iopub.status.busy": "2023-05-04T03:37:57.665168Z",
     "iopub.status.idle": "2023-05-04T03:37:57.671006Z",
     "shell.execute_reply": "2023-05-04T03:37:57.669886Z",
     "shell.execute_reply.started": "2023-05-04T03:37:57.666311Z"
    },
    "scrolled": true,
    "tags": []
   },
   "outputs": [],
   "source": [
    "gb_param_grid = {\n",
    "    \"n_estimators\": [50,100,200],\n",
    "    \"max_depth\": [3, 5, 8],\n",
    "    \"min_samples_split\": [2, 5, 10],\n",
    "    \"min_samples_leaf\": [1, 2, 4]\n",
    "}"
   ]
  },
  {
   "cell_type": "code",
   "execution_count": 34,
   "metadata": {
    "execution": {
     "iopub.execute_input": "2023-05-04T03:37:58.321127Z",
     "iopub.status.busy": "2023-05-04T03:37:58.320572Z",
     "iopub.status.idle": "2023-05-04T03:38:36.685182Z",
     "shell.execute_reply": "2023-05-04T03:38:36.683986Z",
     "shell.execute_reply.started": "2023-05-04T03:37:58.321096Z"
    },
    "scrolled": true
   },
   "outputs": [
    {
     "name": "stdout",
     "output_type": "stream",
     "text": [
      "BEST PARAMS: {'max_depth': 3, 'min_samples_leaf': 4, 'min_samples_split': 2, 'n_estimators': 50}\n",
      "\n",
      "0.741 (+/-0.075) for {'max_depth': 3, 'min_samples_leaf': 1, 'min_samples_split': 2, 'n_estimators': 50}\n",
      "0.744 (+/-0.055) for {'max_depth': 3, 'min_samples_leaf': 1, 'min_samples_split': 2, 'n_estimators': 100}\n",
      "0.734 (+/-0.051) for {'max_depth': 3, 'min_samples_leaf': 1, 'min_samples_split': 2, 'n_estimators': 200}\n",
      "0.739 (+/-0.06) for {'max_depth': 3, 'min_samples_leaf': 1, 'min_samples_split': 5, 'n_estimators': 50}\n",
      "0.749 (+/-0.063) for {'max_depth': 3, 'min_samples_leaf': 1, 'min_samples_split': 5, 'n_estimators': 100}\n",
      "0.714 (+/-0.095) for {'max_depth': 3, 'min_samples_leaf': 1, 'min_samples_split': 5, 'n_estimators': 200}\n",
      "0.741 (+/-0.068) for {'max_depth': 3, 'min_samples_leaf': 1, 'min_samples_split': 10, 'n_estimators': 50}\n",
      "0.736 (+/-0.036) for {'max_depth': 3, 'min_samples_leaf': 1, 'min_samples_split': 10, 'n_estimators': 100}\n",
      "0.721 (+/-0.05) for {'max_depth': 3, 'min_samples_leaf': 1, 'min_samples_split': 10, 'n_estimators': 200}\n",
      "0.734 (+/-0.044) for {'max_depth': 3, 'min_samples_leaf': 2, 'min_samples_split': 2, 'n_estimators': 50}\n",
      "0.741 (+/-0.057) for {'max_depth': 3, 'min_samples_leaf': 2, 'min_samples_split': 2, 'n_estimators': 100}\n",
      "0.734 (+/-0.08) for {'max_depth': 3, 'min_samples_leaf': 2, 'min_samples_split': 2, 'n_estimators': 200}\n",
      "0.744 (+/-0.043) for {'max_depth': 3, 'min_samples_leaf': 2, 'min_samples_split': 5, 'n_estimators': 50}\n",
      "0.744 (+/-0.051) for {'max_depth': 3, 'min_samples_leaf': 2, 'min_samples_split': 5, 'n_estimators': 100}\n",
      "0.724 (+/-0.097) for {'max_depth': 3, 'min_samples_leaf': 2, 'min_samples_split': 5, 'n_estimators': 200}\n",
      "0.749 (+/-0.056) for {'max_depth': 3, 'min_samples_leaf': 2, 'min_samples_split': 10, 'n_estimators': 50}\n",
      "0.731 (+/-0.06) for {'max_depth': 3, 'min_samples_leaf': 2, 'min_samples_split': 10, 'n_estimators': 100}\n",
      "0.706 (+/-0.1) for {'max_depth': 3, 'min_samples_leaf': 2, 'min_samples_split': 10, 'n_estimators': 200}\n",
      "0.756 (+/-0.082) for {'max_depth': 3, 'min_samples_leaf': 4, 'min_samples_split': 2, 'n_estimators': 50}\n",
      "0.739 (+/-0.048) for {'max_depth': 3, 'min_samples_leaf': 4, 'min_samples_split': 2, 'n_estimators': 100}\n",
      "0.706 (+/-0.047) for {'max_depth': 3, 'min_samples_leaf': 4, 'min_samples_split': 2, 'n_estimators': 200}\n",
      "0.756 (+/-0.082) for {'max_depth': 3, 'min_samples_leaf': 4, 'min_samples_split': 5, 'n_estimators': 50}\n",
      "0.739 (+/-0.048) for {'max_depth': 3, 'min_samples_leaf': 4, 'min_samples_split': 5, 'n_estimators': 100}\n",
      "0.706 (+/-0.047) for {'max_depth': 3, 'min_samples_leaf': 4, 'min_samples_split': 5, 'n_estimators': 200}\n",
      "0.741 (+/-0.053) for {'max_depth': 3, 'min_samples_leaf': 4, 'min_samples_split': 10, 'n_estimators': 50}\n",
      "0.736 (+/-0.044) for {'max_depth': 3, 'min_samples_leaf': 4, 'min_samples_split': 10, 'n_estimators': 100}\n",
      "0.726 (+/-0.055) for {'max_depth': 3, 'min_samples_leaf': 4, 'min_samples_split': 10, 'n_estimators': 200}\n",
      "0.721 (+/-0.085) for {'max_depth': 5, 'min_samples_leaf': 1, 'min_samples_split': 2, 'n_estimators': 50}\n",
      "0.711 (+/-0.044) for {'max_depth': 5, 'min_samples_leaf': 1, 'min_samples_split': 2, 'n_estimators': 100}\n",
      "0.721 (+/-0.042) for {'max_depth': 5, 'min_samples_leaf': 1, 'min_samples_split': 2, 'n_estimators': 200}\n",
      "0.739 (+/-0.074) for {'max_depth': 5, 'min_samples_leaf': 1, 'min_samples_split': 5, 'n_estimators': 50}\n",
      "0.729 (+/-0.051) for {'max_depth': 5, 'min_samples_leaf': 1, 'min_samples_split': 5, 'n_estimators': 100}\n",
      "0.711 (+/-0.054) for {'max_depth': 5, 'min_samples_leaf': 1, 'min_samples_split': 5, 'n_estimators': 200}\n",
      "0.736 (+/-0.057) for {'max_depth': 5, 'min_samples_leaf': 1, 'min_samples_split': 10, 'n_estimators': 50}\n",
      "0.744 (+/-0.037) for {'max_depth': 5, 'min_samples_leaf': 1, 'min_samples_split': 10, 'n_estimators': 100}\n",
      "0.724 (+/-0.056) for {'max_depth': 5, 'min_samples_leaf': 1, 'min_samples_split': 10, 'n_estimators': 200}\n",
      "0.729 (+/-0.072) for {'max_depth': 5, 'min_samples_leaf': 2, 'min_samples_split': 2, 'n_estimators': 50}\n",
      "0.714 (+/-0.054) for {'max_depth': 5, 'min_samples_leaf': 2, 'min_samples_split': 2, 'n_estimators': 100}\n",
      "0.724 (+/-0.057) for {'max_depth': 5, 'min_samples_leaf': 2, 'min_samples_split': 2, 'n_estimators': 200}\n",
      "0.719 (+/-0.099) for {'max_depth': 5, 'min_samples_leaf': 2, 'min_samples_split': 5, 'n_estimators': 50}\n",
      "0.719 (+/-0.051) for {'max_depth': 5, 'min_samples_leaf': 2, 'min_samples_split': 5, 'n_estimators': 100}\n",
      "0.711 (+/-0.041) for {'max_depth': 5, 'min_samples_leaf': 2, 'min_samples_split': 5, 'n_estimators': 200}\n",
      "0.734 (+/-0.078) for {'max_depth': 5, 'min_samples_leaf': 2, 'min_samples_split': 10, 'n_estimators': 50}\n",
      "0.724 (+/-0.051) for {'max_depth': 5, 'min_samples_leaf': 2, 'min_samples_split': 10, 'n_estimators': 100}\n",
      "0.721 (+/-0.054) for {'max_depth': 5, 'min_samples_leaf': 2, 'min_samples_split': 10, 'n_estimators': 200}\n",
      "0.734 (+/-0.054) for {'max_depth': 5, 'min_samples_leaf': 4, 'min_samples_split': 2, 'n_estimators': 50}\n",
      "0.734 (+/-0.037) for {'max_depth': 5, 'min_samples_leaf': 4, 'min_samples_split': 2, 'n_estimators': 100}\n",
      "0.719 (+/-0.036) for {'max_depth': 5, 'min_samples_leaf': 4, 'min_samples_split': 2, 'n_estimators': 200}\n",
      "0.734 (+/-0.054) for {'max_depth': 5, 'min_samples_leaf': 4, 'min_samples_split': 5, 'n_estimators': 50}\n",
      "0.734 (+/-0.037) for {'max_depth': 5, 'min_samples_leaf': 4, 'min_samples_split': 5, 'n_estimators': 100}\n",
      "0.719 (+/-0.036) for {'max_depth': 5, 'min_samples_leaf': 4, 'min_samples_split': 5, 'n_estimators': 200}\n",
      "0.741 (+/-0.055) for {'max_depth': 5, 'min_samples_leaf': 4, 'min_samples_split': 10, 'n_estimators': 50}\n",
      "0.739 (+/-0.02) for {'max_depth': 5, 'min_samples_leaf': 4, 'min_samples_split': 10, 'n_estimators': 100}\n",
      "0.716 (+/-0.03) for {'max_depth': 5, 'min_samples_leaf': 4, 'min_samples_split': 10, 'n_estimators': 200}\n",
      "0.734 (+/-0.069) for {'max_depth': 8, 'min_samples_leaf': 1, 'min_samples_split': 2, 'n_estimators': 50}\n",
      "0.711 (+/-0.037) for {'max_depth': 8, 'min_samples_leaf': 1, 'min_samples_split': 2, 'n_estimators': 100}\n",
      "0.716 (+/-0.037) for {'max_depth': 8, 'min_samples_leaf': 1, 'min_samples_split': 2, 'n_estimators': 200}\n",
      "0.729 (+/-0.067) for {'max_depth': 8, 'min_samples_leaf': 1, 'min_samples_split': 5, 'n_estimators': 50}\n",
      "0.731 (+/-0.077) for {'max_depth': 8, 'min_samples_leaf': 1, 'min_samples_split': 5, 'n_estimators': 100}\n",
      "0.726 (+/-0.035) for {'max_depth': 8, 'min_samples_leaf': 1, 'min_samples_split': 5, 'n_estimators': 200}\n",
      "0.714 (+/-0.026) for {'max_depth': 8, 'min_samples_leaf': 1, 'min_samples_split': 10, 'n_estimators': 50}\n",
      "0.699 (+/-0.026) for {'max_depth': 8, 'min_samples_leaf': 1, 'min_samples_split': 10, 'n_estimators': 100}\n",
      "0.701 (+/-0.053) for {'max_depth': 8, 'min_samples_leaf': 1, 'min_samples_split': 10, 'n_estimators': 200}\n",
      "0.714 (+/-0.085) for {'max_depth': 8, 'min_samples_leaf': 2, 'min_samples_split': 2, 'n_estimators': 50}\n",
      "0.716 (+/-0.045) for {'max_depth': 8, 'min_samples_leaf': 2, 'min_samples_split': 2, 'n_estimators': 100}\n",
      "0.706 (+/-0.039) for {'max_depth': 8, 'min_samples_leaf': 2, 'min_samples_split': 2, 'n_estimators': 200}\n",
      "0.709 (+/-0.078) for {'max_depth': 8, 'min_samples_leaf': 2, 'min_samples_split': 5, 'n_estimators': 50}\n",
      "0.721 (+/-0.051) for {'max_depth': 8, 'min_samples_leaf': 2, 'min_samples_split': 5, 'n_estimators': 100}\n",
      "0.706 (+/-0.064) for {'max_depth': 8, 'min_samples_leaf': 2, 'min_samples_split': 5, 'n_estimators': 200}\n",
      "0.714 (+/-0.058) for {'max_depth': 8, 'min_samples_leaf': 2, 'min_samples_split': 10, 'n_estimators': 50}\n",
      "0.714 (+/-0.072) for {'max_depth': 8, 'min_samples_leaf': 2, 'min_samples_split': 10, 'n_estimators': 100}\n",
      "0.721 (+/-0.071) for {'max_depth': 8, 'min_samples_leaf': 2, 'min_samples_split': 10, 'n_estimators': 200}\n",
      "0.719 (+/-0.048) for {'max_depth': 8, 'min_samples_leaf': 4, 'min_samples_split': 2, 'n_estimators': 50}\n",
      "0.726 (+/-0.05) for {'max_depth': 8, 'min_samples_leaf': 4, 'min_samples_split': 2, 'n_estimators': 100}\n",
      "0.716 (+/-0.054) for {'max_depth': 8, 'min_samples_leaf': 4, 'min_samples_split': 2, 'n_estimators': 200}\n",
      "0.719 (+/-0.048) for {'max_depth': 8, 'min_samples_leaf': 4, 'min_samples_split': 5, 'n_estimators': 50}\n",
      "0.726 (+/-0.05) for {'max_depth': 8, 'min_samples_leaf': 4, 'min_samples_split': 5, 'n_estimators': 100}\n",
      "0.716 (+/-0.054) for {'max_depth': 8, 'min_samples_leaf': 4, 'min_samples_split': 5, 'n_estimators': 200}\n",
      "0.734 (+/-0.052) for {'max_depth': 8, 'min_samples_leaf': 4, 'min_samples_split': 10, 'n_estimators': 50}\n",
      "0.729 (+/-0.047) for {'max_depth': 8, 'min_samples_leaf': 4, 'min_samples_split': 10, 'n_estimators': 100}\n",
      "0.721 (+/-0.052) for {'max_depth': 8, 'min_samples_leaf': 4, 'min_samples_split': 10, 'n_estimators': 200}\n"
     ]
    }
   ],
   "source": [
    "gb=GradientBoostingClassifier(random_state=42)\n",
    "cv_gb_model = grid_search(gb, gb_param_grid,X_train_stroke, y_train_stroke) "
   ]
  },
  {
   "cell_type": "code",
   "execution_count": 16,
   "metadata": {
    "execution": {
     "iopub.execute_input": "2023-05-04T03:38:36.705877Z",
     "iopub.status.busy": "2023-05-04T03:38:36.705501Z",
     "iopub.status.idle": "2023-05-04T03:38:36.711756Z",
     "shell.execute_reply": "2023-05-04T03:38:36.711024Z",
     "shell.execute_reply.started": "2023-05-04T03:38:36.705851Z"
    },
    "scrolled": true,
    "tags": []
   },
   "outputs": [],
   "source": [
    "def print_results(results):\n",
    "    print('BEST PARAMS: {}\\n'.format(results.best_params_))\n",
    "\n",
    "    means = results.cv_results_['mean_test_score']\n",
    "    stds = results.cv_results_['std_test_score']\n",
    "    for mean, std, params in zip(means, stds, results.cv_results_['params']):\n",
    "        print('{} (+/-{}) for {}'.format(round(mean, 3), round(std * 2, 3), params))\n",
    "\n",
    "def grid_search(model, parameters, features, labels):\n",
    "  cv = GridSearchCV(model, parameters, cv=5,n_jobs=-1)\n",
    "  cv.fit(features, labels.values.ravel())\n",
    "  print_results(cv)\n",
    "\n",
    "  return cv "
   ]
  },
  {
   "cell_type": "code",
   "execution_count": 17,
   "metadata": {
    "execution": {
     "iopub.execute_input": "2023-05-04T03:38:36.713841Z",
     "iopub.status.busy": "2023-05-04T03:38:36.713514Z",
     "iopub.status.idle": "2023-05-04T03:38:50.445040Z",
     "shell.execute_reply": "2023-05-04T03:38:50.444100Z",
     "shell.execute_reply.started": "2023-05-04T03:38:36.713816Z"
    },
    "scrolled": true
   },
   "outputs": [
    {
     "name": "stdout",
     "output_type": "stream",
     "text": [
      "BEST PARAMS: {'max_depth': 4, 'n_estimators': 50}\r\n",
      "\r\n",
      "0.784 (+/-0.061) for {'max_depth': 4, 'n_estimators': 50}\r\n",
      "0.776 (+/-0.039) for {'max_depth': 4, 'n_estimators': 100}\r\n",
      "0.779 (+/-0.043) for {'max_depth': 4, 'n_estimators': 250}\r\n",
      "0.771 (+/-0.033) for {'max_depth': 4, 'n_estimators': 500}\r\n",
      "0.756 (+/-0.07) for {'max_depth': 8, 'n_estimators': 50}\r\n",
      "0.776 (+/-0.076) for {'max_depth': 8, 'n_estimators': 100}\r\n",
      "0.766 (+/-0.039) for {'max_depth': 8, 'n_estimators': 250}\r\n",
      "0.764 (+/-0.04) for {'max_depth': 8, 'n_estimators': 500}\r\n",
      "0.756 (+/-0.052) for {'max_depth': 16, 'n_estimators': 50}\r\n",
      "0.771 (+/-0.056) for {'max_depth': 16, 'n_estimators': 100}\r\n",
      "0.766 (+/-0.052) for {'max_depth': 16, 'n_estimators': 250}\r\n",
      "0.766 (+/-0.034) for {'max_depth': 16, 'n_estimators': 500}\r\n",
      "0.764 (+/-0.062) for {'max_depth': 32, 'n_estimators': 50}\r\n",
      "0.754 (+/-0.064) for {'max_depth': 32, 'n_estimators': 100}\r\n",
      "0.766 (+/-0.046) for {'max_depth': 32, 'n_estimators': 250}\r\n",
      "0.766 (+/-0.043) for {'max_depth': 32, 'n_estimators': 500}\r\n"
     ]
    }
   ],
   "source": [
    "# Bagging example\n",
    "rf = RandomForestClassifier()\n",
    "parameters = {\n",
    "    'n_estimators': [ 50,100, 250, 500],\n",
    "    'max_depth': [4, 8, 16, 32, ]}\n",
    "cv_rf_model = grid_search(rf, parameters,X_train_stroke, y_train_stroke)"
   ]
  },
  {
   "cell_type": "code",
   "execution_count": 18,
   "metadata": {
    "collapsed": true,
    "execution": {
     "iopub.execute_input": "2023-05-04T03:38:50.446769Z",
     "iopub.status.busy": "2023-05-04T03:38:50.446319Z",
     "iopub.status.idle": "2023-05-04T03:39:58.432959Z",
     "shell.execute_reply": "2023-05-04T03:39:58.432102Z",
     "shell.execute_reply.started": "2023-05-04T03:38:50.446737Z"
    },
    "jupyter": {
     "outputs_hidden": true
    },
    "scrolled": true,
    "tags": []
   },
   "outputs": [
    {
     "name": "stderr",
     "output_type": "stream",
     "text": [
      "/opt/conda/envs/python35-paddle120-env/lib/python3.7/site-packages/sklearn/linear_model/_logistic.py:765: ConvergenceWarning: lbfgs failed to converge (status=1):\r\n",
      "STOP: TOTAL NO. of ITERATIONS REACHED LIMIT.\r\n",
      "\r\n",
      "Increase the number of iterations (max_iter) or scale the data as shown in:\r\n",
      "    https://scikit-learn.org/stable/modules/preprocessing.html\r\n",
      "Please also refer to the documentation for alternative solver options:\r\n",
      "    https://scikit-learn.org/stable/modules/linear_model.html#logistic-regression\r\n",
      "  extra_warning_msg=_LOGISTIC_SOLVER_CONVERGENCE_MSG)\r\n",
      "/opt/conda/envs/python35-paddle120-env/lib/python3.7/site-packages/sklearn/linear_model/_logistic.py:765: ConvergenceWarning: lbfgs failed to converge (status=1):\r\n",
      "STOP: TOTAL NO. of ITERATIONS REACHED LIMIT.\r\n",
      "\r\n",
      "Increase the number of iterations (max_iter) or scale the data as shown in:\r\n",
      "    https://scikit-learn.org/stable/modules/preprocessing.html\r\n",
      "Please also refer to the documentation for alternative solver options:\r\n",
      "    https://scikit-learn.org/stable/modules/linear_model.html#logistic-regression\r\n",
      "  extra_warning_msg=_LOGISTIC_SOLVER_CONVERGENCE_MSG)\r\n",
      "/opt/conda/envs/python35-paddle120-env/lib/python3.7/site-packages/sklearn/linear_model/_logistic.py:765: ConvergenceWarning: lbfgs failed to converge (status=1):\r\n",
      "STOP: TOTAL NO. of ITERATIONS REACHED LIMIT.\r\n",
      "\r\n",
      "Increase the number of iterations (max_iter) or scale the data as shown in:\r\n",
      "    https://scikit-learn.org/stable/modules/preprocessing.html\r\n",
      "Please also refer to the documentation for alternative solver options:\r\n",
      "    https://scikit-learn.org/stable/modules/linear_model.html#logistic-regression\r\n",
      "  extra_warning_msg=_LOGISTIC_SOLVER_CONVERGENCE_MSG)\r\n",
      "/opt/conda/envs/python35-paddle120-env/lib/python3.7/site-packages/sklearn/linear_model/_logistic.py:765: ConvergenceWarning: lbfgs failed to converge (status=1):\r\n",
      "STOP: TOTAL NO. of ITERATIONS REACHED LIMIT.\r\n",
      "\r\n",
      "Increase the number of iterations (max_iter) or scale the data as shown in:\r\n",
      "    https://scikit-learn.org/stable/modules/preprocessing.html\r\n",
      "Please also refer to the documentation for alternative solver options:\r\n",
      "    https://scikit-learn.org/stable/modules/linear_model.html#logistic-regression\r\n",
      "  extra_warning_msg=_LOGISTIC_SOLVER_CONVERGENCE_MSG)\r\n",
      "/opt/conda/envs/python35-paddle120-env/lib/python3.7/site-packages/sklearn/linear_model/_logistic.py:765: ConvergenceWarning: lbfgs failed to converge (status=1):\r\n",
      "STOP: TOTAL NO. of ITERATIONS REACHED LIMIT.\r\n",
      "\r\n",
      "Increase the number of iterations (max_iter) or scale the data as shown in:\r\n",
      "    https://scikit-learn.org/stable/modules/preprocessing.html\r\n",
      "Please also refer to the documentation for alternative solver options:\r\n",
      "    https://scikit-learn.org/stable/modules/linear_model.html#logistic-regression\r\n",
      "  extra_warning_msg=_LOGISTIC_SOLVER_CONVERGENCE_MSG)\r\n",
      "/opt/conda/envs/python35-paddle120-env/lib/python3.7/site-packages/sklearn/linear_model/_logistic.py:765: ConvergenceWarning: lbfgs failed to converge (status=1):\r\n",
      "STOP: TOTAL NO. of ITERATIONS REACHED LIMIT.\r\n",
      "\r\n",
      "Increase the number of iterations (max_iter) or scale the data as shown in:\r\n",
      "    https://scikit-learn.org/stable/modules/preprocessing.html\r\n",
      "Please also refer to the documentation for alternative solver options:\r\n",
      "    https://scikit-learn.org/stable/modules/linear_model.html#logistic-regression\r\n",
      "  extra_warning_msg=_LOGISTIC_SOLVER_CONVERGENCE_MSG)\r\n",
      "/opt/conda/envs/python35-paddle120-env/lib/python3.7/site-packages/sklearn/linear_model/_logistic.py:765: ConvergenceWarning: lbfgs failed to converge (status=1):\r\n",
      "STOP: TOTAL NO. of ITERATIONS REACHED LIMIT.\r\n",
      "\r\n",
      "Increase the number of iterations (max_iter) or scale the data as shown in:\r\n",
      "    https://scikit-learn.org/stable/modules/preprocessing.html\r\n",
      "Please also refer to the documentation for alternative solver options:\r\n",
      "    https://scikit-learn.org/stable/modules/linear_model.html#logistic-regression\r\n",
      "  extra_warning_msg=_LOGISTIC_SOLVER_CONVERGENCE_MSG)\r\n",
      "/opt/conda/envs/python35-paddle120-env/lib/python3.7/site-packages/sklearn/linear_model/_logistic.py:765: ConvergenceWarning: lbfgs failed to converge (status=1):\r\n",
      "STOP: TOTAL NO. of ITERATIONS REACHED LIMIT.\r\n",
      "\r\n",
      "Increase the number of iterations (max_iter) or scale the data as shown in:\r\n",
      "    https://scikit-learn.org/stable/modules/preprocessing.html\r\n",
      "Please also refer to the documentation for alternative solver options:\r\n",
      "    https://scikit-learn.org/stable/modules/linear_model.html#logistic-regression\r\n",
      "  extra_warning_msg=_LOGISTIC_SOLVER_CONVERGENCE_MSG)\r\n",
      "/opt/conda/envs/python35-paddle120-env/lib/python3.7/site-packages/sklearn/linear_model/_logistic.py:765: ConvergenceWarning: lbfgs failed to converge (status=1):\r\n",
      "STOP: TOTAL NO. of ITERATIONS REACHED LIMIT.\r\n",
      "\r\n",
      "Increase the number of iterations (max_iter) or scale the data as shown in:\r\n",
      "    https://scikit-learn.org/stable/modules/preprocessing.html\r\n",
      "Please also refer to the documentation for alternative solver options:\r\n",
      "    https://scikit-learn.org/stable/modules/linear_model.html#logistic-regression\r\n",
      "  extra_warning_msg=_LOGISTIC_SOLVER_CONVERGENCE_MSG)\r\n",
      "/opt/conda/envs/python35-paddle120-env/lib/python3.7/site-packages/sklearn/linear_model/_logistic.py:765: ConvergenceWarning: lbfgs failed to converge (status=1):\r\n",
      "STOP: TOTAL NO. of ITERATIONS REACHED LIMIT.\r\n",
      "\r\n",
      "Increase the number of iterations (max_iter) or scale the data as shown in:\r\n",
      "    https://scikit-learn.org/stable/modules/preprocessing.html\r\n",
      "Please also refer to the documentation for alternative solver options:\r\n",
      "    https://scikit-learn.org/stable/modules/linear_model.html#logistic-regression\r\n",
      "  extra_warning_msg=_LOGISTIC_SOLVER_CONVERGENCE_MSG)\r\n",
      "/opt/conda/envs/python35-paddle120-env/lib/python3.7/site-packages/sklearn/linear_model/_logistic.py:765: ConvergenceWarning: lbfgs failed to converge (status=1):\r\n",
      "STOP: TOTAL NO. of ITERATIONS REACHED LIMIT.\r\n",
      "\r\n",
      "Increase the number of iterations (max_iter) or scale the data as shown in:\r\n",
      "    https://scikit-learn.org/stable/modules/preprocessing.html\r\n",
      "Please also refer to the documentation for alternative solver options:\r\n",
      "    https://scikit-learn.org/stable/modules/linear_model.html#logistic-regression\r\n",
      "  extra_warning_msg=_LOGISTIC_SOLVER_CONVERGENCE_MSG)\r\n",
      "/opt/conda/envs/python35-paddle120-env/lib/python3.7/site-packages/sklearn/linear_model/_logistic.py:765: ConvergenceWarning: lbfgs failed to converge (status=1):\r\n",
      "STOP: TOTAL NO. of ITERATIONS REACHED LIMIT.\r\n",
      "\r\n",
      "Increase the number of iterations (max_iter) or scale the data as shown in:\r\n",
      "    https://scikit-learn.org/stable/modules/preprocessing.html\r\n",
      "Please also refer to the documentation for alternative solver options:\r\n",
      "    https://scikit-learn.org/stable/modules/linear_model.html#logistic-regression\r\n",
      "  extra_warning_msg=_LOGISTIC_SOLVER_CONVERGENCE_MSG)\r\n",
      "/opt/conda/envs/python35-paddle120-env/lib/python3.7/site-packages/sklearn/linear_model/_logistic.py:765: ConvergenceWarning: lbfgs failed to converge (status=1):\r\n",
      "STOP: TOTAL NO. of ITERATIONS REACHED LIMIT.\r\n",
      "\r\n",
      "Increase the number of iterations (max_iter) or scale the data as shown in:\r\n",
      "    https://scikit-learn.org/stable/modules/preprocessing.html\r\n",
      "Please also refer to the documentation for alternative solver options:\r\n",
      "    https://scikit-learn.org/stable/modules/linear_model.html#logistic-regression\r\n",
      "  extra_warning_msg=_LOGISTIC_SOLVER_CONVERGENCE_MSG)\r\n",
      "/opt/conda/envs/python35-paddle120-env/lib/python3.7/site-packages/sklearn/linear_model/_logistic.py:765: ConvergenceWarning: lbfgs failed to converge (status=1):\r\n",
      "STOP: TOTAL NO. of ITERATIONS REACHED LIMIT.\r\n",
      "\r\n",
      "Increase the number of iterations (max_iter) or scale the data as shown in:\r\n",
      "    https://scikit-learn.org/stable/modules/preprocessing.html\r\n",
      "Please also refer to the documentation for alternative solver options:\r\n",
      "    https://scikit-learn.org/stable/modules/linear_model.html#logistic-regression\r\n",
      "  extra_warning_msg=_LOGISTIC_SOLVER_CONVERGENCE_MSG)\r\n",
      "/opt/conda/envs/python35-paddle120-env/lib/python3.7/site-packages/sklearn/linear_model/_logistic.py:765: ConvergenceWarning: lbfgs failed to converge (status=1):\r\n",
      "STOP: TOTAL NO. of ITERATIONS REACHED LIMIT.\r\n",
      "\r\n",
      "Increase the number of iterations (max_iter) or scale the data as shown in:\r\n",
      "    https://scikit-learn.org/stable/modules/preprocessing.html\r\n",
      "Please also refer to the documentation for alternative solver options:\r\n",
      "    https://scikit-learn.org/stable/modules/linear_model.html#logistic-regression\r\n",
      "  extra_warning_msg=_LOGISTIC_SOLVER_CONVERGENCE_MSG)\r\n",
      "/opt/conda/envs/python35-paddle120-env/lib/python3.7/site-packages/sklearn/linear_model/_logistic.py:765: ConvergenceWarning: lbfgs failed to converge (status=1):\r\n",
      "STOP: TOTAL NO. of ITERATIONS REACHED LIMIT.\r\n",
      "\r\n",
      "Increase the number of iterations (max_iter) or scale the data as shown in:\r\n",
      "    https://scikit-learn.org/stable/modules/preprocessing.html\r\n",
      "Please also refer to the documentation for alternative solver options:\r\n",
      "    https://scikit-learn.org/stable/modules/linear_model.html#logistic-regression\r\n",
      "  extra_warning_msg=_LOGISTIC_SOLVER_CONVERGENCE_MSG)\r\n",
      "/opt/conda/envs/python35-paddle120-env/lib/python3.7/site-packages/sklearn/linear_model/_logistic.py:765: ConvergenceWarning: lbfgs failed to converge (status=1):\r\n",
      "STOP: TOTAL NO. of ITERATIONS REACHED LIMIT.\r\n",
      "\r\n",
      "Increase the number of iterations (max_iter) or scale the data as shown in:\r\n",
      "    https://scikit-learn.org/stable/modules/preprocessing.html\r\n",
      "Please also refer to the documentation for alternative solver options:\r\n",
      "    https://scikit-learn.org/stable/modules/linear_model.html#logistic-regression\r\n",
      "  extra_warning_msg=_LOGISTIC_SOLVER_CONVERGENCE_MSG)\r\n",
      "/opt/conda/envs/python35-paddle120-env/lib/python3.7/site-packages/sklearn/linear_model/_logistic.py:765: ConvergenceWarning: lbfgs failed to converge (status=1):\r\n",
      "STOP: TOTAL NO. of ITERATIONS REACHED LIMIT.\r\n",
      "\r\n",
      "Increase the number of iterations (max_iter) or scale the data as shown in:\r\n",
      "    https://scikit-learn.org/stable/modules/preprocessing.html\r\n",
      "Please also refer to the documentation for alternative solver options:\r\n",
      "    https://scikit-learn.org/stable/modules/linear_model.html#logistic-regression\r\n",
      "  extra_warning_msg=_LOGISTIC_SOLVER_CONVERGENCE_MSG)\r\n",
      "/opt/conda/envs/python35-paddle120-env/lib/python3.7/site-packages/sklearn/linear_model/_logistic.py:765: ConvergenceWarning: lbfgs failed to converge (status=1):\r\n",
      "STOP: TOTAL NO. of ITERATIONS REACHED LIMIT.\r\n",
      "\r\n",
      "Increase the number of iterations (max_iter) or scale the data as shown in:\r\n",
      "    https://scikit-learn.org/stable/modules/preprocessing.html\r\n",
      "Please also refer to the documentation for alternative solver options:\r\n",
      "    https://scikit-learn.org/stable/modules/linear_model.html#logistic-regression\r\n",
      "  extra_warning_msg=_LOGISTIC_SOLVER_CONVERGENCE_MSG)\r\n",
      "/opt/conda/envs/python35-paddle120-env/lib/python3.7/site-packages/sklearn/linear_model/_logistic.py:765: ConvergenceWarning: lbfgs failed to converge (status=1):\r\n",
      "STOP: TOTAL NO. of ITERATIONS REACHED LIMIT.\r\n",
      "\r\n",
      "Increase the number of iterations (max_iter) or scale the data as shown in:\r\n",
      "    https://scikit-learn.org/stable/modules/preprocessing.html\r\n",
      "Please also refer to the documentation for alternative solver options:\r\n",
      "    https://scikit-learn.org/stable/modules/linear_model.html#logistic-regression\r\n",
      "  extra_warning_msg=_LOGISTIC_SOLVER_CONVERGENCE_MSG)\r\n",
      "/opt/conda/envs/python35-paddle120-env/lib/python3.7/site-packages/sklearn/linear_model/_logistic.py:765: ConvergenceWarning: lbfgs failed to converge (status=1):\r\n",
      "STOP: TOTAL NO. of ITERATIONS REACHED LIMIT.\r\n",
      "\r\n",
      "Increase the number of iterations (max_iter) or scale the data as shown in:\r\n",
      "    https://scikit-learn.org/stable/modules/preprocessing.html\r\n",
      "Please also refer to the documentation for alternative solver options:\r\n",
      "    https://scikit-learn.org/stable/modules/linear_model.html#logistic-regression\r\n",
      "  extra_warning_msg=_LOGISTIC_SOLVER_CONVERGENCE_MSG)\r\n",
      "/opt/conda/envs/python35-paddle120-env/lib/python3.7/site-packages/sklearn/linear_model/_logistic.py:765: ConvergenceWarning: lbfgs failed to converge (status=1):\r\n",
      "STOP: TOTAL NO. of ITERATIONS REACHED LIMIT.\r\n",
      "\r\n",
      "Increase the number of iterations (max_iter) or scale the data as shown in:\r\n",
      "    https://scikit-learn.org/stable/modules/preprocessing.html\r\n",
      "Please also refer to the documentation for alternative solver options:\r\n",
      "    https://scikit-learn.org/stable/modules/linear_model.html#logistic-regression\r\n",
      "  extra_warning_msg=_LOGISTIC_SOLVER_CONVERGENCE_MSG)\r\n",
      "/opt/conda/envs/python35-paddle120-env/lib/python3.7/site-packages/sklearn/linear_model/_logistic.py:765: ConvergenceWarning: lbfgs failed to converge (status=1):\r\n",
      "STOP: TOTAL NO. of ITERATIONS REACHED LIMIT.\r\n",
      "\r\n",
      "Increase the number of iterations (max_iter) or scale the data as shown in:\r\n",
      "    https://scikit-learn.org/stable/modules/preprocessing.html\r\n",
      "Please also refer to the documentation for alternative solver options:\r\n",
      "    https://scikit-learn.org/stable/modules/linear_model.html#logistic-regression\r\n",
      "  extra_warning_msg=_LOGISTIC_SOLVER_CONVERGENCE_MSG)\r\n",
      "/opt/conda/envs/python35-paddle120-env/lib/python3.7/site-packages/sklearn/linear_model/_logistic.py:765: ConvergenceWarning: lbfgs failed to converge (status=1):\r\n",
      "STOP: TOTAL NO. of ITERATIONS REACHED LIMIT.\r\n",
      "\r\n",
      "Increase the number of iterations (max_iter) or scale the data as shown in:\r\n",
      "    https://scikit-learn.org/stable/modules/preprocessing.html\r\n",
      "Please also refer to the documentation for alternative solver options:\r\n",
      "    https://scikit-learn.org/stable/modules/linear_model.html#logistic-regression\r\n",
      "  extra_warning_msg=_LOGISTIC_SOLVER_CONVERGENCE_MSG)\r\n",
      "/opt/conda/envs/python35-paddle120-env/lib/python3.7/site-packages/sklearn/linear_model/_logistic.py:765: ConvergenceWarning: lbfgs failed to converge (status=1):\r\n",
      "STOP: TOTAL NO. of ITERATIONS REACHED LIMIT.\r\n",
      "\r\n",
      "Increase the number of iterations (max_iter) or scale the data as shown in:\r\n",
      "    https://scikit-learn.org/stable/modules/preprocessing.html\r\n",
      "Please also refer to the documentation for alternative solver options:\r\n",
      "    https://scikit-learn.org/stable/modules/linear_model.html#logistic-regression\r\n",
      "  extra_warning_msg=_LOGISTIC_SOLVER_CONVERGENCE_MSG)\r\n",
      "/opt/conda/envs/python35-paddle120-env/lib/python3.7/site-packages/sklearn/linear_model/_logistic.py:765: ConvergenceWarning: lbfgs failed to converge (status=1):\r\n",
      "STOP: TOTAL NO. of ITERATIONS REACHED LIMIT.\r\n",
      "\r\n",
      "Increase the number of iterations (max_iter) or scale the data as shown in:\r\n",
      "    https://scikit-learn.org/stable/modules/preprocessing.html\r\n",
      "Please also refer to the documentation for alternative solver options:\r\n",
      "    https://scikit-learn.org/stable/modules/linear_model.html#logistic-regression\r\n",
      "  extra_warning_msg=_LOGISTIC_SOLVER_CONVERGENCE_MSG)\r\n",
      "/opt/conda/envs/python35-paddle120-env/lib/python3.7/site-packages/sklearn/linear_model/_logistic.py:765: ConvergenceWarning: lbfgs failed to converge (status=1):\r\n",
      "STOP: TOTAL NO. of ITERATIONS REACHED LIMIT.\r\n",
      "\r\n",
      "Increase the number of iterations (max_iter) or scale the data as shown in:\r\n",
      "    https://scikit-learn.org/stable/modules/preprocessing.html\r\n",
      "Please also refer to the documentation for alternative solver options:\r\n",
      "    https://scikit-learn.org/stable/modules/linear_model.html#logistic-regression\r\n",
      "  extra_warning_msg=_LOGISTIC_SOLVER_CONVERGENCE_MSG)\r\n",
      "/opt/conda/envs/python35-paddle120-env/lib/python3.7/site-packages/sklearn/linear_model/_logistic.py:765: ConvergenceWarning: lbfgs failed to converge (status=1):\r\n",
      "STOP: TOTAL NO. of ITERATIONS REACHED LIMIT.\r\n",
      "\r\n",
      "Increase the number of iterations (max_iter) or scale the data as shown in:\r\n",
      "    https://scikit-learn.org/stable/modules/preprocessing.html\r\n",
      "Please also refer to the documentation for alternative solver options:\r\n",
      "    https://scikit-learn.org/stable/modules/linear_model.html#logistic-regression\r\n",
      "  extra_warning_msg=_LOGISTIC_SOLVER_CONVERGENCE_MSG)\r\n",
      "/opt/conda/envs/python35-paddle120-env/lib/python3.7/site-packages/sklearn/linear_model/_logistic.py:765: ConvergenceWarning: lbfgs failed to converge (status=1):\r\n",
      "STOP: TOTAL NO. of ITERATIONS REACHED LIMIT.\r\n",
      "\r\n",
      "Increase the number of iterations (max_iter) or scale the data as shown in:\r\n",
      "    https://scikit-learn.org/stable/modules/preprocessing.html\r\n",
      "Please also refer to the documentation for alternative solver options:\r\n",
      "    https://scikit-learn.org/stable/modules/linear_model.html#logistic-regression\r\n",
      "  extra_warning_msg=_LOGISTIC_SOLVER_CONVERGENCE_MSG)\r\n",
      "/opt/conda/envs/python35-paddle120-env/lib/python3.7/site-packages/sklearn/linear_model/_logistic.py:765: ConvergenceWarning: lbfgs failed to converge (status=1):\r\n",
      "STOP: TOTAL NO. of ITERATIONS REACHED LIMIT.\r\n",
      "\r\n",
      "Increase the number of iterations (max_iter) or scale the data as shown in:\r\n",
      "    https://scikit-learn.org/stable/modules/preprocessing.html\r\n",
      "Please also refer to the documentation for alternative solver options:\r\n",
      "    https://scikit-learn.org/stable/modules/linear_model.html#logistic-regression\r\n",
      "  extra_warning_msg=_LOGISTIC_SOLVER_CONVERGENCE_MSG)\r\n",
      "/opt/conda/envs/python35-paddle120-env/lib/python3.7/site-packages/sklearn/linear_model/_logistic.py:765: ConvergenceWarning: lbfgs failed to converge (status=1):\r\n",
      "STOP: TOTAL NO. of ITERATIONS REACHED LIMIT.\r\n",
      "\r\n",
      "Increase the number of iterations (max_iter) or scale the data as shown in:\r\n",
      "    https://scikit-learn.org/stable/modules/preprocessing.html\r\n",
      "Please also refer to the documentation for alternative solver options:\r\n",
      "    https://scikit-learn.org/stable/modules/linear_model.html#logistic-regression\r\n",
      "  extra_warning_msg=_LOGISTIC_SOLVER_CONVERGENCE_MSG)\r\n",
      "/opt/conda/envs/python35-paddle120-env/lib/python3.7/site-packages/sklearn/linear_model/_logistic.py:765: ConvergenceWarning: lbfgs failed to converge (status=1):\r\n",
      "STOP: TOTAL NO. of ITERATIONS REACHED LIMIT.\r\n",
      "\r\n",
      "Increase the number of iterations (max_iter) or scale the data as shown in:\r\n",
      "    https://scikit-learn.org/stable/modules/preprocessing.html\r\n",
      "Please also refer to the documentation for alternative solver options:\r\n",
      "    https://scikit-learn.org/stable/modules/linear_model.html#logistic-regression\r\n",
      "  extra_warning_msg=_LOGISTIC_SOLVER_CONVERGENCE_MSG)\r\n",
      "/opt/conda/envs/python35-paddle120-env/lib/python3.7/site-packages/sklearn/linear_model/_logistic.py:765: ConvergenceWarning: lbfgs failed to converge (status=1):\r\n",
      "STOP: TOTAL NO. of ITERATIONS REACHED LIMIT.\r\n",
      "\r\n",
      "Increase the number of iterations (max_iter) or scale the data as shown in:\r\n",
      "    https://scikit-learn.org/stable/modules/preprocessing.html\r\n",
      "Please also refer to the documentation for alternative solver options:\r\n",
      "    https://scikit-learn.org/stable/modules/linear_model.html#logistic-regression\r\n",
      "  extra_warning_msg=_LOGISTIC_SOLVER_CONVERGENCE_MSG)\r\n",
      "/opt/conda/envs/python35-paddle120-env/lib/python3.7/site-packages/sklearn/linear_model/_logistic.py:765: ConvergenceWarning: lbfgs failed to converge (status=1):\r\n",
      "STOP: TOTAL NO. of ITERATIONS REACHED LIMIT.\r\n",
      "\r\n",
      "Increase the number of iterations (max_iter) or scale the data as shown in:\r\n",
      "    https://scikit-learn.org/stable/modules/preprocessing.html\r\n",
      "Please also refer to the documentation for alternative solver options:\r\n",
      "    https://scikit-learn.org/stable/modules/linear_model.html#logistic-regression\r\n",
      "  extra_warning_msg=_LOGISTIC_SOLVER_CONVERGENCE_MSG)\r\n",
      "/opt/conda/envs/python35-paddle120-env/lib/python3.7/site-packages/sklearn/linear_model/_logistic.py:765: ConvergenceWarning: lbfgs failed to converge (status=1):\r\n",
      "STOP: TOTAL NO. of ITERATIONS REACHED LIMIT.\r\n",
      "\r\n",
      "Increase the number of iterations (max_iter) or scale the data as shown in:\r\n",
      "    https://scikit-learn.org/stable/modules/preprocessing.html\r\n",
      "Please also refer to the documentation for alternative solver options:\r\n",
      "    https://scikit-learn.org/stable/modules/linear_model.html#logistic-regression\r\n",
      "  extra_warning_msg=_LOGISTIC_SOLVER_CONVERGENCE_MSG)\r\n",
      "/opt/conda/envs/python35-paddle120-env/lib/python3.7/site-packages/sklearn/linear_model/_logistic.py:765: ConvergenceWarning: lbfgs failed to converge (status=1):\r\n",
      "STOP: TOTAL NO. of ITERATIONS REACHED LIMIT.\r\n",
      "\r\n",
      "Increase the number of iterations (max_iter) or scale the data as shown in:\r\n",
      "    https://scikit-learn.org/stable/modules/preprocessing.html\r\n",
      "Please also refer to the documentation for alternative solver options:\r\n",
      "    https://scikit-learn.org/stable/modules/linear_model.html#logistic-regression\r\n",
      "  extra_warning_msg=_LOGISTIC_SOLVER_CONVERGENCE_MSG)\r\n",
      "/opt/conda/envs/python35-paddle120-env/lib/python3.7/site-packages/sklearn/linear_model/_logistic.py:765: ConvergenceWarning: lbfgs failed to converge (status=1):\r\n",
      "STOP: TOTAL NO. of ITERATIONS REACHED LIMIT.\r\n",
      "\r\n",
      "Increase the number of iterations (max_iter) or scale the data as shown in:\r\n",
      "    https://scikit-learn.org/stable/modules/preprocessing.html\r\n",
      "Please also refer to the documentation for alternative solver options:\r\n",
      "    https://scikit-learn.org/stable/modules/linear_model.html#logistic-regression\r\n",
      "  extra_warning_msg=_LOGISTIC_SOLVER_CONVERGENCE_MSG)\r\n",
      "/opt/conda/envs/python35-paddle120-env/lib/python3.7/site-packages/sklearn/linear_model/_logistic.py:765: ConvergenceWarning: lbfgs failed to converge (status=1):\r\n",
      "STOP: TOTAL NO. of ITERATIONS REACHED LIMIT.\r\n",
      "\r\n",
      "Increase the number of iterations (max_iter) or scale the data as shown in:\r\n",
      "    https://scikit-learn.org/stable/modules/preprocessing.html\r\n",
      "Please also refer to the documentation for alternative solver options:\r\n",
      "    https://scikit-learn.org/stable/modules/linear_model.html#logistic-regression\r\n",
      "  extra_warning_msg=_LOGISTIC_SOLVER_CONVERGENCE_MSG)\r\n",
      "/opt/conda/envs/python35-paddle120-env/lib/python3.7/site-packages/sklearn/linear_model/_logistic.py:765: ConvergenceWarning: lbfgs failed to converge (status=1):\r\n",
      "STOP: TOTAL NO. of ITERATIONS REACHED LIMIT.\r\n",
      "\r\n",
      "Increase the number of iterations (max_iter) or scale the data as shown in:\r\n",
      "    https://scikit-learn.org/stable/modules/preprocessing.html\r\n",
      "Please also refer to the documentation for alternative solver options:\r\n",
      "    https://scikit-learn.org/stable/modules/linear_model.html#logistic-regression\r\n",
      "  extra_warning_msg=_LOGISTIC_SOLVER_CONVERGENCE_MSG)\r\n",
      "/opt/conda/envs/python35-paddle120-env/lib/python3.7/site-packages/sklearn/linear_model/_logistic.py:765: ConvergenceWarning: lbfgs failed to converge (status=1):\r\n",
      "STOP: TOTAL NO. of ITERATIONS REACHED LIMIT.\r\n",
      "\r\n",
      "Increase the number of iterations (max_iter) or scale the data as shown in:\r\n",
      "    https://scikit-learn.org/stable/modules/preprocessing.html\r\n",
      "Please also refer to the documentation for alternative solver options:\r\n",
      "    https://scikit-learn.org/stable/modules/linear_model.html#logistic-regression\r\n",
      "  extra_warning_msg=_LOGISTIC_SOLVER_CONVERGENCE_MSG)\r\n",
      "/opt/conda/envs/python35-paddle120-env/lib/python3.7/site-packages/sklearn/linear_model/_logistic.py:765: ConvergenceWarning: lbfgs failed to converge (status=1):\r\n",
      "STOP: TOTAL NO. of ITERATIONS REACHED LIMIT.\r\n",
      "\r\n",
      "Increase the number of iterations (max_iter) or scale the data as shown in:\r\n",
      "    https://scikit-learn.org/stable/modules/preprocessing.html\r\n",
      "Please also refer to the documentation for alternative solver options:\r\n",
      "    https://scikit-learn.org/stable/modules/linear_model.html#logistic-regression\r\n",
      "  extra_warning_msg=_LOGISTIC_SOLVER_CONVERGENCE_MSG)\r\n",
      "/opt/conda/envs/python35-paddle120-env/lib/python3.7/site-packages/sklearn/linear_model/_logistic.py:765: ConvergenceWarning: lbfgs failed to converge (status=1):\r\n",
      "STOP: TOTAL NO. of ITERATIONS REACHED LIMIT.\r\n",
      "\r\n",
      "Increase the number of iterations (max_iter) or scale the data as shown in:\r\n",
      "    https://scikit-learn.org/stable/modules/preprocessing.html\r\n",
      "Please also refer to the documentation for alternative solver options:\r\n",
      "    https://scikit-learn.org/stable/modules/linear_model.html#logistic-regression\r\n",
      "  extra_warning_msg=_LOGISTIC_SOLVER_CONVERGENCE_MSG)\r\n",
      "/opt/conda/envs/python35-paddle120-env/lib/python3.7/site-packages/sklearn/linear_model/_logistic.py:765: ConvergenceWarning: lbfgs failed to converge (status=1):\r\n",
      "STOP: TOTAL NO. of ITERATIONS REACHED LIMIT.\r\n",
      "\r\n",
      "Increase the number of iterations (max_iter) or scale the data as shown in:\r\n",
      "    https://scikit-learn.org/stable/modules/preprocessing.html\r\n",
      "Please also refer to the documentation for alternative solver options:\r\n",
      "    https://scikit-learn.org/stable/modules/linear_model.html#logistic-regression\r\n",
      "  extra_warning_msg=_LOGISTIC_SOLVER_CONVERGENCE_MSG)\r\n",
      "/opt/conda/envs/python35-paddle120-env/lib/python3.7/site-packages/sklearn/linear_model/_logistic.py:765: ConvergenceWarning: lbfgs failed to converge (status=1):\r\n",
      "STOP: TOTAL NO. of ITERATIONS REACHED LIMIT.\r\n",
      "\r\n",
      "Increase the number of iterations (max_iter) or scale the data as shown in:\r\n",
      "    https://scikit-learn.org/stable/modules/preprocessing.html\r\n",
      "Please also refer to the documentation for alternative solver options:\r\n",
      "    https://scikit-learn.org/stable/modules/linear_model.html#logistic-regression\r\n",
      "  extra_warning_msg=_LOGISTIC_SOLVER_CONVERGENCE_MSG)\r\n",
      "/opt/conda/envs/python35-paddle120-env/lib/python3.7/site-packages/sklearn/linear_model/_logistic.py:765: ConvergenceWarning: lbfgs failed to converge (status=1):\r\n",
      "STOP: TOTAL NO. of ITERATIONS REACHED LIMIT.\r\n",
      "\r\n",
      "Increase the number of iterations (max_iter) or scale the data as shown in:\r\n",
      "    https://scikit-learn.org/stable/modules/preprocessing.html\r\n",
      "Please also refer to the documentation for alternative solver options:\r\n",
      "    https://scikit-learn.org/stable/modules/linear_model.html#logistic-regression\r\n",
      "  extra_warning_msg=_LOGISTIC_SOLVER_CONVERGENCE_MSG)\r\n",
      "/opt/conda/envs/python35-paddle120-env/lib/python3.7/site-packages/sklearn/linear_model/_logistic.py:765: ConvergenceWarning: lbfgs failed to converge (status=1):\r\n",
      "STOP: TOTAL NO. of ITERATIONS REACHED LIMIT.\r\n",
      "\r\n",
      "Increase the number of iterations (max_iter) or scale the data as shown in:\r\n",
      "    https://scikit-learn.org/stable/modules/preprocessing.html\r\n",
      "Please also refer to the documentation for alternative solver options:\r\n",
      "    https://scikit-learn.org/stable/modules/linear_model.html#logistic-regression\r\n",
      "  extra_warning_msg=_LOGISTIC_SOLVER_CONVERGENCE_MSG)\r\n",
      "/opt/conda/envs/python35-paddle120-env/lib/python3.7/site-packages/sklearn/linear_model/_logistic.py:765: ConvergenceWarning: lbfgs failed to converge (status=1):\r\n",
      "STOP: TOTAL NO. of ITERATIONS REACHED LIMIT.\r\n",
      "\r\n",
      "Increase the number of iterations (max_iter) or scale the data as shown in:\r\n",
      "    https://scikit-learn.org/stable/modules/preprocessing.html\r\n",
      "Please also refer to the documentation for alternative solver options:\r\n",
      "    https://scikit-learn.org/stable/modules/linear_model.html#logistic-regression\r\n",
      "  extra_warning_msg=_LOGISTIC_SOLVER_CONVERGENCE_MSG)\r\n",
      "/opt/conda/envs/python35-paddle120-env/lib/python3.7/site-packages/sklearn/linear_model/_logistic.py:765: ConvergenceWarning: lbfgs failed to converge (status=1):\r\n",
      "STOP: TOTAL NO. of ITERATIONS REACHED LIMIT.\r\n",
      "\r\n",
      "Increase the number of iterations (max_iter) or scale the data as shown in:\r\n",
      "    https://scikit-learn.org/stable/modules/preprocessing.html\r\n",
      "Please also refer to the documentation for alternative solver options:\r\n",
      "    https://scikit-learn.org/stable/modules/linear_model.html#logistic-regression\r\n",
      "  extra_warning_msg=_LOGISTIC_SOLVER_CONVERGENCE_MSG)\r\n",
      "/opt/conda/envs/python35-paddle120-env/lib/python3.7/site-packages/sklearn/linear_model/_logistic.py:765: ConvergenceWarning: lbfgs failed to converge (status=1):\r\n",
      "STOP: TOTAL NO. of ITERATIONS REACHED LIMIT.\r\n",
      "\r\n",
      "Increase the number of iterations (max_iter) or scale the data as shown in:\r\n",
      "    https://scikit-learn.org/stable/modules/preprocessing.html\r\n",
      "Please also refer to the documentation for alternative solver options:\r\n",
      "    https://scikit-learn.org/stable/modules/linear_model.html#logistic-regression\r\n",
      "  extra_warning_msg=_LOGISTIC_SOLVER_CONVERGENCE_MSG)\r\n",
      "/opt/conda/envs/python35-paddle120-env/lib/python3.7/site-packages/sklearn/linear_model/_logistic.py:765: ConvergenceWarning: lbfgs failed to converge (status=1):\r\n",
      "STOP: TOTAL NO. of ITERATIONS REACHED LIMIT.\r\n",
      "\r\n",
      "Increase the number of iterations (max_iter) or scale the data as shown in:\r\n",
      "    https://scikit-learn.org/stable/modules/preprocessing.html\r\n",
      "Please also refer to the documentation for alternative solver options:\r\n",
      "    https://scikit-learn.org/stable/modules/linear_model.html#logistic-regression\r\n",
      "  extra_warning_msg=_LOGISTIC_SOLVER_CONVERGENCE_MSG)\r\n",
      "/opt/conda/envs/python35-paddle120-env/lib/python3.7/site-packages/sklearn/linear_model/_logistic.py:765: ConvergenceWarning: lbfgs failed to converge (status=1):\r\n",
      "STOP: TOTAL NO. of ITERATIONS REACHED LIMIT.\r\n",
      "\r\n",
      "Increase the number of iterations (max_iter) or scale the data as shown in:\r\n",
      "    https://scikit-learn.org/stable/modules/preprocessing.html\r\n",
      "Please also refer to the documentation for alternative solver options:\r\n",
      "    https://scikit-learn.org/stable/modules/linear_model.html#logistic-regression\r\n",
      "  extra_warning_msg=_LOGISTIC_SOLVER_CONVERGENCE_MSG)\r\n",
      "/opt/conda/envs/python35-paddle120-env/lib/python3.7/site-packages/sklearn/linear_model/_logistic.py:765: ConvergenceWarning: lbfgs failed to converge (status=1):\r\n",
      "STOP: TOTAL NO. of ITERATIONS REACHED LIMIT.\r\n",
      "\r\n",
      "Increase the number of iterations (max_iter) or scale the data as shown in:\r\n",
      "    https://scikit-learn.org/stable/modules/preprocessing.html\r\n",
      "Please also refer to the documentation for alternative solver options:\r\n",
      "    https://scikit-learn.org/stable/modules/linear_model.html#logistic-regression\r\n",
      "  extra_warning_msg=_LOGISTIC_SOLVER_CONVERGENCE_MSG)\r\n",
      "/opt/conda/envs/python35-paddle120-env/lib/python3.7/site-packages/sklearn/linear_model/_logistic.py:765: ConvergenceWarning: lbfgs failed to converge (status=1):\r\n",
      "STOP: TOTAL NO. of ITERATIONS REACHED LIMIT.\r\n",
      "\r\n",
      "Increase the number of iterations (max_iter) or scale the data as shown in:\r\n",
      "    https://scikit-learn.org/stable/modules/preprocessing.html\r\n",
      "Please also refer to the documentation for alternative solver options:\r\n",
      "    https://scikit-learn.org/stable/modules/linear_model.html#logistic-regression\r\n",
      "  extra_warning_msg=_LOGISTIC_SOLVER_CONVERGENCE_MSG)\r\n",
      "/opt/conda/envs/python35-paddle120-env/lib/python3.7/site-packages/sklearn/linear_model/_logistic.py:765: ConvergenceWarning: lbfgs failed to converge (status=1):\r\n",
      "STOP: TOTAL NO. of ITERATIONS REACHED LIMIT.\r\n",
      "\r\n",
      "Increase the number of iterations (max_iter) or scale the data as shown in:\r\n",
      "    https://scikit-learn.org/stable/modules/preprocessing.html\r\n",
      "Please also refer to the documentation for alternative solver options:\r\n",
      "    https://scikit-learn.org/stable/modules/linear_model.html#logistic-regression\r\n",
      "  extra_warning_msg=_LOGISTIC_SOLVER_CONVERGENCE_MSG)\r\n",
      "/opt/conda/envs/python35-paddle120-env/lib/python3.7/site-packages/sklearn/linear_model/_logistic.py:765: ConvergenceWarning: lbfgs failed to converge (status=1):\r\n",
      "STOP: TOTAL NO. of ITERATIONS REACHED LIMIT.\r\n",
      "\r\n",
      "Increase the number of iterations (max_iter) or scale the data as shown in:\r\n",
      "    https://scikit-learn.org/stable/modules/preprocessing.html\r\n",
      "Please also refer to the documentation for alternative solver options:\r\n",
      "    https://scikit-learn.org/stable/modules/linear_model.html#logistic-regression\r\n",
      "  extra_warning_msg=_LOGISTIC_SOLVER_CONVERGENCE_MSG)\r\n",
      "/opt/conda/envs/python35-paddle120-env/lib/python3.7/site-packages/sklearn/linear_model/_logistic.py:765: ConvergenceWarning: lbfgs failed to converge (status=1):\r\n",
      "STOP: TOTAL NO. of ITERATIONS REACHED LIMIT.\r\n",
      "\r\n",
      "Increase the number of iterations (max_iter) or scale the data as shown in:\r\n",
      "    https://scikit-learn.org/stable/modules/preprocessing.html\r\n",
      "Please also refer to the documentation for alternative solver options:\r\n",
      "    https://scikit-learn.org/stable/modules/linear_model.html#logistic-regression\r\n",
      "  extra_warning_msg=_LOGISTIC_SOLVER_CONVERGENCE_MSG)\r\n",
      "/opt/conda/envs/python35-paddle120-env/lib/python3.7/site-packages/sklearn/linear_model/_logistic.py:765: ConvergenceWarning: lbfgs failed to converge (status=1):\r\n",
      "STOP: TOTAL NO. of ITERATIONS REACHED LIMIT.\r\n",
      "\r\n",
      "Increase the number of iterations (max_iter) or scale the data as shown in:\r\n",
      "    https://scikit-learn.org/stable/modules/preprocessing.html\r\n",
      "Please also refer to the documentation for alternative solver options:\r\n",
      "    https://scikit-learn.org/stable/modules/linear_model.html#logistic-regression\r\n",
      "  extra_warning_msg=_LOGISTIC_SOLVER_CONVERGENCE_MSG)\r\n",
      "/opt/conda/envs/python35-paddle120-env/lib/python3.7/site-packages/sklearn/linear_model/_logistic.py:765: ConvergenceWarning: lbfgs failed to converge (status=1):\r\n",
      "STOP: TOTAL NO. of ITERATIONS REACHED LIMIT.\r\n",
      "\r\n",
      "Increase the number of iterations (max_iter) or scale the data as shown in:\r\n",
      "    https://scikit-learn.org/stable/modules/preprocessing.html\r\n",
      "Please also refer to the documentation for alternative solver options:\r\n",
      "    https://scikit-learn.org/stable/modules/linear_model.html#logistic-regression\r\n",
      "  extra_warning_msg=_LOGISTIC_SOLVER_CONVERGENCE_MSG)\r\n",
      "/opt/conda/envs/python35-paddle120-env/lib/python3.7/site-packages/sklearn/linear_model/_logistic.py:765: ConvergenceWarning: lbfgs failed to converge (status=1):\r\n",
      "STOP: TOTAL NO. of ITERATIONS REACHED LIMIT.\r\n",
      "\r\n",
      "Increase the number of iterations (max_iter) or scale the data as shown in:\r\n",
      "    https://scikit-learn.org/stable/modules/preprocessing.html\r\n",
      "Please also refer to the documentation for alternative solver options:\r\n",
      "    https://scikit-learn.org/stable/modules/linear_model.html#logistic-regression\r\n",
      "  extra_warning_msg=_LOGISTIC_SOLVER_CONVERGENCE_MSG)\r\n",
      "/opt/conda/envs/python35-paddle120-env/lib/python3.7/site-packages/sklearn/linear_model/_logistic.py:765: ConvergenceWarning: lbfgs failed to converge (status=1):\r\n",
      "STOP: TOTAL NO. of ITERATIONS REACHED LIMIT.\r\n",
      "\r\n",
      "Increase the number of iterations (max_iter) or scale the data as shown in:\r\n",
      "    https://scikit-learn.org/stable/modules/preprocessing.html\r\n",
      "Please also refer to the documentation for alternative solver options:\r\n",
      "    https://scikit-learn.org/stable/modules/linear_model.html#logistic-regression\r\n",
      "  extra_warning_msg=_LOGISTIC_SOLVER_CONVERGENCE_MSG)\r\n"
     ]
    },
    {
     "name": "stdout",
     "output_type": "stream",
     "text": [
      "BEST PARAMS: {'final_estimator': LogisticRegression(C=10), 'gb__n_estimators': 50, 'passthrough': False, 'rf__n_estimators': 50}\r\n",
      "\r\n",
      "0.771 (+/-0.078) for {'final_estimator': LogisticRegression(C=0.1), 'gb__n_estimators': 50, 'passthrough': True, 'rf__n_estimators': 50}\r\n",
      "0.774 (+/-0.075) for {'final_estimator': LogisticRegression(C=0.1), 'gb__n_estimators': 50, 'passthrough': True, 'rf__n_estimators': 100}\r\n",
      "0.756 (+/-0.054) for {'final_estimator': LogisticRegression(C=0.1), 'gb__n_estimators': 50, 'passthrough': False, 'rf__n_estimators': 50}\r\n",
      "0.766 (+/-0.061) for {'final_estimator': LogisticRegression(C=0.1), 'gb__n_estimators': 50, 'passthrough': False, 'rf__n_estimators': 100}\r\n",
      "0.771 (+/-0.078) for {'final_estimator': LogisticRegression(C=0.1), 'gb__n_estimators': 100, 'passthrough': True, 'rf__n_estimators': 50}\r\n",
      "0.771 (+/-0.078) for {'final_estimator': LogisticRegression(C=0.1), 'gb__n_estimators': 100, 'passthrough': True, 'rf__n_estimators': 100}\r\n",
      "0.764 (+/-0.044) for {'final_estimator': LogisticRegression(C=0.1), 'gb__n_estimators': 100, 'passthrough': False, 'rf__n_estimators': 50}\r\n",
      "0.749 (+/-0.036) for {'final_estimator': LogisticRegression(C=0.1), 'gb__n_estimators': 100, 'passthrough': False, 'rf__n_estimators': 100}\r\n",
      "0.766 (+/-0.044) for {'final_estimator': LogisticRegression(C=1), 'gb__n_estimators': 50, 'passthrough': True, 'rf__n_estimators': 50}\r\n",
      "0.759 (+/-0.041) for {'final_estimator': LogisticRegression(C=1), 'gb__n_estimators': 50, 'passthrough': True, 'rf__n_estimators': 100}\r\n",
      "0.779 (+/-0.061) for {'final_estimator': LogisticRegression(C=1), 'gb__n_estimators': 50, 'passthrough': False, 'rf__n_estimators': 50}\r\n",
      "0.766 (+/-0.065) for {'final_estimator': LogisticRegression(C=1), 'gb__n_estimators': 50, 'passthrough': False, 'rf__n_estimators': 100}\r\n",
      "0.771 (+/-0.049) for {'final_estimator': LogisticRegression(C=1), 'gb__n_estimators': 100, 'passthrough': True, 'rf__n_estimators': 50}\r\n",
      "0.771 (+/-0.04) for {'final_estimator': LogisticRegression(C=1), 'gb__n_estimators': 100, 'passthrough': True, 'rf__n_estimators': 100}\r\n",
      "0.764 (+/-0.041) for {'final_estimator': LogisticRegression(C=1), 'gb__n_estimators': 100, 'passthrough': False, 'rf__n_estimators': 50}\r\n",
      "0.774 (+/-0.053) for {'final_estimator': LogisticRegression(C=1), 'gb__n_estimators': 100, 'passthrough': False, 'rf__n_estimators': 100}\r\n",
      "0.754 (+/-0.053) for {'final_estimator': LogisticRegression(C=10), 'gb__n_estimators': 50, 'passthrough': True, 'rf__n_estimators': 50}\r\n",
      "0.759 (+/-0.038) for {'final_estimator': LogisticRegression(C=10), 'gb__n_estimators': 50, 'passthrough': True, 'rf__n_estimators': 100}\r\n",
      "0.784 (+/-0.071) for {'final_estimator': LogisticRegression(C=10), 'gb__n_estimators': 50, 'passthrough': False, 'rf__n_estimators': 50}\r\n",
      "0.771 (+/-0.074) for {'final_estimator': LogisticRegression(C=10), 'gb__n_estimators': 50, 'passthrough': False, 'rf__n_estimators': 100}\r\n",
      "0.769 (+/-0.037) for {'final_estimator': LogisticRegression(C=10), 'gb__n_estimators': 100, 'passthrough': True, 'rf__n_estimators': 50}\r\n",
      "0.764 (+/-0.037) for {'final_estimator': LogisticRegression(C=10), 'gb__n_estimators': 100, 'passthrough': True, 'rf__n_estimators': 100}\r\n",
      "0.764 (+/-0.043) for {'final_estimator': LogisticRegression(C=10), 'gb__n_estimators': 100, 'passthrough': False, 'rf__n_estimators': 50}\r\n",
      "0.776 (+/-0.053) for {'final_estimator': LogisticRegression(C=10), 'gb__n_estimators': 100, 'passthrough': False, 'rf__n_estimators': 100}\r\n"
     ]
    }
   ],
   "source": [
    "from sklearn.linear_model import LogisticRegression \n",
    "# Stacking example\n",
    "estimators = [('rf', RandomForestClassifier()),\n",
    "              ('gb', GradientBoostingClassifier())]\n",
    "\n",
    "sc = StackingClassifier(estimators=estimators)\n",
    "sc.get_params()\n",
    "parameters = {\n",
    "    'gb__n_estimators': [50, 100],\n",
    "    'rf__n_estimators': [50, 100],\n",
    "    'final_estimator': [LogisticRegression(C=0.1),\n",
    "                        LogisticRegression(C=1),\n",
    "                        LogisticRegression(C=10)],\n",
    "    'passthrough': [True, False]\n",
    "}\n",
    "cv_stack_model = grid_search(sc, parameters, X_train_stroke, y_train_stroke)"
   ]
  },
  {
   "cell_type": "code",
   "execution_count": 19,
   "metadata": {
    "execution": {
     "iopub.execute_input": "2023-05-04T03:39:58.434494Z",
     "iopub.status.busy": "2023-05-04T03:39:58.434084Z",
     "iopub.status.idle": "2023-05-04T03:39:58.441403Z",
     "shell.execute_reply": "2023-05-04T03:39:58.440715Z",
     "shell.execute_reply.started": "2023-05-04T03:39:58.434465Z"
    },
    "scrolled": true
   },
   "outputs": [
    {
     "data": {
      "text/plain": [
       "1    249\n",
       "0    249\n",
       "Name: stroke, dtype: int64"
      ]
     },
     "execution_count": 19,
     "metadata": {},
     "output_type": "execute_result"
    }
   ],
   "source": [
    "y_resample.value_counts()"
   ]
  },
  {
   "cell_type": "code",
   "execution_count": 35,
   "metadata": {
    "execution": {
     "iopub.execute_input": "2023-05-04T03:40:54.324096Z",
     "iopub.status.busy": "2023-05-04T03:40:54.323367Z",
     "iopub.status.idle": "2023-05-04T03:40:55.799201Z",
     "shell.execute_reply": "2023-05-04T03:40:55.798230Z",
     "shell.execute_reply.started": "2023-05-04T03:40:54.324064Z"
    },
    "scrolled": true,
    "tags": []
   },
   "outputs": [
    {
     "name": "stdout",
     "output_type": "stream",
     "text": [
      "boosting :stroke\n",
      "Accuracy: 0.7900\n",
      "Recall: 0.8776\n",
      "Precision: 0.7414\n",
      "F1 Score: 0.8037\n",
      "              precision    recall  f1-score   support\n",
      "\n",
      "           0       0.86      0.71      0.77        51\n",
      "           1       0.74      0.88      0.80        49\n",
      "\n",
      "    accuracy                           0.79       100\n",
      "   macro avg       0.80      0.79      0.79       100\n",
      "weighted avg       0.80      0.79      0.79       100\n",
      "\n",
      "stacking:\n",
      "Accuracy: 0.7700\n",
      "Recall: 0.8367\n",
      "Precision: 0.7321\n",
      "F1 Score: 0.7810\n",
      "              precision    recall  f1-score   support\n",
      "\n",
      "           0       0.82      0.71      0.76        51\n",
      "           1       0.73      0.84      0.78        49\n",
      "\n",
      "    accuracy                           0.77       100\n",
      "   macro avg       0.78      0.77      0.77       100\n",
      "weighted avg       0.78      0.77      0.77       100\n",
      "\n",
      "bagging:\n",
      "Accuracy: 0.7500\n",
      "Recall: 0.8980\n",
      "Precision: 0.6875\n",
      "F1 Score: 0.7788\n",
      "              precision    recall  f1-score   support\n",
      "\n",
      "           0       0.86      0.61      0.71        51\n",
      "           1       0.69      0.90      0.78        49\n",
      "\n",
      "    accuracy                           0.75       100\n",
      "   macro avg       0.77      0.75      0.75       100\n",
      "weighted avg       0.78      0.75      0.75       100\n",
      "\n"
     ]
    }
   ],
   "source": [
    "from sklearn.metrics import classification_report\n",
    "\n",
    "boosting = GradientBoostingClassifier(min_samples_leaf=4, n_estimators=50, random_state=42,max_depth=3)\n",
    "#stacking = StackingClassifier(estimators= [('rf', RandomForestClassifier(n_estimators=50)),('gb', GradientBoostingClassifier(n_estimators=100))])\n",
    "estimators = [('rf', RandomForestClassifier(n_estimators=50)),\n",
    "              ('gb', GradientBoostingClassifier(n_estimators=100))]\n",
    "stacking=StackingClassifier(estimators=estimators,final_estimator=LogisticRegression(C=10),passthrough=False)\n",
    "bagging = RandomForestClassifier(max_depth=4, n_estimators=250)\n",
    "\n",
    "boosting.fit(X_train_stroke, y_train_stroke)\n",
    "y_pred_boosting = boosting.predict(X_test_stroke)\n",
    "\n",
    "accuracy_stroke = accuracy_score(y_test_stroke, y_pred_boosting)\n",
    "recall_stroke = recall_score(y_test_stroke, y_pred_boosting)\n",
    "precision_stroke = precision_score(y_test_stroke, y_pred_boosting)\n",
    "f1_score_stroke = f1_score(y_test_stroke, y_pred_boosting)\n",
    "\n",
    "report_1 = classification_report(y_test_stroke, y_pred_boosting)\n",
    "\n",
    "print(f\"boosting :stroke\")\n",
    "print(f\"Accuracy: {accuracy_stroke:.4f}\")\n",
    "print(f\"Recall: {recall_stroke:.4f}\")\n",
    "print(f\"Precision: {precision_stroke:.4f}\")\n",
    "print(f\"F1 Score: {f1_score_stroke:.4f}\")\n",
    "print(report_1)\n",
    "\n",
    "\n",
    "\n",
    "stacking.fit(X_train_stroke, y_train_stroke)\n",
    "y_pred_stacking = stacking.predict(X_test_stroke)\n",
    "\n",
    "accuracy_stroke = accuracy_score(y_test_stroke, y_pred_stacking)\n",
    "recall_stroke= recall_score(y_test_stroke, y_pred_stacking)\n",
    "precision_stroke = precision_score(y_test_stroke, y_pred_stacking)\n",
    "f1_score_stroke = f1_score(y_test_stroke, y_pred_stacking)\n",
    "\n",
    "report_2 = classification_report(y_test_stroke, y_pred_stacking)\n",
    "print(f\"stacking:\")\n",
    "print(f\"Accuracy: {accuracy_stroke:.4f}\")\n",
    "print(f\"Recall: {recall_stroke:.4f}\")\n",
    "print(f\"Precision: {precision_stroke:.4f}\")\n",
    "print(f\"F1 Score: {f1_score_stroke:.4f}\")\n",
    "print(report_2)\n",
    "\n",
    "\n",
    "bagging.fit(X_train_stroke, y_train_stroke)\n",
    "y_pred_stacking = bagging.predict(X_test_stroke)\n",
    "\n",
    "accuracy_stroke = accuracy_score(y_test_stroke, y_pred_stacking)\n",
    "recall_stroke= recall_score(y_test_stroke, y_pred_stacking)\n",
    "precision_stroke = precision_score(y_test_stroke, y_pred_stacking)\n",
    "f1_score_stroke = f1_score(y_test_stroke, y_pred_stacking)\n",
    "\n",
    "report_3 = classification_report(y_test_stroke, y_pred_stacking)\n",
    "\n",
    "print(f\"bagging:\")\n",
    "print(f\"Accuracy: {accuracy_stroke:.4f}\")\n",
    "print(f\"Recall: {recall_stroke:.4f}\")\n",
    "print(f\"Precision: {precision_stroke:.4f}\")\n",
    "print(f\"F1 Score: {f1_score_stroke:.4f}\")\n",
    "print(report_3)\n",
    "\n",
    "#Ensemble models \n",
    "ensembles = [] \n",
    "ensembles.append(('Boosting', boosting))\n",
    "ensembles.append(('Bagging',bagging))\n",
    "ensembles.append(('Stacking',stacking))"
   ]
  },
  {
   "cell_type": "code",
   "execution_count": 48,
   "metadata": {
    "scrolled": true
   },
   "outputs": [
    {
     "name": "stdout",
     "output_type": "stream",
     "text": [
      "Method_Boosting| mean:0.7561392405063291  std:0.040960957411248895\r\n",
      "Method_Bagging| mean:0.7764240506329114  std:0.025135827142165307\r\n",
      "Method_Stacking| mean:0.7713607594936709  std:0.01450320287960642\r\n"
     ]
    }
   ],
   "source": [
    "results = []\n",
    "names = []\n",
    "seed = 0\n",
    "for name, model in ensembles:\n",
    "    cv_results = cross_val_score(model, X_train_stroke, y_train_stroke, cv=5, scoring= 'accuracy')\n",
    "    results.append(cv_results) \n",
    "    names.append(name)\n",
    "    print(f'Method_{name}| mean:{cv_results.mean()}  std:{cv_results.std()}')"
   ]
  },
  {
   "cell_type": "code",
   "execution_count": 49,
   "metadata": {
    "scrolled": true
   },
   "outputs": [
    {
     "data": {
      "image/png": "[encoded data removed]",
      "text/plain": [
       "<Figure size 576x432 with 1 Axes>"
      ]
     },
     "metadata": {},
     "output_type": "display_data"
    }
   ],
   "source": [
    "from matplotlib import pyplot\n",
    "pyplot.rcParams.update({'font.size': 15})\n",
    "fig, ax = pyplot.subplots(figsize=(8, 6))\n",
    "fig.suptitle('Algorithm Comparison')\n",
    "pyplot.boxplot(results, showfliers=False)\n",
    "ax.set_xticklabels(names)\n",
    "pyplot.tight_layout()\n",
    "pyplot.show()"
   ]
  },
  {
   "cell_type": "code",
   "execution_count": 50,
   "metadata": {
    "scrolled": true
   },
   "outputs": [
    {
     "name": "stdout",
     "output_type": "stream",
     "text": [
      "Method_Boosting| mean:0.8  std:0.0670820393249937\r\n",
      "Method_Bagging| mean:0.86  std:0.025495097567963948\r\n",
      "Method_Stacking| mean:0.8300000000000001  std:0.07648529270389176\r\n"
     ]
    },
    {
     "data": {
      "image/png": "[encoded data removed]",
      "text/plain": [
       "<Figure size 576x432 with 1 Axes>"
      ]
     },
     "metadata": {},
     "output_type": "display_data"
    }
   ],
   "source": [
    "results = []\n",
    "names = []\n",
    "seed = 0\n",
    "for name, model in ensembles:\n",
    "    cv_results = cross_val_score(model, X_train_stroke, y_train_stroke, cv=5, scoring= 'recall') \n",
    "    results.append(cv_results)\n",
    "    names.append(name)\n",
    "    print(f'Method_{name}| mean:{cv_results.mean()}  std:{cv_results.std()}')\n",
    "from matplotlib import pyplot\n",
    "pyplot.rcParams.update({'font.size': 15})\n",
    "fig, ax = pyplot.subplots(figsize=(8, 6))\n",
    "fig.suptitle('Algorithm Comparison')\n",
    "pyplot.boxplot(results, showfliers=False)\n",
    "ax.set_xticklabels(names)\n",
    "pyplot.tight_layout()\n",
    "pyplot.show()"
   ]
  },
  {
   "cell_type": "code",
   "execution_count": 51,
   "metadata": {
    "scrolled": true
   },
   "outputs": [
    {
     "name": "stdout",
     "output_type": "stream",
     "text": [
      "[[31 20]\r\n",
      " [ 4 45]]\r\n"
     ]
    },
    {
     "data": {
      "text/plain": [
       "Text(30.5, 0.5, 'true')"
      ]
     },
     "execution_count": 51,
     "metadata": {},
     "output_type": "execute_result"
    },
    {
     "data": {
      "image/png": "[encoded data removed]",
      "text/plain": [
       "<Figure size 432x288 with 2 Axes>"
      ]
     },
     "metadata": {},
     "output_type": "display_data"
    }
   ],
   "source": [
    "import seaborn as sns\n",
    "from sklearn.metrics import confusion_matrix\n",
    "import matplotlib.pyplot as plt\n",
    "sns.set()\n",
    "f,ax = plt.subplots()\n",
    "y_pred_stacking = bagging.predict(X_test_stroke)\n",
    "C2 = confusion_matrix(y_test_stroke, y_pred_stacking,labels=[0,1])\n",
    "\n",
    "print(C2)\n",
    "sns.heatmap(C2,annot=True,ax=ax,fmt='.20g') \n",
    "\n",
    "ax.set_xlabel('predict') \n",
    "ax.set_ylabel('true') "
   ]
  },
  {
   "cell_type": "code",
   "execution_count": null,
   "metadata": {
    "scrolled": true
   },
   "outputs": [],
   "source": []
  },
  {
   "cell_type": "code",
   "execution_count": null,
   "metadata": {
    "scrolled": true
   },
   "outputs": [],
   "source": []
  }
 ],
 "metadata": {
  "kernelspec": {
   "display_name": "Python 3",
   "language": "python",
   "name": "python3"
  },
  "language_info": {
   "codemirror_mode": {
    "name": "ipython",
    "version": 3
   },
   "file_extension": ".py",
   "mimetype": "text/x-python",
   "name": "python",
   "nbconvert_exporter": "python",
   "pygments_lexer": "ipython3",
   "version": "3.7.9"
  },
  "toc": {
   "base_numbering": 1,
   "nav_menu": {},
   "number_sections": true,
   "sideBar": true,
   "skip_h1_title": false,
   "title_cell": "Table of Contents",
   "title_sidebar": "Contents",
   "toc_cell": false,
   "toc_position": {
    "height": "calc(100% - 180px)",
    "left": "10px",
    "top": "150px",
    "width": "328.681px"
   },
   "toc_section_display": true,
   "toc_window_display": true
  }
 },
 "nbformat": 4,
 "nbformat_minor": 5
}
